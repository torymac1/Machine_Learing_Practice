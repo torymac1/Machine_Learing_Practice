{
  "nbformat": 4,
  "nbformat_minor": 0,
  "metadata": {
    "colab": {
      "name": "Action_CNN_modified.ipynb",
      "version": "0.3.2",
      "views": {},
      "default_view": {},
      "provenance": [
        {
          "file_id": "1NTFLRWau_4gglwpDC66GLA_M9JYITCuK",
          "timestamp": 1522016973264
        }
      ],
      "collapsed_sections": [
        "ck91JYl4DkqK",
        "kz_LvxpnDkqk",
        "YHWHaY-MDkqn",
        "S7ZGoW6eDkqv",
        "XkVzmlIWDkrM",
        "hthXjCWzDkrU"
      ]
    },
    "kernelspec": {
      "name": "python2",
      "display_name": "Python 2"
    },
    "accelerator": "GPU"
  },
  "cells": [
    {
      "metadata": {
        "id": "Y-Vmr2DTDkps",
        "colab_type": "text"
      },
      "cell_type": "markdown",
      "source": [
        "# Training a ConvNet PyTorch\n",
        "\n",
        "In this notebook, you'll learn how to use the powerful PyTorch framework to specify a conv net architecture and train it on the human action recognition dataset. \n"
      ]
    },
    {
      "metadata": {
        "id": "M_72LkVVn-B_",
        "colab_type": "code",
        "colab": {
          "autoexec": {
            "startup": false,
            "wait_interval": 0
          }
        }
      },
      "cell_type": "code",
      "source": [
        "# # upload data.zip to colab\n",
        "\n",
        "# from google.colab import files\n",
        "\n",
        "# uploaded = files.upload()\n",
        "\n",
        "# for fn in uploaded.keys():\n",
        "#   print('User uploaded file \"{name}\" with length {length} bytes'.format(\n",
        "#       name=fn, length=len(uploaded[fn])))\n",
        "\n",
        "\n",
        "import zipfile\n",
        "with zipfile.ZipFile(\"data.zip\",\"r\") as zip_ref:\n",
        "    zip_ref.extractall(\"targetdir\")"
      ],
      "execution_count": 0,
      "outputs": []
    },
    {
      "metadata": {
        "id": "7ZlZbjGwDtYl",
        "colab_type": "code",
        "colab": {
          "autoexec": {
            "startup": false,
            "wait_interval": 0
          }
        }
      },
      "cell_type": "code",
      "source": [
        "# http://pytorch.org/\n",
        "# install pytorch\n",
        "from os import path\n",
        "from wheel.pep425tags import get_abbr_impl, get_impl_ver, get_abi_tag\n",
        "platform = '{}{}-{}'.format(get_abbr_impl(), get_impl_ver(), get_abi_tag())\n",
        "\n",
        "accelerator = 'cu80' if path.exists('/opt/bin/nvidia-smi') else 'cpu'\n",
        "\n",
        "!pip install -q http://download.pytorch.org/whl/{accelerator}/torch-0.3.0.post4-{platform}-linux_x86_64.whl torchvision\n"
      ],
      "execution_count": 0,
      "outputs": []
    },
    {
      "metadata": {
        "id": "2zR782kMDkpu",
        "colab_type": "code",
        "colab": {
          "autoexec": {
            "startup": false,
            "wait_interval": 0
          }
        }
      },
      "cell_type": "code",
      "source": [
        "import torch\n",
        "import torch.nn as nn\n",
        "import torch.optim as optim\n",
        "from torch.autograd import Variable\n",
        "from torch.utils.data import DataLoader,sampler,Dataset\n",
        "import torchvision.datasets as dset\n",
        "import torchvision.transforms as T\n",
        "import timeit\n",
        "from PIL import Image\n",
        "import os\n",
        "import numpy as np\n",
        "import scipy.io\n",
        "import copy\n",
        "\n",
        "\n",
        "# fix bug in colab\n",
        "def register_extension(id, extension):\n",
        "    Image.EXTENSION[extension.lower()] = id.upper()\n",
        "Image.register_extension = register_extension\n",
        "def register_extensions(id, extensions):\n",
        "    for extension in extensions:\n",
        "        register_extension(id, extension)\n",
        "Image.register_extensions = register_extensions"
      ],
      "execution_count": 0,
      "outputs": []
    },
    {
      "metadata": {
        "id": "TqmUKYHlDkpx",
        "colab_type": "text"
      },
      "cell_type": "markdown",
      "source": [
        "## What's this PyTorch business?\n",
        "\n",
        "* When using a framework like PyTorch or TensorFlow you can harness the power of the GPU for your own custom neural network architectures without having to write CUDA code directly.\n",
        "* this notebook will walk you through much of what you need to do to train models using pytorch. if you want to learn more or need further clarification on topics that aren't fully explained here, here are 2 good Pytorch tutorials. 1): http://pytorch.org/tutorials/beginner/deep_learning_60min_blitz.html 2)http://pytorch.org/tutorials/beginner/pytorch_with_examples.html\n",
        "* It's not necessary to have a GPU for this homework, using a GPU can make your code run faster.\n"
      ]
    },
    {
      "metadata": {
        "id": "fo8Cjw0TtUHX",
        "colab_type": "code",
        "colab": {
          "autoexec": {
            "startup": false,
            "wait_interval": 0
          },
          "base_uri": "https://localhost:8080/",
          "height": 102
        },
        "outputId": "b71f3bbf-4617-4412-e606-cf6c40f94444",
        "executionInfo": {
          "status": "ok",
          "timestamp": 1523234622692,
          "user_tz": 240,
          "elapsed": 3337,
          "user": {
            "displayName": "Sangtian Wang",
            "photoUrl": "https://lh3.googleusercontent.com/a/default-user=s128",
            "userId": "114974396457600215662"
          }
        }
      },
      "cell_type": "code",
      "source": [
        "!pip install --no-cache-dir -I pillow"
      ],
      "execution_count": 7,
      "outputs": [
        {
          "output_type": "stream",
          "text": [
            "Collecting pillow\n",
            "  Downloading Pillow-5.1.0-cp27-cp27mu-manylinux1_x86_64.whl (2.0MB)\n",
            "\u001b[K    100% |████████████████████████████████| 2.0MB 12.5MB/s \n",
            "\u001b[?25hInstalling collected packages: pillow\n",
            "Successfully installed pillow-5.1.0\n"
          ],
          "name": "stdout"
        }
      ]
    },
    {
      "metadata": {
        "id": "l4eAoqFsDkpx",
        "colab_type": "text"
      },
      "cell_type": "markdown",
      "source": [
        "## Load Datasets\n",
        "\n",
        "In this part, we will load the action recognition dataset for the neural network. In order to load data from our custom dataset, we need to write a custom Dataloader. If you put q3_2_data.mat, /valClips,/trainClips,/testClips under the folder of ./data/ , you do not need to change anything in this part."
      ]
    },
    {
      "metadata": {
        "id": "A2HBmtVdDkpy",
        "colab_type": "text"
      },
      "cell_type": "markdown",
      "source": [
        "First, load the labels of the dataset, you should write your path of the q3_2_data.mat file."
      ]
    },
    {
      "metadata": {
        "id": "-Zr51cwdDkpy",
        "colab_type": "code",
        "colab": {
          "autoexec": {
            "startup": false,
            "wait_interval": 0
          },
          "base_uri": "https://localhost:8080/",
          "height": 51
        },
        "outputId": "bb5003e2-2c04-4912-bc93-6dfcb43875b6",
        "executionInfo": {
          "status": "ok",
          "timestamp": 1523234626672,
          "user_tz": 240,
          "elapsed": 434,
          "user": {
            "displayName": "Sangtian Wang",
            "photoUrl": "https://lh3.googleusercontent.com/a/default-user=s128",
            "userId": "114974396457600215662"
          }
        }
      },
      "cell_type": "code",
      "source": [
        "label_mat=scipy.io.loadmat('/content/targetdir/data/q3_2_data.mat')\n",
        "label_train=label_mat['trLb']\n",
        "print(len(label_train))\n",
        "label_val=label_mat['valLb']\n",
        "print(len(label_val))"
      ],
      "execution_count": 8,
      "outputs": [
        {
          "output_type": "stream",
          "text": [
            "7770\n",
            "2230\n"
          ],
          "name": "stdout"
        }
      ]
    },
    {
      "metadata": {
        "id": "LA2eXfmXDkp3",
        "colab_type": "text"
      },
      "cell_type": "markdown",
      "source": [
        "### Dataset class\n",
        "\n",
        "torch.utils.data.Dataset is an abstract class representing a dataset. The custom dataset should inherit Dataset and override the following methods:\n",
        "\n",
        "    __len__ so that len(dataset) returns the size of the dataset.\n",
        "    __getitem__ to support the indexing such that dataset[i] can be used to get ith sample\n",
        "\n",
        "Let’s create a dataset class for our action recognition dataset. We will read images in __getitem__. This is memory efficient because all the images are not stored in the memory at once but read as required.\n",
        "\n",
        "Sample of our dataset will be a dict {'image':image,'img_path':img_path,'Label':Label}. Our datset will take an optional argument transform so that any required processing can be applied on the sample. "
      ]
    },
    {
      "metadata": {
        "id": "XrQEFhnzDkp3",
        "colab_type": "code",
        "colab": {
          "autoexec": {
            "startup": false,
            "wait_interval": 0
          }
        }
      },
      "cell_type": "code",
      "source": [
        "\n",
        "class ActionDataset(Dataset):\n",
        "    \"\"\"Action dataset.\"\"\"\n",
        "\n",
        "    def __init__(self,  root_dir,labels=[], transform=None):\n",
        "        \"\"\"\n",
        "        Args:\n",
        "            root_dir (string): Directory with all the images.\n",
        "            labels(list): labels if images.\n",
        "            transform (callable, optional): Optional transform to be applied on a sample.\n",
        "        \"\"\"\n",
        "        self.root_dir = root_dir\n",
        "        self.transform = transform\n",
        "        self.length=len(os.listdir(self.root_dir))\n",
        "        self.labels=labels\n",
        "    def __len__(self):\n",
        "        return self.length*3\n",
        "\n",
        "    def __getitem__(self, idx):\n",
        "        \n",
        "        folder=idx/3+1\n",
        "        imidx=idx%3+1\n",
        "        folder=format(folder,'05d')\n",
        "        imgname=str(imidx)+'.jpg'\n",
        "        img_path = os.path.join(self.root_dir,\n",
        "                                folder,imgname)\n",
        "        image = Image.open(img_path)\n",
        "        if len(self.labels)!=0:\n",
        "            Label=self.labels[idx/3][0]-1\n",
        "        if self.transform:\n",
        "            image = self.transform(image)\n",
        "        if len(self.labels)!=0:\n",
        "            sample={'image':image,'img_path':img_path,'Label':Label}\n",
        "        else:\n",
        "            sample={'image':image,'img_path':img_path}\n",
        "        return sample\n",
        "  "
      ],
      "execution_count": 0,
      "outputs": []
    },
    {
      "metadata": {
        "id": "lnpoRJlWDkp6",
        "colab_type": "text"
      },
      "cell_type": "markdown",
      "source": [
        "Iterating over the dataset by a for loop."
      ]
    },
    {
      "metadata": {
        "id": "FXjdtiWtDkp7",
        "colab_type": "code",
        "colab": {
          "autoexec": {
            "startup": false,
            "wait_interval": 0
          },
          "base_uri": "https://localhost:8080/",
          "height": 527
        },
        "outputId": "0944b960-9eb5-4841-b322-ed0a2bbe4a05",
        "executionInfo": {
          "status": "ok",
          "timestamp": 1523234632738,
          "user_tz": 240,
          "elapsed": 325,
          "user": {
            "displayName": "Sangtian Wang",
            "photoUrl": "https://lh3.googleusercontent.com/a/default-user=s128",
            "userId": "114974396457600215662"
          }
        }
      },
      "cell_type": "code",
      "source": [
        "image_dataset=ActionDataset(root_dir='/content/targetdir/data/trainClips/',\\\n",
        "                            labels=label_train,transform=T.ToTensor())\n",
        "\n",
        "# iterating though the dataset\n",
        "for i in range(10):\n",
        "    sample=image_dataset[i]\n",
        "    print(sample['image'].shape)\n",
        "    print(sample['Label'])\n",
        "    print(sample['img_path'])\n",
        "     \n",
        "   "
      ],
      "execution_count": 10,
      "outputs": [
        {
          "output_type": "stream",
          "text": [
            "torch.Size([3, 64, 64])\n",
            "0.0\n",
            "/content/targetdir/data/trainClips/00001/1.jpg\n",
            "torch.Size([3, 64, 64])\n",
            "0.0\n",
            "/content/targetdir/data/trainClips/00001/2.jpg\n",
            "torch.Size([3, 64, 64])\n",
            "0.0\n",
            "/content/targetdir/data/trainClips/00001/3.jpg\n",
            "torch.Size([3, 64, 64])\n",
            "0.0\n",
            "/content/targetdir/data/trainClips/00002/1.jpg\n",
            "torch.Size([3, 64, 64])\n",
            "0.0\n",
            "/content/targetdir/data/trainClips/00002/2.jpg\n",
            "torch.Size([3, 64, 64])\n",
            "0.0\n",
            "/content/targetdir/data/trainClips/00002/3.jpg\n",
            "torch.Size([3, 64, 64])\n",
            "0.0\n",
            "/content/targetdir/data/trainClips/00003/1.jpg\n",
            "torch.Size([3, 64, 64])\n",
            "0.0\n",
            "/content/targetdir/data/trainClips/00003/2.jpg\n",
            "torch.Size([3, 64, 64])\n",
            "0.0\n",
            "/content/targetdir/data/trainClips/00003/3.jpg\n",
            "torch.Size([3, 64, 64])\n",
            "0.0\n",
            "/content/targetdir/data/trainClips/00004/1.jpg\n"
          ],
          "name": "stdout"
        }
      ]
    },
    {
      "metadata": {
        "id": "q5biARF7Dkp-",
        "colab_type": "text"
      },
      "cell_type": "markdown",
      "source": [
        "We can iterate over the created dataset with a 'for' loop as before. However, we are losing a lot of features by using a simple for loop to iterate over the data. In particular, we are missing out on:\n",
        "\n",
        "* Batching the data\n",
        "* Shuffling the data\n",
        "* Load the data in parallel using multiprocessing workers.\n",
        "\n",
        "torch.utils.data.DataLoader is an iterator which provides all these features. "
      ]
    },
    {
      "metadata": {
        "id": "gZEnjJE1Dkp-",
        "colab_type": "code",
        "colab": {
          "autoexec": {
            "startup": false,
            "wait_interval": 0
          },
          "base_uri": "https://localhost:8080/",
          "height": 2655
        },
        "outputId": "27dc4f29-7711-452a-bfec-0f67618622d2",
        "executionInfo": {
          "status": "ok",
          "timestamp": 1523234638337,
          "user_tz": 240,
          "elapsed": 2964,
          "user": {
            "displayName": "Sangtian Wang",
            "photoUrl": "https://lh3.googleusercontent.com/a/default-user=s128",
            "userId": "114974396457600215662"
          }
        }
      },
      "cell_type": "code",
      "source": [
        "image_dataloader = DataLoader(image_dataset, batch_size=4,\n",
        "                        shuffle=True, num_workers=4)\n",
        "\n",
        "\n",
        "for i,sample in enumerate(image_dataloader):\n",
        "    sample['image']=sample['image'].cuda()\n",
        "    print(i,sample['image'].shape,sample['img_path'],sample['Label'])\n",
        "    if i>20: \n",
        "        break"
      ],
      "execution_count": 11,
      "outputs": [
        {
          "output_type": "stream",
          "text": [
            "(0, torch.Size([4, 3, 64, 64]), ['/content/targetdir/data/trainClips/06993/2.jpg', '/content/targetdir/data/trainClips/03815/1.jpg', '/content/targetdir/data/trainClips/03768/3.jpg', '/content/targetdir/data/trainClips/03132/3.jpg'], \n",
            " 8\n",
            " 4\n",
            " 4\n",
            " 3\n",
            "[torch.DoubleTensor of size 4]\n",
            ")\n",
            "(1, torch.Size([4, 3, 64, 64]), ['/content/targetdir/data/trainClips/00421/3.jpg', '/content/targetdir/data/trainClips/07704/3.jpg', '/content/targetdir/data/trainClips/01787/2.jpg', '/content/targetdir/data/trainClips/01865/3.jpg'], \n",
            " 0\n",
            " 9\n",
            " 1\n",
            " 2\n",
            "[torch.DoubleTensor of size 4]\n",
            ")\n",
            "(2, torch.Size([4, 3, 64, 64]), ['/content/targetdir/data/trainClips/00812/3.jpg', '/content/targetdir/data/trainClips/05335/1.jpg', '/content/targetdir/data/trainClips/05538/2.jpg', '/content/targetdir/data/trainClips/00713/1.jpg'], \n",
            " 0\n",
            " 6\n",
            " 6\n",
            " 0\n",
            "[torch.DoubleTensor of size 4]\n",
            ")\n",
            "(3, torch.Size([4, 3, 64, 64]), ['/content/targetdir/data/trainClips/05453/3.jpg', '/content/targetdir/data/trainClips/04944/2.jpg', '/content/targetdir/data/trainClips/03556/1.jpg', '/content/targetdir/data/trainClips/03056/1.jpg'], \n",
            " 6\n",
            " 5\n",
            " 4\n",
            " 3\n",
            "[torch.DoubleTensor of size 4]\n",
            ")\n",
            "(4, torch.Size([4, 3, 64, 64]), ['/content/targetdir/data/trainClips/00646/3.jpg', '/content/targetdir/data/trainClips/03131/2.jpg', '/content/targetdir/data/trainClips/01079/1.jpg', '/content/targetdir/data/trainClips/00069/2.jpg'], \n",
            " 0\n",
            " 3\n",
            " 1\n",
            " 0\n",
            "[torch.DoubleTensor of size 4]\n",
            ")\n",
            "(5, torch.Size([4, 3, 64, 64]), ['/content/targetdir/data/trainClips/00792/2.jpg', '/content/targetdir/data/trainClips/06061/1.jpg', '/content/targetdir/data/trainClips/04878/1.jpg', '/content/targetdir/data/trainClips/07461/1.jpg'], \n",
            " 0\n",
            " 7\n",
            " 5\n",
            " 9\n",
            "[torch.DoubleTensor of size 4]\n",
            ")\n",
            "(6, torch.Size([4, 3, 64, 64]), ['/content/targetdir/data/trainClips/05537/1.jpg', '/content/targetdir/data/trainClips/01649/3.jpg', '/content/targetdir/data/trainClips/05874/3.jpg', '/content/targetdir/data/trainClips/06813/2.jpg'], \n",
            " 6\n",
            " 1\n",
            " 7\n",
            " 8\n",
            "[torch.DoubleTensor of size 4]\n",
            ")\n",
            "(7, torch.Size([4, 3, 64, 64]), ['/content/targetdir/data/trainClips/01404/3.jpg', '/content/targetdir/data/trainClips/00451/1.jpg', '/content/targetdir/data/trainClips/00603/2.jpg', '/content/targetdir/data/trainClips/04601/3.jpg'], \n",
            " 1\n",
            " 0\n",
            " 0\n",
            " 5\n",
            "[torch.DoubleTensor of size 4]\n",
            ")\n",
            "(8, torch.Size([4, 3, 64, 64]), ['/content/targetdir/data/trainClips/02792/3.jpg', '/content/targetdir/data/trainClips/03118/3.jpg', '/content/targetdir/data/trainClips/06038/2.jpg', '/content/targetdir/data/trainClips/03492/2.jpg'], \n",
            " 3\n",
            " 3\n",
            " 7\n",
            " 3\n",
            "[torch.DoubleTensor of size 4]\n",
            ")\n",
            "(9, torch.Size([4, 3, 64, 64]), ['/content/targetdir/data/trainClips/00213/1.jpg', '/content/targetdir/data/trainClips/03740/1.jpg', '/content/targetdir/data/trainClips/05718/1.jpg', '/content/targetdir/data/trainClips/01002/1.jpg'], \n",
            " 0\n",
            " 4\n",
            " 7\n",
            " 1\n",
            "[torch.DoubleTensor of size 4]\n",
            ")\n",
            "(10, torch.Size([4, 3, 64, 64]), ['/content/targetdir/data/trainClips/05560/2.jpg', '/content/targetdir/data/trainClips/05231/3.jpg', '/content/targetdir/data/trainClips/01203/2.jpg', '/content/targetdir/data/trainClips/02114/3.jpg'], \n",
            " 6\n",
            " 6\n",
            " 1\n",
            " 2\n",
            "[torch.DoubleTensor of size 4]\n",
            ")\n",
            "(11, torch.Size([4, 3, 64, 64]), ['/content/targetdir/data/trainClips/03204/1.jpg', '/content/targetdir/data/trainClips/02918/2.jpg', '/content/targetdir/data/trainClips/03196/2.jpg', '/content/targetdir/data/trainClips/05765/3.jpg'], \n",
            " 3\n",
            " 3\n",
            " 3\n",
            " 7\n",
            "[torch.DoubleTensor of size 4]\n",
            ")\n",
            "(12, torch.Size([4, 3, 64, 64]), ['/content/targetdir/data/trainClips/05038/3.jpg', '/content/targetdir/data/trainClips/01632/2.jpg', '/content/targetdir/data/trainClips/03843/3.jpg', '/content/targetdir/data/trainClips/03014/1.jpg'], \n",
            " 6\n",
            " 1\n",
            " 4\n",
            " 3\n",
            "[torch.DoubleTensor of size 4]\n",
            ")\n",
            "(13, torch.Size([4, 3, 64, 64]), ['/content/targetdir/data/trainClips/07407/1.jpg', '/content/targetdir/data/trainClips/02645/1.jpg', '/content/targetdir/data/trainClips/00981/1.jpg', '/content/targetdir/data/trainClips/03372/3.jpg'], \n",
            " 9\n",
            " 2\n",
            " 1\n",
            " 3\n",
            "[torch.DoubleTensor of size 4]\n",
            ")\n",
            "(14, torch.Size([4, 3, 64, 64]), ['/content/targetdir/data/trainClips/04142/2.jpg', '/content/targetdir/data/trainClips/06805/2.jpg', '/content/targetdir/data/trainClips/05684/2.jpg', '/content/targetdir/data/trainClips/05564/1.jpg'], \n",
            " 4\n",
            " 8\n",
            " 7\n",
            " 6\n",
            "[torch.DoubleTensor of size 4]\n",
            ")\n",
            "(15, torch.Size([4, 3, 64, 64]), ['/content/targetdir/data/trainClips/05736/2.jpg', '/content/targetdir/data/trainClips/02042/1.jpg', '/content/targetdir/data/trainClips/05023/1.jpg', '/content/targetdir/data/trainClips/06190/3.jpg'], \n",
            " 7\n",
            " 2\n",
            " 6\n",
            " 7\n",
            "[torch.DoubleTensor of size 4]\n",
            ")\n",
            "(16, torch.Size([4, 3, 64, 64]), ['/content/targetdir/data/trainClips/01968/1.jpg', '/content/targetdir/data/trainClips/06386/2.jpg', '/content/targetdir/data/trainClips/07428/1.jpg', '/content/targetdir/data/trainClips/06433/1.jpg'], \n",
            " 2\n",
            " 7\n",
            " 9\n",
            " 7\n",
            "[torch.DoubleTensor of size 4]\n",
            ")\n",
            "(17, torch.Size([4, 3, 64, 64]), ['/content/targetdir/data/trainClips/07538/1.jpg', '/content/targetdir/data/trainClips/05733/2.jpg', '/content/targetdir/data/trainClips/03817/2.jpg', '/content/targetdir/data/trainClips/01382/1.jpg'], \n",
            " 9\n",
            " 7\n",
            " 4\n",
            " 1\n",
            "[torch.DoubleTensor of size 4]\n",
            ")\n",
            "(18, torch.Size([4, 3, 64, 64]), ['/content/targetdir/data/trainClips/03451/2.jpg', '/content/targetdir/data/trainClips/05621/2.jpg', '/content/targetdir/data/trainClips/01776/3.jpg', '/content/targetdir/data/trainClips/05384/1.jpg'], \n",
            " 3\n",
            " 6\n",
            " 1\n",
            " 6\n",
            "[torch.DoubleTensor of size 4]\n",
            ")\n",
            "(19, torch.Size([4, 3, 64, 64]), ['/content/targetdir/data/trainClips/00960/2.jpg', '/content/targetdir/data/trainClips/02361/3.jpg', '/content/targetdir/data/trainClips/03426/3.jpg', '/content/targetdir/data/trainClips/01335/2.jpg'], \n",
            " 1\n",
            " 2\n",
            " 3\n",
            " 1\n",
            "[torch.DoubleTensor of size 4]\n",
            ")\n",
            "(20, torch.Size([4, 3, 64, 64]), ['/content/targetdir/data/trainClips/03349/2.jpg', '/content/targetdir/data/trainClips/05280/3.jpg', '/content/targetdir/data/trainClips/05706/3.jpg', '/content/targetdir/data/trainClips/07455/2.jpg'], \n",
            " 3\n",
            " 6\n",
            " 7\n",
            " 9\n",
            "[torch.DoubleTensor of size 4]\n",
            ")\n",
            "(21, torch.Size([4, 3, 64, 64]), ['/content/targetdir/data/trainClips/04598/2.jpg', '/content/targetdir/data/trainClips/05434/3.jpg', '/content/targetdir/data/trainClips/03948/1.jpg', '/content/targetdir/data/trainClips/04052/3.jpg'], \n",
            " 5\n",
            " 6\n",
            " 4\n",
            " 4\n",
            "[torch.DoubleTensor of size 4]\n",
            ")\n"
          ],
          "name": "stdout"
        }
      ]
    },
    {
      "metadata": {
        "id": "pl08_KmGDkqA",
        "colab_type": "text"
      },
      "cell_type": "markdown",
      "source": [
        "Dataloaders for the training, validationg and testing set. "
      ]
    },
    {
      "metadata": {
        "id": "hF3VgJBBDkqB",
        "colab_type": "code",
        "colab": {
          "autoexec": {
            "startup": false,
            "wait_interval": 0
          }
        }
      },
      "cell_type": "code",
      "source": [
        "image_dataset_train=ActionDataset(root_dir='/content/targetdir/data/trainClips/',labels=label_train,transform=T.ToTensor())\n",
        "\n",
        "image_dataloader_train = DataLoader(image_dataset_train, batch_size=32,\n",
        "                        shuffle=True, num_workers=4)\n",
        "image_dataset_val=ActionDataset(root_dir='/content/targetdir/data/valClips/',labels=label_val,transform=T.ToTensor())\n",
        "\n",
        "image_dataloader_val = DataLoader(image_dataset_val, batch_size=32,\n",
        "                        shuffle=False, num_workers=4)\n",
        "image_dataset_test=ActionDataset(root_dir='/content/targetdir/data/testClips/',labels=[],transform=T.ToTensor())\n",
        "\n",
        "image_dataloader_test = DataLoader(image_dataset_test, batch_size=32,\n",
        "                        shuffle=False, num_workers=4)"
      ],
      "execution_count": 0,
      "outputs": []
    },
    {
      "metadata": {
        "id": "kmYyj-kWDkqE",
        "colab_type": "code",
        "colab": {
          "autoexec": {
            "startup": false,
            "wait_interval": 0
          }
        }
      },
      "cell_type": "code",
      "source": [
        "dtype = torch.FloatTensor # the CPU datatype\n",
        "# Constant to control how frequently we print train loss\n",
        "print_every = 100\n",
        "# This is a little utility that we'll use to reset the model\n",
        "# if we want to re-initialize all our parameters\n",
        "def reset(m):\n",
        "    if hasattr(m, 'reset_parameters'):\n",
        "        m.reset_parameters()"
      ],
      "execution_count": 0,
      "outputs": []
    },
    {
      "metadata": {
        "id": "i9wmNfpeDkqG",
        "colab_type": "text"
      },
      "cell_type": "markdown",
      "source": [
        "## Example Model\n",
        "\n",
        "### Some assorted tidbits\n",
        "\n",
        "Let's start by looking at a simple model. First, note that PyTorch operates on Tensors, which are n-dimensional arrays functionally analogous to numpy's ndarrays, with the additional feature that they can be used for computations on GPUs.\n",
        "\n",
        "We'll provide you with a Flatten function, which we explain here. Remember that our image data (and more relevantly, our intermediate feature maps) are initially N x C x H x W, where:\n",
        "* N is the number of datapoints\n",
        "* C is the number of image channels. \n",
        "* H is the height of the intermediate feature map in pixels\n",
        "* W is the height of the intermediate feature map in pixels\n",
        "\n",
        "This is the right way to represent the data when we are doing something like a 2D convolution, that needs spatial understanding of where the intermediate features are relative to each other. When we input  data into fully connected affine layers, however, we want each datapoint to be represented by a single vector -- it's no longer useful to segregate the different channels, rows, and columns of the data. So, we use a \"Flatten\" operation to collapse the C x H x W values per representation into a single long vector. The Flatten function below first reads in the N, C, H, and W values from a given batch of data, and then returns a \"view\" of that data. \"View\" is analogous to numpy's \"reshape\" method: it reshapes x's dimensions to be N x ??, where ?? is allowed to be anything (in this case, it will be C x H x W, but we don't need to specify that explicitly). "
      ]
    },
    {
      "metadata": {
        "id": "A5NP9IxMDkqH",
        "colab_type": "code",
        "colab": {
          "autoexec": {
            "startup": false,
            "wait_interval": 0
          }
        }
      },
      "cell_type": "code",
      "source": [
        "class Flatten(nn.Module):\n",
        "    def forward(self, x):\n",
        "        N, C, H, W = x.size() # read in N, C, H, W\n",
        "        return x.view(N, -1)  # \"flatten\" the C * H * W values into a single vector per image"
      ],
      "execution_count": 0,
      "outputs": []
    },
    {
      "metadata": {
        "id": "ck91JYl4DkqK",
        "colab_type": "text"
      },
      "cell_type": "markdown",
      "source": [
        "### The example model itself\n",
        "\n",
        "The first step to training your own model is defining its architecture.\n",
        "\n",
        "Here's an example of a convolutional neural network defined in PyTorch -- try to understand what each line is doing, remembering that each layer is composed upon the previous layer. We haven't trained anything yet - that'll come next - for now, we want you to understand how everything gets set up.  nn.Sequential is a container which applies each layer\n",
        "one after the other.\n",
        "\n",
        "In this example, you see 2D convolutional layers (Conv2d), ReLU activations, and fully-connected layers (Linear). You also see the Cross-Entropy loss function, and the Adam optimizer being used. \n",
        "\n",
        "Make sure you understand why the parameters of the Linear layer are 10092 and 10.\n"
      ]
    },
    {
      "metadata": {
        "id": "x4XCkNeoDkqK",
        "colab_type": "code",
        "colab": {
          "autoexec": {
            "startup": false,
            "wait_interval": 0
          }
        }
      },
      "cell_type": "code",
      "source": [
        "# Here's where we define the architecture of the model... \n",
        "simple_model = nn.Sequential(\n",
        "                nn.Conv2d(3, 32, kernel_size=7, stride=2),\n",
        "                nn.ReLU(inplace=True),\n",
        "                Flatten(), # see above for explanation\n",
        "                nn.Linear(10092, 10), # affine layer\n",
        "              )\n",
        "\n",
        "# Set the type of all data in this model to be FloatTensor \n",
        "simple_model.type(dtype)\n",
        "\n",
        "loss_fn = nn.CrossEntropyLoss().type(dtype)\n",
        "optimizer = optim.Adam(simple_model.parameters(), lr=1e-2) # lr sets the learning rate of the optimizer"
      ],
      "execution_count": 0,
      "outputs": []
    },
    {
      "metadata": {
        "id": "Jto8Sn0zDkqN",
        "colab_type": "text"
      },
      "cell_type": "markdown",
      "source": [
        "PyTorch supports many other layer types, loss functions, and optimizers - you will experiment with these next. Here's the official API documentation for these (if any of the parameters used above were unclear, this resource will also be helpful). \n",
        "\n",
        "* Layers: http://pytorch.org/docs/nn.html\n",
        "* Activations: http://pytorch.org/docs/nn.html#non-linear-activations\n",
        "* Loss functions: http://pytorch.org/docs/nn.html#loss-functions\n",
        "* Optimizers: http://pytorch.org/docs/optim.html#algorithms"
      ]
    },
    {
      "metadata": {
        "id": "3nVKutWODkqP",
        "colab_type": "text"
      },
      "cell_type": "markdown",
      "source": [
        "## Training a specific model\n",
        "\n",
        "In this section, we're going to specify a model for you to construct. The goal here isn't to get good performance (that'll be next), but instead to get comfortable with understanding the PyTorch documentation and configuring your own model. \n",
        "\n",
        "Using the code provided above as guidance, and using the following PyTorch documentation, specify a model with the following architecture:\n",
        "\n",
        "* 7x7 Convolutional Layer with 8 filters and stride of 1\n",
        "* ReLU Activation Layer\n",
        "* 2x2 Max Pooling layer with a stride of 2\n",
        "* 7x7 Convolutional Layer with 16 filters and stride of 1\n",
        "* ReLU Activation Layer\n",
        "* 2x2 Max Pooling layer with a stride of 2\n",
        "* Flatten the feature map\n",
        "* ReLU Activation Layer\n",
        "* Affine layer to map input units to 10 outputs, you need to figure out the input size here.\n"
      ]
    },
    {
      "metadata": {
        "id": "Jnw-YeMBDkqP",
        "colab_type": "code",
        "colab": {
          "autoexec": {
            "startup": false,
            "wait_interval": 0
          }
        }
      },
      "cell_type": "code",
      "source": [
        "fixed_model_base = nn.Sequential( \n",
        "    #########1st To Do  (10 points)###################\n",
        "    \n",
        "#     nn.Conv2d(\n",
        "#         in_channels=3,      # input height\n",
        "#         out_channels=32,    # n_filters\n",
        "#         kernel_size=7,      # filter size\n",
        "#         stride=1,           # filter movement/step\n",
        "#     ),\n",
        "    nn.Conv2d(3, 32, 7, 1),\n",
        "    nn.ReLU(inplace=True),\n",
        "    nn.MaxPool2d(2, 2),\n",
        "    nn.Conv2d(32, 16, 7, 1),\n",
        "    nn.ReLU(inplace=True),\n",
        "    nn.MaxPool2d(2, 2),\n",
        "    Flatten(),\n",
        "    nn.ReLU(inplace=True),\n",
        "    nn.Linear(1936,10)\n",
        "    \n",
        "    )\n",
        "    \n",
        "fixed_model = fixed_model_base.type(dtype)\n"
      ],
      "execution_count": 0,
      "outputs": []
    },
    {
      "metadata": {
        "id": "ixAhZ8NBDkqT",
        "colab_type": "text"
      },
      "cell_type": "markdown",
      "source": [
        "To make sure you're doing the right thing, use the following tool to check the dimensionality of your output (it should be 32 x 10, since our batches have size 32 and the output of the final affine layer should be 10, corresponding to our 10 classes):"
      ]
    },
    {
      "metadata": {
        "id": "yUpMqO_fDkqU",
        "colab_type": "code",
        "colab": {
          "autoexec": {
            "startup": false,
            "wait_interval": 0
          },
          "base_uri": "https://localhost:8080/",
          "height": 51
        },
        "outputId": "34928b02-ecb8-4de7-86c2-a7bd666499b2",
        "executionInfo": {
          "status": "ok",
          "timestamp": 1523234659137,
          "user_tz": 240,
          "elapsed": 557,
          "user": {
            "displayName": "Sangtian Wang",
            "photoUrl": "https://lh3.googleusercontent.com/a/default-user=s128",
            "userId": "114974396457600215662"
          }
        }
      },
      "cell_type": "code",
      "source": [
        "## Now we're going to feed a random batch into the model you defined and make sure the output is the right size\n",
        "x = torch.randn(32, 3, 64, 64).type(dtype)\n",
        "x_var = Variable(x.type(dtype)) # Construct a PyTorch Variable out of your input data\n",
        "ans = fixed_model(x_var)        # Feed it through the model! \n",
        "\n",
        "# Check to make sure what comes out of your model\n",
        "# is the right dimensionality... this should be True\n",
        "# if you've done everything correctly\n",
        "print(np.array(ans.size()))\n",
        "print(np.array_equal(np.array(ans.size()), np.array([32, 10])))\n",
        "\n",
        "\n",
        "\n",
        "def model_check(model):\n",
        "  x = torch.randn(32, 3, 64, 64).type(dtype)\n",
        "  x_var = Variable(x.type(dtype)) # Construct a PyTorch Variable out of your input data\n",
        "  ans = model(x_var)        # Feed it through the model! \n",
        "\n",
        "  # Check to make sure what comes out of your model\n",
        "  # is the right dimensionality... this should be True\n",
        "  # if you've done everything correctly\n",
        "  print(np.array(ans.size()))\n",
        "  print(np.array_equal(np.array(ans.size()), np.array([32, 10])))"
      ],
      "execution_count": 17,
      "outputs": [
        {
          "output_type": "stream",
          "text": [
            "[32 10]\n",
            "True\n"
          ],
          "name": "stdout"
        }
      ]
    },
    {
      "metadata": {
        "id": "4r2SyZ-lDkqY",
        "colab_type": "text"
      },
      "cell_type": "markdown",
      "source": [
        "### Train the model.\n",
        "\n",
        "Now that you've seen how to define a model and do a single forward pass of some data through it, let's  walk through how you'd actually train one whole epoch over your training data (using the fixed_model_base we provided above).\n",
        "\n",
        "Make sure you understand how each PyTorch function used below corresponds to what you implemented in your custom neural network implementation.\n",
        "\n",
        "Note that because we are not resetting the weights anywhere below, if you run the cell multiple times, you are effectively training multiple epochs (so your performance should improve).\n",
        "\n",
        "First, set up an RMSprop optimizer (using a 1e-4 learning rate) and a cross-entropy loss function:"
      ]
    },
    {
      "metadata": {
        "id": "JRXj3DKNDkqZ",
        "colab_type": "code",
        "colab": {
          "autoexec": {
            "startup": false,
            "wait_interval": 0
          }
        }
      },
      "cell_type": "code",
      "source": [
        "################ 2nd To Do  (5 points)##################\n",
        "loss_fn = nn.CrossEntropyLoss()\n",
        "optimizer = optim.RMSprop(fixed_model.parameters(), lr=1e-4)"
      ],
      "execution_count": 0,
      "outputs": []
    },
    {
      "metadata": {
        "id": "jqQ_hl1DDkqc",
        "colab_type": "code",
        "colab": {
          "autoexec": {
            "startup": false,
            "wait_interval": 0
          }
        }
      },
      "cell_type": "code",
      "source": [
        "# This sets the model in \"training\" mode. \n",
        "# This is relevant for some layers that may have different behavior\n",
        "# in training mode vs testing mode, such as Dropout and BatchNorm. \n",
        "fixed_model.train()\n",
        "\n",
        "# Load one batch at a time.\n",
        "for t, sample in enumerate(image_dataloader_train):\n",
        "    x_var = Variable(sample['image'])\n",
        "    #print(type(x_var.data))\n",
        "    #print(x_var.shape)\n",
        "    y_var = Variable(sample['Label']).long()\n",
        "\n",
        "    # This is the forward pass: predict the scores for each class, for each x in the batch.\n",
        "    scores = fixed_model(x_var)\n",
        "    \n",
        "    # Use the correct y values and the predicted y values to compute the loss.\n",
        "    loss = loss_fn(scores, y_var)\n",
        "    \n",
        "    if (t + 1) % print_every == 0:\n",
        "        print('t = %d, loss = %.4f' % (t + 1, loss.data[0]))\n",
        "\n",
        "    # Zero out all of the gradients for the variables which the optimizer will update.\n",
        "    optimizer.zero_grad()\n",
        "    \n",
        "    # This is the backwards pass: compute the gradient of the loss with respect to each \n",
        "    # parameter of the model.\n",
        "    loss.backward()\n",
        "    \n",
        "    # Actually update the parameters of the model using the gradients computed by the backwards pass.\n",
        "    optimizer.step()\n",
        "   "
      ],
      "execution_count": 0,
      "outputs": []
    },
    {
      "metadata": {
        "id": "vx8BY-zRDkqf",
        "colab_type": "text"
      },
      "cell_type": "markdown",
      "source": [
        "Now you've seen how the training process works in PyTorch. To save you writing boilerplate code, we're providing the following helper functions to help you train for multiple epochs and check the accuracy of your model:"
      ]
    },
    {
      "metadata": {
        "id": "VemLiOxmDkqh",
        "colab_type": "code",
        "colab": {
          "autoexec": {
            "startup": false,
            "wait_interval": 0
          }
        }
      },
      "cell_type": "code",
      "source": [
        "def train(model, loss_fn, optimizer, dataloader, num_epochs = 1):\n",
        "    for epoch in range(num_epochs):\n",
        "        print('Starting epoch %d / %d' % (epoch + 1, num_epochs))\n",
        "        model.train()\n",
        "        for t, sample in enumerate(dataloader):\n",
        "            x_var = Variable(sample['image'])\n",
        "            y_var = Variable(sample['Label'].long())\n",
        "\n",
        "            scores = model(x_var)\n",
        "            \n",
        "            loss = loss_fn(scores, y_var)\n",
        "            if (t + 1) % print_every == 0:\n",
        "                print('t = %d, loss = %.4f' % (t + 1, loss.data[0]))\n",
        "\n",
        "            optimizer.zero_grad()\n",
        "            loss.backward()\n",
        "            optimizer.step()\n",
        "\n",
        "def check_accuracy(model, loader):\n",
        "    '''\n",
        "    if loader.dataset.train:\n",
        "        print('Checking accuracy on validation set')\n",
        "    else:\n",
        "        print('Checking accuracy on test set')  \n",
        "    '''\n",
        "    num_correct = 0\n",
        "    num_samples = 0\n",
        "    model.eval() # Put the model in test mode (the opposite of model.train(), essentially)\n",
        "    for t, sample in enumerate(loader):\n",
        "        x_var = Variable(sample['image'])\n",
        "        y_var = sample['Label']\n",
        "        #y_var=y_var.cpu()\n",
        "        scores = model(x_var)\n",
        "        _, preds = scores.data.max(1)#scores.data.cpu().max(1)\n",
        "        #print(preds)\n",
        "        #print(y_var)\n",
        "        num_correct += (preds.numpy() == y_var.numpy()).sum()\n",
        "        num_samples += preds.size(0)\n",
        "    acc = float(num_correct) / num_samples\n",
        "    print('Got %d / %d correct (%.2f)' % (num_correct, num_samples, 100 * acc))\n",
        "    \n",
        "    \n",
        "\n"
      ],
      "execution_count": 0,
      "outputs": []
    },
    {
      "metadata": {
        "id": "kz_LvxpnDkqk",
        "colab_type": "text"
      },
      "cell_type": "markdown",
      "source": [
        "### Check the accuracy of the model.\n",
        "\n",
        "Let's see the train and check_accuracy code in action -- feel free to use these methods when evaluating the models you develop below.\n",
        "\n",
        "You should get a training loss of around 1.0-1.2, and a validation accuracy of around 50-60%. As mentioned above, if you re-run the cells, you'll be training more epochs, so your performance will improve past these numbers.\n",
        "\n",
        "But don't worry about getting these numbers better -- this was just practice before you tackle designing your own model."
      ]
    },
    {
      "metadata": {
        "id": "a2O6B7orDkql",
        "colab_type": "code",
        "colab": {
          "autoexec": {
            "startup": false,
            "wait_interval": 0
          }
        }
      },
      "cell_type": "code",
      "source": [
        "torch.random.manual_seed(12345)\n",
        "fixed_model.cpu()\n",
        "fixed_model.apply(reset) \n",
        "fixed_model.train() \n",
        "train(fixed_model, loss_fn, optimizer,image_dataloader_train, num_epochs=1) \n",
        "check_accuracy(fixed_model, image_dataloader_train)# check accuracy on the training set\n"
      ],
      "execution_count": 0,
      "outputs": []
    },
    {
      "metadata": {
        "id": "YHWHaY-MDkqn",
        "colab_type": "text"
      },
      "cell_type": "markdown",
      "source": [
        "### Don't forget the validation set!\n",
        "\n",
        "And note that you can use the check_accuracy function to evaluate on the validation set, by passing **image_dataloader_val** as the second argument to check_accuracy. The accuracy on validation set is arround 40-50%."
      ]
    },
    {
      "metadata": {
        "id": "YyKgx3KLDkqp",
        "colab_type": "code",
        "colab": {
          "autoexec": {
            "startup": false,
            "wait_interval": 0
          }
        }
      },
      "cell_type": "code",
      "source": [
        "check_accuracy(fixed_model, image_dataloader_val)#check accuracy on the validation set"
      ],
      "execution_count": 0,
      "outputs": []
    },
    {
      "metadata": {
        "id": "WWUDrNr7Dkqr",
        "colab_type": "text"
      },
      "cell_type": "markdown",
      "source": [
        "##### Train a better  model for action recognition!\n",
        "\n",
        "Now it's your job to experiment with architectures, hyperparameters, loss functions, and optimizers to train a model that achieves better accuracy on the action recognition **validation** set. You can use the check_accuracy and train functions from above."
      ]
    },
    {
      "metadata": {
        "id": "ySkE92NIDkqs",
        "colab_type": "text"
      },
      "cell_type": "markdown",
      "source": [
        "### Things you should try:\n",
        "- **Filter size**: Above we used 7x7; this makes pretty pictures but smaller filters may be more efficient\n",
        "- **Number of filters**: Do more or fewer do better?\n",
        "- **Pooling vs Strided Convolution**: Do you use max pooling or just stride convolutions?\n",
        "- **Batch normalization**: Try adding spatial batch normalization after convolution layers and vanilla batch normalization after affine layers. Do your networks train faster?\n",
        "- **Network architecture**: The network above has two layers of trainable parameters. Can you do better with a deep network? Good architectures to try include:\n",
        "    - [conv-relu-pool]xN -> [affine]xM -> [softmax or SVM]\n",
        "    - [conv-relu-conv-relu-pool]xN -> [affine]xM -> [softmax or SVM]\n",
        "    - [batchnorm-relu-conv]xN -> [affine]xM -> [softmax or SVM]\n",
        "- **Global Average Pooling**: Instead of flattening and then having multiple affine layers, perform convolutions until your image gets small (7x7 or so) and then perform an average pooling operation to get to a 1x1 image picture (1, 1 , Filter#), which is then reshaped into a (Filter#) vector. This is used in [Google's Inception Network](https://arxiv.org/abs/1512.00567) (See Table 1 for their architecture).\n",
        "- **Regularization**: Add l2 weight regularization, or perhaps use Dropout.\n",
        "\n",
        "### Tips for training\n",
        "For each network architecture that you try, you should tune the learning rate and regularization strength. When doing this there are a couple important things to keep in mind:\n",
        "\n",
        "- If the parameters are working well, you should see improvement within a few hundred iterations\n",
        "- Remember the coarse-to-fine approach for hyperparameter tuning: start by testing a large range of hyperparameters for just a few training iterations to find the combinations of parameters that are working at all.\n",
        "- Once you have found some sets of parameters that seem to work, search more finely around these parameters. You may need to train for more epochs.\n",
        "- You should use the validation set for hyperparameter search, and save your test set for evaluating your architecture on the best parameters as selected by the validation set.\n",
        "\n",
        "### Going above and beyond\n",
        "If you are feeling adventurous there are many other features you can implement to try and improve your performance. You are **not required** to implement any of these; however they would be good things to try.\n",
        "\n",
        "- Alternative update steps: For the assignment we implemented SGD+momentum, RMSprop, and Adam; you could try alternatives like AdaGrad or AdaDelta.\n",
        "- Alternative activation functions such as leaky ReLU, parametric ReLU, ELU, or MaxOut.\n",
        "- Model ensembles\n",
        "- Data augmentation\n",
        "- New Architectures\n",
        "  - [ResNets](https://arxiv.org/abs/1512.03385) where the input from the previous layer is added to the output.\n",
        "  - [DenseNets](https://arxiv.org/abs/1608.06993) where inputs into previous layers are concatenated together.\n",
        "  - [This blog has an in-depth overview](https://chatbotslife.com/resnets-highwaynets-and-densenets-oh-my-9bb15918ee32)\n",
        "\n",
        "If you do decide to implement something extra, clearly describe it in the \"Extra Credit Description\" cell below.\n",
        "\n",
        "### What we expect\n",
        "At the very least, you should be able to train a ConvNet that gets at least 55% accuracy on the validation set. This is just a lower bound - if you are careful it should be possible to get accuracies much higher than that! Extra credit points will be awarded for particularly high-scoring models or unique approaches.\n",
        "\n",
        "You should use the space below to experiment and train your network. \n",
        "\n"
      ]
    },
    {
      "metadata": {
        "id": "IGl_z9QqDkqs",
        "colab_type": "code",
        "colab": {
          "autoexec": {
            "startup": false,
            "wait_interval": 0
          },
          "base_uri": "https://localhost:8080/",
          "height": 51
        },
        "outputId": "103ced95-56dc-4c7e-dd1c-b9c41a5a4b55",
        "executionInfo": {
          "status": "ok",
          "timestamp": 1523234675417,
          "user_tz": 240,
          "elapsed": 498,
          "user": {
            "displayName": "Sangtian Wang",
            "photoUrl": "https://lh3.googleusercontent.com/a/default-user=s128",
            "userId": "114974396457600215662"
          }
        }
      },
      "cell_type": "code",
      "source": [
        "###########3rd To Do (16 points, must submit the results to Kaggle) ##############\n",
        "# Train your model here, and make sure the output of this cell is the accuracy of your best model on the \n",
        "# train, val, and test sets. Here's some code to get you started. The output of this cell should be the training\n",
        "# and validation accuracy on your best model (measured by validation accuracy).\n",
        "SangtianNet = nn.Sequential( \n",
        "    #########1st To Do  (10 points)###################\n",
        "    \n",
        "#     nn.Conv2d(\n",
        "#         in_channels=3,      # input height\n",
        "#         out_channels=32,    # n_filters\n",
        "#         kernel_size=7,      # filter size\n",
        "#         stride=1,           # filter movement/step\n",
        "#     ),\n",
        "    nn.Conv2d(3, 32, 3, 1),\n",
        "    nn.BatchNorm2d(32),\n",
        "    nn.ReLU(inplace=True),\n",
        "    nn.MaxPool2d(2, 2),\n",
        "    nn.Conv2d(32, 16, 3, 1),\n",
        "    nn.BatchNorm2d(16),\n",
        "    nn.ReLU(inplace=True),\n",
        "    nn.MaxPool2d(2, 2),\n",
        "    Flatten(),\n",
        "    nn.Dropout(0.5),\n",
        "    nn.ReLU(inplace=True),\n",
        "    nn.Linear(14*14*16,10)\n",
        "    \n",
        ")\n",
        "\n",
        "model_check(SangtianNet)\n",
        "\n"
      ],
      "execution_count": 19,
      "outputs": [
        {
          "output_type": "stream",
          "text": [
            "[32 10]\n",
            "True\n"
          ],
          "name": "stdout"
        }
      ]
    },
    {
      "metadata": {
        "id": "9fMRroXcDkqu",
        "colab_type": "text"
      },
      "cell_type": "markdown",
      "source": [
        "### Describe what you did \n",
        "\n",
        "In the cell below you should write an explanation of what you did, any additional features that you implemented, and any visualizations or graphs that you make in the process of training and evaluating your network."
      ]
    },
    {
      "metadata": {
        "id": "Mxzw3PCODkqu",
        "colab_type": "text"
      },
      "cell_type": "markdown",
      "source": [
        "Tell us here!\n",
        "###########4th To Do (4 points) ##############\n",
        "- I used Google colab(with free GPU) to train my network.\n",
        "- I used 3*3 kernel and added batchnorm and dropout to the network. \n"
      ]
    },
    {
      "metadata": {
        "id": "S7ZGoW6eDkqv",
        "colab_type": "text"
      },
      "cell_type": "markdown",
      "source": [
        "### Testing the model and submit on Kaggle\n",
        "Testing the model on the testing set and save the results as a .csv file. \n",
        "Please submitted the results.csv file generated by predict_on_test() to Kaggle(https://www.kaggle.com/c/cse512springhw3) to see how well your network performs on the test set. \n",
        "#######5th To Do (submit the result to Kaggle,the highest 3 entries get extra 10 points )###############"
      ]
    },
    {
      "metadata": {
        "id": "YIVIU85iDkqw",
        "colab_type": "code",
        "colab": {
          "autoexec": {
            "startup": false,
            "wait_interval": 0
          },
          "base_uri": "https://localhost:8080/",
          "height": 34
        },
        "outputId": "d8a96563-a363-41e3-c479-eaa4336e767f",
        "executionInfo": {
          "status": "ok",
          "timestamp": 1522012650728,
          "user_tz": 240,
          "elapsed": 34396,
          "user": {
            "displayName": "Sangtian Wang",
            "photoUrl": "https://lh3.googleusercontent.com/a/default-user=s128",
            "userId": "114974396457600215662"
          }
        }
      },
      "cell_type": "code",
      "source": [
        "def predict_on_test(model, loader):\n",
        "    '''\n",
        "    if loader.dataset.train:\n",
        "        print('Checking accuracy on validation set')\n",
        "    else:\n",
        "        print('Checking accuracy on test set')  \n",
        "    '''\n",
        "    num_correct = 0\n",
        "    num_samples = 0\n",
        "    model.eval() # Put the model in test mode (the opposite of model.train(), essentially)\n",
        "    results=open('results.csv','w')\n",
        "    count=0\n",
        "    results.write('Id'+','+'Class'+'\\n')\n",
        "    for t, sample in enumerate(loader):\n",
        "        x_var = Variable(sample['image'])\n",
        "        scores = model(x_var)\n",
        "        _, preds = scores.data.max(1)\n",
        "        for i in range(len(preds)):\n",
        "            results.write(str(count)+','+str(preds[i])+'\\n')\n",
        "            count+=1\n",
        "    results.close()\n",
        "    return count\n",
        "    \n",
        "count=predict_on_test(fixed_model, image_dataloader_test)\n",
        "print(count)"
      ],
      "execution_count": 0,
      "outputs": [
        {
          "output_type": "stream",
          "text": [
            "9810\n"
          ],
          "name": "stdout"
        }
      ]
    },
    {
      "metadata": {
        "id": "j-T9xYmoDkq1",
        "colab_type": "text"
      },
      "cell_type": "markdown",
      "source": [
        "### GPU! (This part is optional, 0 points)\n",
        "\n",
        "If you have access to GPU, you can make the code run on GPU, it would be much faster. \n",
        "\n",
        "Now, we're going to switch the dtype of the model and our data to the GPU-friendly tensors, and see what happens... everything is the same, except we are casting our model and input tensors as this new dtype instead of the old one.\n",
        "\n",
        "If this returns false, or otherwise fails in a not-graceful way (i.e., with some error message), you may not have an NVIDIA GPU available on your machine. "
      ]
    },
    {
      "metadata": {
        "id": "91z_6ztdDkq2",
        "colab_type": "code",
        "colab": {
          "autoexec": {
            "startup": false,
            "wait_interval": 0
          },
          "base_uri": "https://localhost:8080/",
          "height": 34
        },
        "outputId": "7f7c1fc3-e962-4cff-aa21-d18100da776b",
        "executionInfo": {
          "status": "ok",
          "timestamp": 1523213339773,
          "user_tz": 240,
          "elapsed": 318,
          "user": {
            "displayName": "Sangtian Wang",
            "photoUrl": "https://lh3.googleusercontent.com/a/default-user=s128",
            "userId": "114974396457600215662"
          }
        }
      },
      "cell_type": "code",
      "source": [
        "# Verify that CUDA is properly configured and you have a GPU available\n",
        "\n",
        "torch.cuda.is_available()"
      ],
      "execution_count": 33,
      "outputs": [
        {
          "output_type": "execute_result",
          "data": {
            "text/plain": [
              "True"
            ]
          },
          "metadata": {
            "tags": []
          },
          "execution_count": 33
        }
      ]
    },
    {
      "metadata": {
        "id": "Yzyrd3C4Dkq4",
        "colab_type": "code",
        "colab": {
          "autoexec": {
            "startup": false,
            "wait_interval": 0
          },
          "base_uri": "https://localhost:8080/",
          "height": 34
        },
        "outputId": "4bbe4635-0aed-4b6f-d087-7ee3960f51a1",
        "executionInfo": {
          "status": "ok",
          "timestamp": 1523213379874,
          "user_tz": 240,
          "elapsed": 1566,
          "user": {
            "displayName": "Sangtian Wang",
            "photoUrl": "https://lh3.googleusercontent.com/a/default-user=s128",
            "userId": "114974396457600215662"
          }
        }
      },
      "cell_type": "code",
      "source": [
        "fixed_model_gpu = copy.deepcopy(SangtianNet)#.type(gpu_dtype)\n",
        "fixed_model_gpu.cuda()\n",
        "x_gpu = torch.randn(4, 3, 64, 64).cuda()#.type(gpu_dtype)\n",
        "x_var_gpu = Variable(x_gpu)#type(gpu_dtype)) # Construct a PyTorch Variable out of your input data\n",
        "ans = fixed_model_gpu(x_var_gpu)        # Feed it through the model! \n",
        "\n",
        "# Check to make sure what comes out of your model\n",
        "# is the right dimensionality... this should be True\n",
        "# if you've done everything correctly\n",
        "np.array_equal(np.array(ans.size()), np.array([4, 10]))\n"
      ],
      "execution_count": 36,
      "outputs": [
        {
          "output_type": "execute_result",
          "data": {
            "text/plain": [
              "True"
            ]
          },
          "metadata": {
            "tags": []
          },
          "execution_count": 36
        }
      ]
    },
    {
      "metadata": {
        "id": "n7LtlnheDkq6",
        "colab_type": "text"
      },
      "cell_type": "markdown",
      "source": [
        "Run the following cell to evaluate the performance of the forward pass running on the CPU:"
      ]
    },
    {
      "metadata": {
        "id": "IlOrMC-ODkq7",
        "colab_type": "code",
        "colab": {
          "autoexec": {
            "startup": false,
            "wait_interval": 0
          },
          "base_uri": "https://localhost:8080/",
          "height": 34
        },
        "outputId": "cbc689a5-4c3d-4a98-d0a1-33fc71e8b2fb",
        "executionInfo": {
          "status": "ok",
          "timestamp": 1523213388513,
          "user_tz": 240,
          "elapsed": 5148,
          "user": {
            "displayName": "Sangtian Wang",
            "photoUrl": "https://lh3.googleusercontent.com/a/default-user=s128",
            "userId": "114974396457600215662"
          }
        }
      },
      "cell_type": "code",
      "source": [
        "%%timeit \n",
        "ans = fixed_model(x_var)"
      ],
      "execution_count": 37,
      "outputs": [
        {
          "output_type": "stream",
          "text": [
            "10 loops, best of 3: 112 ms per loop\n"
          ],
          "name": "stdout"
        }
      ]
    },
    {
      "metadata": {
        "id": "n5CdEVkODkq8",
        "colab_type": "text"
      },
      "cell_type": "markdown",
      "source": [
        "... and now the GPU:"
      ]
    },
    {
      "metadata": {
        "id": "NtYY29wqDkq-",
        "colab_type": "code",
        "colab": {
          "autoexec": {
            "startup": false,
            "wait_interval": 0
          },
          "base_uri": "https://localhost:8080/",
          "height": 51
        },
        "outputId": "d63ea5ae-b315-416c-867e-2057c42008a0",
        "executionInfo": {
          "status": "ok",
          "timestamp": 1523213397379,
          "user_tz": 240,
          "elapsed": 5146,
          "user": {
            "displayName": "Sangtian Wang",
            "photoUrl": "https://lh3.googleusercontent.com/a/default-user=s128",
            "userId": "114974396457600215662"
          }
        }
      },
      "cell_type": "code",
      "source": [
        "%%timeit \n",
        "torch.cuda.synchronize() # Make sure there are no pending GPU computations\n",
        "ans = fixed_model_gpu(x_var_gpu)        # Feed it through the model! \n",
        "torch.cuda.synchronize() # Make sure there are no pending GPU computations"
      ],
      "execution_count": 38,
      "outputs": [
        {
          "output_type": "stream",
          "text": [
            "The slowest run took 8.11 times longer than the fastest. This could mean that an intermediate result is being cached.\n",
            "1000 loops, best of 3: 1.15 ms per loop\n"
          ],
          "name": "stdout"
        }
      ]
    },
    {
      "metadata": {
        "id": "ypTE3aY2DkrC",
        "colab_type": "text"
      },
      "cell_type": "markdown",
      "source": [
        "You should observe that even a simple forward pass like this is significantly faster on the GPU. So for the rest of the assignment (and when you go train your models in assignment 3 and your project!), you should use the GPU datatype for your model and your tensors: as a reminder that is *torch.cuda.FloatTensor* (in our notebook here as *gpu_dtype*)"
      ]
    },
    {
      "metadata": {
        "id": "bBm2vu5GDkrE",
        "colab_type": "text"
      },
      "cell_type": "markdown",
      "source": [
        "Let's make the loss function and training variables to GPU friendly format by '.cuda()'"
      ]
    },
    {
      "metadata": {
        "id": "BoSqpuS3DkrH",
        "colab_type": "code",
        "colab": {
          "autoexec": {
            "startup": false,
            "wait_interval": 0
          }
        }
      },
      "cell_type": "code",
      "source": [
        "def train(model, loss_fn, optimizer, dataloader, num_epochs = 1):\n",
        "    for epoch in range(num_epochs):\n",
        "        print('Starting epoch %d / %d' % (epoch + 1, num_epochs))\n",
        "        model.train()\n",
        "        for t, sample in enumerate(dataloader):\n",
        "            x_var = Variable(sample['image'].cuda())\n",
        "            y_var = Variable(sample['Label'].cuda().long())\n",
        "\n",
        "            scores = model(x_var)\n",
        "            \n",
        "            loss = loss_fn(scores, y_var)\n",
        "            if (t + 1) % print_every == 0:\n",
        "                print('t = %d, loss = %.4f' % (t + 1, loss.data[0]))\n",
        "\n",
        "            optimizer.zero_grad()\n",
        "            loss.backward()\n",
        "            optimizer.step()\n",
        "\n",
        "def check_accuracy(model, loader):\n",
        "    '''\n",
        "    if loader.dataset.train:\n",
        "        print('Checking accuracy on validation set')\n",
        "    else:\n",
        "        print('Checking accuracy on test set')  \n",
        "    '''\n",
        "    num_correct = 0\n",
        "    num_samples = 0\n",
        "    model.eval() # Put the model in test mode (the opposite of model.train(), essentially)\n",
        "    for t, sample in enumerate(loader):\n",
        "        x_var = Variable(sample['image'].cuda())\n",
        "        y_var = sample['Label'].cuda()\n",
        "        y_var=y_var.cpu()\n",
        "        scores = model(x_var)\n",
        "        _, preds = scores.data.cpu().max(1)\n",
        "        #print(preds)\n",
        "        #print(y_var)\n",
        "        num_correct += (preds.numpy() == y_var.numpy()).sum()\n",
        "        num_samples += preds.size(0)\n",
        "    acc = float(num_correct) / num_samples\n",
        "    print('Got %d / %d correct (%.2f)' % (num_correct, num_samples, 100 * acc))\n",
        "    \n",
        "def predict_on_test(model, loader):\n",
        "    '''\n",
        "    if loader.dataset.train:\n",
        "        print('Checking accuracy on validation set')\n",
        "    else:\n",
        "        print('Checking accuracy on test set')  \n",
        "    '''\n",
        "    num_correct = 0\n",
        "    num_samples = 0\n",
        "    model.eval() # Put the model in test mode (the opposite of model.train(), essentially)\n",
        "    results=open('results.csv','w')\n",
        "    count=0\n",
        "    results.write('Id'+','+'Class'+'\\n')\n",
        "    for t, sample in enumerate(loader):\n",
        "        x_var = Variable(sample['image'].cuda())\n",
        "        scores = model(x_var)\n",
        "        _, preds = scores.data.cpu().max(1)\n",
        "        for i in range(len(preds)):\n",
        "            results.write(str(count)+','+str(preds[i])+'\\n')\n",
        "            count+=1\n",
        "    results.close()\n",
        "    return count"
      ],
      "execution_count": 0,
      "outputs": []
    },
    {
      "metadata": {
        "id": "cl16Of_ODkrK",
        "colab_type": "text"
      },
      "cell_type": "markdown",
      "source": [
        "Run on GPU!"
      ]
    },
    {
      "metadata": {
        "id": "Zwfbx83AL-Dm",
        "colab_type": "code",
        "colab": {
          "autoexec": {
            "startup": false,
            "wait_interval": 0
          }
        }
      },
      "cell_type": "code",
      "source": [
        "gpu_dtype = torch.cuda.FloatTensor\n",
        "\n",
        "fixed_model_gpu = copy.deepcopy(SangtianNet)#.type(gpu_dtype)\n",
        "fixed_model_gpu.cuda()\n",
        "\n",
        "loss_fn = nn.CrossEntropyLoss().cuda()\n",
        "optimizer = optim.RMSprop(fixed_model_gpu.parameters(), lr=1e-4)\n",
        "torch.cuda.random.manual_seed(12345)\n",
        "\n",
        "fixed_model_gpu.apply(reset) \n",
        "fixed_model_gpu.train() \n",
        "train(fixed_model_gpu, loss_fn, optimizer,image_dataloader_train, num_epochs=25) \n",
        "check_accuracy(fixed_model_gpu, image_dataloader_train)# check accuracy on the training set\n"
      ],
      "execution_count": 0,
      "outputs": []
    },
    {
      "metadata": {
        "id": "fE7jbzLV39AU",
        "colab_type": "code",
        "colab": {
          "autoexec": {
            "startup": false,
            "wait_interval": 0
          },
          "base_uri": "https://localhost:8080/",
          "height": 51
        },
        "outputId": "b67621ce-5ac4-4de1-e5ec-b523714ebb1e",
        "executionInfo": {
          "status": "ok",
          "timestamp": 1523216666765,
          "user_tz": 240,
          "elapsed": 6413,
          "user": {
            "displayName": "Sangtian Wang",
            "photoUrl": "https://lh3.googleusercontent.com/a/default-user=s128",
            "userId": "114974396457600215662"
          }
        }
      },
      "cell_type": "code",
      "source": [
        "check_accuracy(fixed_model_gpu, image_dataloader_val)# check accuracy on the training set\n",
        "count=predict_on_test(fixed_model_gpu, image_dataloader_test)\n",
        "print(count)"
      ],
      "execution_count": 55,
      "outputs": [
        {
          "output_type": "stream",
          "text": [
            "Got 4473 / 6690 correct (66.86)\n",
            "9810\n"
          ],
          "name": "stdout"
        }
      ]
    },
    {
      "metadata": {
        "id": "ALVVasXQOyvA",
        "colab_type": "code",
        "colab": {
          "autoexec": {
            "startup": false,
            "wait_interval": 0
          }
        }
      },
      "cell_type": "code",
      "source": [
        "from google.colab import files\n",
        "files.download('results.csv')"
      ],
      "execution_count": 0,
      "outputs": []
    },
    {
      "metadata": {
        "id": "XkVzmlIWDkrM",
        "colab_type": "text"
      },
      "cell_type": "markdown",
      "source": [
        "### 3D Convolution on video clips (25 points+10 extra points)\n",
        "3D convolution is for videos, it has one more dimension than 2d convolution. You can find the document for 3D convolution here http://pytorch.org/docs/master/nn.html#torch.nn.Conv3dIn. In our dataset, each clip is a video of 3 frames. Lets classify the each clip rather than each image using 3D convolution.\n",
        "We offer the data loader, the train_3d and check_accuracy"
      ]
    },
    {
      "metadata": {
        "id": "W3jbqg97DkrM",
        "colab_type": "code",
        "colab": {
          "autoexec": {
            "startup": false,
            "wait_interval": 0
          },
          "base_uri": "https://localhost:8080/",
          "height": 527
        },
        "outputId": "f5d635c0-062a-4d15-b139-789a43e65082",
        "executionInfo": {
          "status": "ok",
          "timestamp": 1523234696788,
          "user_tz": 240,
          "elapsed": 351,
          "user": {
            "displayName": "Sangtian Wang",
            "photoUrl": "https://lh3.googleusercontent.com/a/default-user=s128",
            "userId": "114974396457600215662"
          }
        }
      },
      "cell_type": "code",
      "source": [
        "class ActionClipDataset(Dataset):\n",
        "    \"\"\"Action Landmarks dataset.\"\"\"\n",
        "\n",
        "    def __init__(self,  root_dir,labels=[], transform=None):\n",
        "        \"\"\"\n",
        "        Args:\n",
        "            csv_file (string): Path to the csv file with annotations.\n",
        "            root_dir (string): Directory with all the images.\n",
        "            transform (callable, optional): Optional transform to be applied\n",
        "                on a sample.\n",
        "        \"\"\"\n",
        "        \n",
        "        self.root_dir = root_dir\n",
        "        self.transform = transform\n",
        "        self.length=len(os.listdir(self.root_dir))\n",
        "        self.labels=labels\n",
        "\n",
        "    def __len__(self):\n",
        "        return self.length\n",
        "\n",
        "    def __getitem__(self, idx):\n",
        "        \n",
        "        folder=idx+1\n",
        "        folder=format(folder,'05d')\n",
        "        clip=[]\n",
        "        if len(self.labels)!=0:\n",
        "            Label=self.labels[idx][0]-1\n",
        "        for i in range(3):\n",
        "            imidx=i+1\n",
        "            imgname=str(imidx)+'.jpg'\n",
        "            img_path = os.path.join(self.root_dir,\n",
        "                                    folder,imgname)\n",
        "            image = Image.open(img_path)\n",
        "            image=np.array(image)\n",
        "            clip.append(image)\n",
        "        if self.transform:\n",
        "            clip=np.asarray(clip)\n",
        "            clip=np.transpose(clip, (0,3,1,2))\n",
        "            clip = torch.from_numpy(np.asarray(clip))\n",
        "        if len(self.labels)!=0:\n",
        "            sample={'clip':clip,'Label':Label,'folder':folder}\n",
        "        else:\n",
        "            sample={'clip':clip,'folder':folder}\n",
        "        return sample\n",
        "\n",
        "clip_dataset=ActionClipDataset(root_dir='/content/targetdir/data/trainClips/',\\\n",
        "                               labels=label_train,transform=T.ToTensor())#/home/tqvinh/Study/CSE512/cse512-s18/hw2data/trainClips/\n",
        "for i in range(10):\n",
        "    sample=clip_dataset[i]\n",
        "    print(sample['clip'].shape)\n",
        "    print(sample['Label'])\n",
        "    print(sample['folder'])"
      ],
      "execution_count": 20,
      "outputs": [
        {
          "output_type": "stream",
          "text": [
            "torch.Size([3, 3, 64, 64])\n",
            "0.0\n",
            "00001\n",
            "torch.Size([3, 3, 64, 64])\n",
            "0.0\n",
            "00002\n",
            "torch.Size([3, 3, 64, 64])\n",
            "0.0\n",
            "00003\n",
            "torch.Size([3, 3, 64, 64])\n",
            "0.0\n",
            "00004\n",
            "torch.Size([3, 3, 64, 64])\n",
            "0.0\n",
            "00005\n",
            "torch.Size([3, 3, 64, 64])\n",
            "0.0\n",
            "00006\n",
            "torch.Size([3, 3, 64, 64])\n",
            "0.0\n",
            "00007\n",
            "torch.Size([3, 3, 64, 64])\n",
            "0.0\n",
            "00008\n",
            "torch.Size([3, 3, 64, 64])\n",
            "0.0\n",
            "00009\n",
            "torch.Size([3, 3, 64, 64])\n",
            "0.0\n",
            "00010\n"
          ],
          "name": "stdout"
        }
      ]
    },
    {
      "metadata": {
        "id": "heFnhBo9DkrO",
        "colab_type": "code",
        "colab": {
          "autoexec": {
            "startup": false,
            "wait_interval": 0
          },
          "base_uri": "https://localhost:8080/",
          "height": 2635
        },
        "outputId": "25563d57-151f-4946-bf47-d3604a0a15ee",
        "executionInfo": {
          "status": "ok",
          "timestamp": 1523234704499,
          "user_tz": 240,
          "elapsed": 601,
          "user": {
            "displayName": "Sangtian Wang",
            "photoUrl": "https://lh3.googleusercontent.com/a/default-user=s128",
            "userId": "114974396457600215662"
          }
        }
      },
      "cell_type": "code",
      "source": [
        "clip_dataloader = DataLoader(clip_dataset, batch_size=4,\n",
        "                        shuffle=True, num_workers=4)\n",
        "\n",
        "\n",
        "for i,sample in enumerate(clip_dataloader):\n",
        "    print(i,sample['clip'].shape,sample['folder'],sample['Label'])\n",
        "    if i>20: \n",
        "        break"
      ],
      "execution_count": 21,
      "outputs": [
        {
          "output_type": "stream",
          "text": [
            "(0, torch.Size([4, 3, 3, 64, 64]), ['01167', '05494', '05515', '06767'], \n",
            " 1\n",
            " 6\n",
            " 6\n",
            " 8\n",
            "[torch.DoubleTensor of size 4]\n",
            ")\n",
            "(1, torch.Size([4, 3, 3, 64, 64]), ['05089', '06304', '00868', '00150'], \n",
            " 6\n",
            " 7\n",
            " 0\n",
            " 0\n",
            "[torch.DoubleTensor of size 4]\n",
            ")\n",
            "(2, torch.Size([4, 3, 3, 64, 64]), ['07192', '04530', '02815', '02515'], \n",
            " 9\n",
            " 5\n",
            " 3\n",
            " 2\n",
            "[torch.DoubleTensor of size 4]\n",
            ")\n",
            "(3, torch.Size([4, 3, 3, 64, 64]), ['01422', '06436', '07460', '07462'], \n",
            " 1\n",
            " 7\n",
            " 9\n",
            " 9\n",
            "[torch.DoubleTensor of size 4]\n",
            ")\n",
            "(4, torch.Size([4, 3, 3, 64, 64]), ['05368', '00252', '05538', '03669'], \n",
            " 6\n",
            " 0\n",
            " 6\n",
            " 4\n",
            "[torch.DoubleTensor of size 4]\n",
            ")\n",
            "(5, torch.Size([4, 3, 3, 64, 64]), ['00051', '05908', '01561', '07051'], \n",
            " 0\n",
            " 7\n",
            " 1\n",
            " 8\n",
            "[torch.DoubleTensor of size 4]\n",
            ")\n",
            "(6, torch.Size([4, 3, 3, 64, 64]), ['00507', '00115', '00967', '01144'], \n",
            " 0\n",
            " 0\n",
            " 1\n",
            " 1\n",
            "[torch.DoubleTensor of size 4]\n",
            ")\n",
            "(7, torch.Size([4, 3, 3, 64, 64]), ['03632', '05377', '04074', '06525'], \n",
            " 4\n",
            " 6\n",
            " 4\n",
            " 8\n",
            "[torch.DoubleTensor of size 4]\n",
            ")\n",
            "(8, torch.Size([4, 3, 3, 64, 64]), ['02184', '00052', '02101', '00277'], \n",
            " 2\n",
            " 0\n",
            " 2\n",
            " 0\n",
            "[torch.DoubleTensor of size 4]\n",
            ")\n",
            "(9, torch.Size([4, 3, 3, 64, 64]), ['00600', '05960', '00908', '03353'], \n",
            " 0\n",
            " 7\n",
            " 0\n",
            " 3\n",
            "[torch.DoubleTensor of size 4]\n",
            ")\n",
            "(10, torch.Size([4, 3, 3, 64, 64]), ['05504', '01043', '00136', '01642'], \n",
            " 6\n",
            " 1\n",
            " 0\n",
            " 1\n",
            "[torch.DoubleTensor of size 4]\n",
            ")\n",
            "(11, torch.Size([4, 3, 3, 64, 64]), ['05708', '06061', '01411', '00040'], \n",
            " 7\n",
            " 7\n",
            " 1\n",
            " 0\n",
            "[torch.DoubleTensor of size 4]\n",
            ")\n",
            "(12, torch.Size([4, 3, 3, 64, 64]), ['06530', '02852', '01025', '01799'], \n",
            " 8\n",
            " 3\n",
            " 1\n",
            " 1\n",
            "[torch.DoubleTensor of size 4]\n",
            ")\n",
            "(13, torch.Size([4, 3, 3, 64, 64]), ['00471', '02998', '07478', '04079'], \n",
            " 0\n",
            " 3\n",
            " 9\n",
            " 4\n",
            "[torch.DoubleTensor of size 4]\n",
            ")\n",
            "(14, torch.Size([4, 3, 3, 64, 64]), ['00763', '00470', '02873', '03116'], \n",
            " 0\n",
            " 0\n",
            " 3\n",
            " 3\n",
            "[torch.DoubleTensor of size 4]\n",
            ")\n",
            "(15, torch.Size([4, 3, 3, 64, 64]), ['00527', '02952', '07485', '04671'], \n",
            " 0\n",
            " 3\n",
            " 9\n",
            " 5\n",
            "[torch.DoubleTensor of size 4]\n",
            ")\n",
            "(16, torch.Size([4, 3, 3, 64, 64]), ['05111', '01506', '03444', '00830'], \n",
            " 6\n",
            " 1\n",
            " 3\n",
            " 0\n",
            "[torch.DoubleTensor of size 4]\n",
            ")\n",
            "(17, torch.Size([4, 3, 3, 64, 64]), ['01263', '05475', '01914', '05310'], \n",
            " 1\n",
            " 6\n",
            " 2\n",
            " 6\n",
            "[torch.DoubleTensor of size 4]\n",
            ")\n",
            "(18, torch.Size([4, 3, 3, 64, 64]), ['07088', '05124', '04874', '04543'], \n",
            " 8\n",
            " 6\n",
            " 5\n",
            " 5\n",
            "[torch.DoubleTensor of size 4]\n",
            ")\n",
            "(19, torch.Size([4, 3, 3, 64, 64]), ['03489', '07474', '05930', '00805'], \n",
            " 3\n",
            " 9\n",
            " 7\n",
            " 0\n",
            "[torch.DoubleTensor of size 4]\n",
            ")\n",
            "(20, torch.Size([4, 3, 3, 64, 64]), ['06432', '04004', '03974', '04853'], \n",
            " 7\n",
            " 4\n",
            " 4\n",
            " 5\n",
            "[torch.DoubleTensor of size 4]\n",
            ")\n",
            "(21, torch.Size([4, 3, 3, 64, 64]), ['06839', '03424', '00393', '04026'], \n",
            " 8\n",
            " 3\n",
            " 0\n",
            " 4\n",
            "[torch.DoubleTensor of size 4]\n",
            ")\n"
          ],
          "name": "stdout"
        }
      ]
    },
    {
      "metadata": {
        "id": "7yAs-eghDkrP",
        "colab_type": "code",
        "colab": {
          "autoexec": {
            "startup": false,
            "wait_interval": 0
          }
        }
      },
      "cell_type": "code",
      "source": [
        "clip_dataset_train=ActionClipDataset(root_dir='/content/targetdir/data/trainClips/',labels=label_train,transform=T.ToTensor())\n",
        "\n",
        "clip_dataloader_train = DataLoader(clip_dataset_train, batch_size=16,\n",
        "                        shuffle=True, num_workers=4)\n",
        "clip_dataset_val=ActionClipDataset(root_dir='/content/targetdir/data/valClips/',labels=label_val,transform=T.ToTensor())\n",
        "\n",
        "clip_dataloader_val = DataLoader(clip_dataset_val, batch_size=16,\n",
        "                        shuffle=True, num_workers=4)\n",
        "clip_dataset_test=ActionClipDataset(root_dir='/content/targetdir/data/testClips/',labels=[],transform=T.ToTensor())\n",
        "\n",
        "clip_dataloader_test = DataLoader(clip_dataset_test, batch_size=16,\n",
        "                        shuffle=False, num_workers=4)"
      ],
      "execution_count": 0,
      "outputs": []
    },
    {
      "metadata": {
        "id": "wzD63NWoDkrR",
        "colab_type": "text"
      },
      "cell_type": "markdown",
      "source": [
        "Write the Flatten for 3d covolution feature maps."
      ]
    },
    {
      "metadata": {
        "id": "0kyOtSFYDkrS",
        "colab_type": "code",
        "colab": {
          "autoexec": {
            "startup": false,
            "wait_interval": 0
          }
        }
      },
      "cell_type": "code",
      "source": [
        "class Flatten3d(nn.Module):\n",
        "    def forward(self, x):\n",
        "      N, C, D, H, W = x.size() # read in N, C, H, W\n",
        "      return x.view(N, -1)\n",
        "        ###############6th To Do (5 points)###################\n",
        "        "
      ],
      "execution_count": 0,
      "outputs": []
    },
    {
      "metadata": {
        "id": "ZoTxT28HDkrS",
        "colab_type": "text"
      },
      "cell_type": "markdown",
      "source": [
        "Design a network using 3D convolution on videos for video classification."
      ]
    },
    {
      "metadata": {
        "id": "CIT688RyDkrT",
        "colab_type": "code",
        "colab": {
          "autoexec": {
            "startup": false,
            "wait_interval": 0
          },
          "base_uri": "https://localhost:8080/",
          "height": 34
        },
        "outputId": "97b7b7b4-2089-4519-ffd8-2d0a77dbb1ef",
        "executionInfo": {
          "status": "ok",
          "timestamp": 1523235702881,
          "user_tz": 240,
          "elapsed": 332,
          "user": {
            "displayName": "Sangtian Wang",
            "photoUrl": "https://lh3.googleusercontent.com/a/default-user=s128",
            "userId": "114974396457600215662"
          }
        }
      },
      "cell_type": "code",
      "source": [
        "fixed_model_3d = nn.Sequential( # You fill this in!\n",
        "    ###############7th To Do (16 points)#########################\n",
        "#     nn.Conv3d(3, 32, (1,7,7), 1),\n",
        "#     nn.ReLU(inplace=True),\n",
        "#     nn.MaxPool3d((1,2,2), (1,2,2)),\n",
        "#     nn.Conv3d(32, 16, (1,7,7), 1),\n",
        "#     nn.ReLU(inplace=True),\n",
        "#     nn.MaxPool3d((1,2,2), (1,2,2)),\n",
        "#     Flatten3d(),\n",
        "#     nn.ReLU(inplace=True),\n",
        "#     nn.Linear(1936*3,10)\n",
        "    nn.Conv3d(3, 32, (1,3,3), 1),\n",
        "    nn.BatchNorm3d(32),\n",
        "    nn.ReLU(inplace=True),\n",
        "    nn.MaxPool3d((1,2,2), (1,2,2)),\n",
        "    nn.Conv3d(32, 16, (1,3,3), 1),\n",
        "    nn.BatchNorm3d(16),\n",
        "    nn.ReLU(inplace=True),\n",
        "    nn.MaxPool3d((1,2,2), (1,2,2)),\n",
        "    Flatten3d(),\n",
        "    nn.Dropout(0.5),\n",
        "    nn.ReLU(inplace=True),\n",
        "    nn.Linear(14*14*16*3,10)\n",
        "    \n",
        ")\n",
        "\n",
        "dtype = torch.cuda.FloatTensor\n",
        "fixed_model_3d = fixed_model_3d.type(dtype)\n",
        "x = torch.randn(32,3, 3, 64, 64).type(dtype)\n",
        "x_var = Variable(x).type(dtype) # Construct a PyTorch Variable out of your input data\n",
        "ans = fixed_model_3d(x_var) \n",
        "np.array_equal(np.array(ans.size()), np.array([32, 10]))\n"
      ],
      "execution_count": 35,
      "outputs": [
        {
          "output_type": "execute_result",
          "data": {
            "text/plain": [
              "True"
            ]
          },
          "metadata": {
            "tags": []
          },
          "execution_count": 35
        }
      ]
    },
    {
      "metadata": {
        "id": "YzzqB8T-36y7",
        "colab_type": "code",
        "colab": {
          "autoexec": {
            "startup": false,
            "wait_interval": 0
          }
        }
      },
      "cell_type": "code",
      "source": [
        ""
      ],
      "execution_count": 0,
      "outputs": []
    },
    {
      "metadata": {
        "id": "hthXjCWzDkrU",
        "colab_type": "text"
      },
      "cell_type": "markdown",
      "source": [
        "### Describe what you did (4 points)\n",
        "\n",
        "In the cell below you should write an explanation of what you did, any additional features that you implemented, and any visualizations or graphs that you make in the process of training and evaluating your network."
      ]
    },
    {
      "metadata": {
        "id": "n-Lrx7vnDkrU",
        "colab_type": "text"
      },
      "cell_type": "markdown",
      "source": [
        "8th To Do\n",
        "Tell us here:\n",
        "\n",
        "- I used Google colab(with free GPU) to train my network.\n",
        "- I added batchnorm nad dropout to my network, these layers improve the performace."
      ]
    },
    {
      "metadata": {
        "id": "TI-lozNEDkrW",
        "colab_type": "code",
        "colab": {
          "autoexec": {
            "startup": false,
            "wait_interval": 0
          }
        }
      },
      "cell_type": "code",
      "source": [
        "\n",
        "loss_fn = nn.CrossEntropyLoss().type(dtype)\n",
        "optimizer = optim.RMSprop(fixed_model_3d.parameters(), lr=1e-4)\n"
      ],
      "execution_count": 0,
      "outputs": []
    },
    {
      "metadata": {
        "id": "CQtviLYSDkrY",
        "colab_type": "code",
        "colab": {
          "autoexec": {
            "startup": false,
            "wait_interval": 0
          }
        }
      },
      "cell_type": "code",
      "source": [
        "def train_3d(model, loss_fn, optimizer,dataloader,num_epochs = 1):\n",
        "    for epoch in range(num_epochs):\n",
        "        print('Starting epoch %d / %d' % (epoch + 1, num_epochs))\n",
        "        model.train()\n",
        "        for t, sample in enumerate(dataloader):\n",
        "            x_var = Variable(sample['clip'].type(dtype))\n",
        "            y_var = Variable(sample['Label'].type(dtype).long())\n",
        "\n",
        "            scores = model(x_var)\n",
        "            \n",
        "            loss = loss_fn(scores, y_var)\n",
        "            if (t + 1) % print_every == 0:\n",
        "                print('t = %d, loss = %.4f' % (t + 1, loss.data[0]))\n",
        "\n",
        "            optimizer.zero_grad()\n",
        "            loss.backward()\n",
        "            optimizer.step()\n",
        "\n",
        "def check_accuracy_3d(model, loader):\n",
        "    '''\n",
        "    if loader.dataset.train:\n",
        "        print('Checking accuracy on validation set')\n",
        "    else:\n",
        "        print('Checking accuracy on test set')  \n",
        "    '''\n",
        "    num_correct = 0\n",
        "    num_samples = 0\n",
        "    model.eval() # Put the model in test mode (the opposite of model.train(), essentially)\n",
        "    for t, sample in enumerate(loader):\n",
        "        x_var = Variable(sample['clip'].type(dtype))\n",
        "        y_var = sample['Label'].type(dtype)\n",
        "        y_var=y_var.cpu()\n",
        "        scores = model(x_var)\n",
        "        _, preds = scores.data.cpu().max(1)\n",
        "        #print(preds)\n",
        "        #print(y_var)\n",
        "        num_correct += (preds.numpy() == y_var.numpy()).sum()\n",
        "        num_samples += preds.size(0)\n",
        "    acc = float(num_correct) / num_samples\n",
        "    print('Got %d / %d correct (%.2f)' % (num_correct, num_samples, 100 * acc))"
      ],
      "execution_count": 0,
      "outputs": []
    },
    {
      "metadata": {
        "id": "xNPnvauEDkra",
        "colab_type": "code",
        "colab": {
          "autoexec": {
            "startup": false,
            "wait_interval": 0
          },
          "base_uri": "https://localhost:8080/",
          "height": 1224
        },
        "outputId": "008e18dc-e3ca-4cf6-b5bc-f8e18fe50f79",
        "executionInfo": {
          "status": "ok",
          "timestamp": 1523236185061,
          "user_tz": 240,
          "elapsed": 132140,
          "user": {
            "displayName": "Sangtian Wang",
            "photoUrl": "https://lh3.googleusercontent.com/a/default-user=s128",
            "userId": "114974396457600215662"
          }
        }
      },
      "cell_type": "code",
      "source": [
        "torch.cuda.random.manual_seed(12345)\n",
        "fixed_model_3d.apply(reset) \n",
        "fixed_model_3d.train() \n",
        "train_3d(fixed_model_3d, loss_fn, optimizer,clip_dataloader_train, num_epochs=14) \n",
        "fixed_model_3d.eval() \n",
        "check_accuracy_3d(fixed_model_3d, clip_dataloader_val)"
      ],
      "execution_count": 40,
      "outputs": [
        {
          "output_type": "stream",
          "text": [
            "Starting epoch 1 / 14\n",
            "t = 100, loss = 1.1025\n",
            "t = 200, loss = 0.9702\n",
            "t = 300, loss = 0.9146\n",
            "t = 400, loss = 0.6719\n",
            "Starting epoch 2 / 14\n",
            "t = 100, loss = 0.5794\n",
            "t = 200, loss = 0.5103\n",
            "t = 300, loss = 0.1974\n",
            "t = 400, loss = 0.5304\n",
            "Starting epoch 3 / 14\n",
            "t = 100, loss = 0.3816\n",
            "t = 200, loss = 0.3730\n",
            "t = 300, loss = 0.1891\n",
            "t = 400, loss = 0.0968\n",
            "Starting epoch 4 / 14\n",
            "t = 100, loss = 0.3599\n",
            "t = 200, loss = 0.0866\n",
            "t = 300, loss = 0.1430\n",
            "t = 400, loss = 0.2885\n",
            "Starting epoch 5 / 14\n",
            "t = 100, loss = 0.1672\n",
            "t = 200, loss = 0.1134\n",
            "t = 300, loss = 0.3251\n",
            "t = 400, loss = 0.3556\n",
            "Starting epoch 6 / 14\n",
            "t = 100, loss = 0.1115\n",
            "t = 200, loss = 0.0838\n",
            "t = 300, loss = 0.2027\n",
            "t = 400, loss = 0.0595\n",
            "Starting epoch 7 / 14\n",
            "t = 100, loss = 0.0339\n",
            "t = 200, loss = 0.0183\n",
            "t = 300, loss = 0.1486\n",
            "t = 400, loss = 0.0889\n",
            "Starting epoch 8 / 14\n",
            "t = 100, loss = 0.0532\n",
            "t = 200, loss = 0.1332\n",
            "t = 300, loss = 0.0931\n",
            "t = 400, loss = 0.1507\n",
            "Starting epoch 9 / 14\n",
            "t = 100, loss = 0.0753\n",
            "t = 200, loss = 0.0744\n",
            "t = 300, loss = 0.0932\n",
            "t = 400, loss = 0.1781\n",
            "Starting epoch 10 / 14\n",
            "t = 100, loss = 0.0206\n",
            "t = 200, loss = 0.2618\n",
            "t = 300, loss = 0.0350\n",
            "t = 400, loss = 0.0929\n",
            "Starting epoch 11 / 14\n",
            "t = 100, loss = 0.1275\n",
            "t = 200, loss = 0.0556\n",
            "t = 300, loss = 0.0596\n",
            "t = 400, loss = 0.0302\n",
            "Starting epoch 12 / 14\n",
            "t = 100, loss = 0.0825\n",
            "t = 200, loss = 0.3235\n",
            "t = 300, loss = 0.0159\n",
            "t = 400, loss = 0.0194\n",
            "Starting epoch 13 / 14\n",
            "t = 100, loss = 0.0223\n",
            "t = 200, loss = 0.1374\n",
            "t = 300, loss = 0.0160\n",
            "t = 400, loss = 0.0204\n",
            "Starting epoch 14 / 14\n",
            "t = 100, loss = 0.0957\n",
            "t = 200, loss = 0.0179\n",
            "t = 300, loss = 0.0106\n",
            "t = 400, loss = 0.0496\n",
            "Got 1492 / 2230 correct (66.91)\n"
          ],
          "name": "stdout"
        }
      ]
    },
    {
      "metadata": {
        "id": "jmO2ISOZDkrb",
        "colab_type": "text"
      },
      "cell_type": "markdown",
      "source": [
        "Test your 3d convolution model on the validation set. You don't need to submit the result of this part to kaggle.  "
      ]
    },
    {
      "metadata": {
        "id": "zLvuyAVLDkrb",
        "colab_type": "text"
      },
      "cell_type": "markdown",
      "source": [
        "Test your model on the test set, predict_on_test_3d() will generate a file named 'results_3d.csv'. Please submit the csv file to kaggle https://www.kaggle.com/c/cse512springhw3video\n",
        "The highest 3 entries get extra 10 points.\n"
      ]
    },
    {
      "metadata": {
        "id": "yQJ7-_zpDkrc",
        "colab_type": "code",
        "colab": {
          "autoexec": {
            "startup": false,
            "wait_interval": 0
          },
          "base_uri": "https://localhost:8080/",
          "height": 34
        },
        "outputId": "3f6bccbb-566b-42b2-dff1-d082d00a0905",
        "executionInfo": {
          "status": "ok",
          "timestamp": 1523236203901,
          "user_tz": 240,
          "elapsed": 2923,
          "user": {
            "displayName": "Sangtian Wang",
            "photoUrl": "https://lh3.googleusercontent.com/a/default-user=s128",
            "userId": "114974396457600215662"
          }
        }
      },
      "cell_type": "code",
      "source": [
        "def predict_on_test_3d(model, loader):\n",
        "    '''\n",
        "    if loader.dataset.train:\n",
        "        print('Checking accuracy on validation set')\n",
        "    else:\n",
        "        print('Checking accuracy on test set')  \n",
        "    '''\n",
        "    num_correct = 0\n",
        "    num_samples = 0\n",
        "    model.eval() # Put the model in test mode (the opposite of model.train(), essentially)\n",
        "    results=open('results_3d.csv','w')\n",
        "    count=0\n",
        "    results.write('Id'+','+'Class'+'\\n')\n",
        "    for t, sample in enumerate(loader):\n",
        "        x_var = Variable(sample['clip'].type(dtype))\n",
        "        scores = model(x_var)\n",
        "        _, preds = scores.data.max(1)\n",
        "        for i in range(len(preds)):\n",
        "            results.write(str(count)+','+str(preds[i])+'\\n')\n",
        "            count+=1\n",
        "    results.close()\n",
        "    return count\n",
        "    \n",
        "count=predict_on_test_3d(fixed_model_3d, clip_dataloader_test)\n",
        "print(count)\n"
      ],
      "execution_count": 41,
      "outputs": [
        {
          "output_type": "stream",
          "text": [
            "3270\n"
          ],
          "name": "stdout"
        }
      ]
    },
    {
      "metadata": {
        "id": "jxJjSZPc9M3s",
        "colab_type": "code",
        "colab": {
          "autoexec": {
            "startup": false,
            "wait_interval": 0
          }
        }
      },
      "cell_type": "code",
      "source": [
        "from google.colab import files\n",
        "files.download('results_3d.csv')"
      ],
      "execution_count": 0,
      "outputs": []
    }
  ]
}