{
  "nbformat": 4,
  "nbformat_minor": 0,
  "metadata": {
    "colab": {
      "name": "RNN_ActionClassify.ipynb",
      "version": "0.3.2",
      "views": {},
      "default_view": {},
      "provenance": [],
      "collapsed_sections": []
    },
    "kernelspec": {
      "display_name": "Python 2",
      "language": "python",
      "name": "python2"
    },
    "accelerator": "GPU"
  },
  "cells": [
    {
      "metadata": {
        "id": "ppBFb2jmtN93",
        "colab_type": "text"
      },
      "cell_type": "markdown",
      "source": [
        "# Sequence Classification using Recurrent Neural Networks(RNN)\n",
        "In this homework, you will learn how to train a recurrent neural network for human action classification. RNN is designed handle sequential data. The network can incorporate both past history and current input. [This](http://colah.github.io/posts/2015-08-Understanding-LSTMs/) is a very good tutorial. You should read it before you start."
      ]
    },
    {
      "metadata": {
        "id": "m9FpoNsKtN94",
        "colab_type": "text"
      },
      "cell_type": "markdown",
      "source": [
        "## Setup\n",
        "**Please make sure you have h5py and torchnet installed**\n",
        "> pip install h5py\n",
        "\n",
        "> pip install git+https://github.com/pytorch/tnt.git@master\n",
        "\n",
        "## Known Windows Issues:\n",
        "### In case you're getting an error [Read more](https://discuss.pytorch.org/t/brokenpipeerror-errno-32-broken-pipe-when-i-run-cifar10-tutorial-py/6224): \n",
        "```python\n",
        "BrokenPipeError: [Errno 32] Broken pipe\n",
        "```\n",
        "\n",
        ">In the dataloader block change Line 39, 42, and 45 num_workers=0 \n",
        "\n",
        "### In case of error (This should be a CUDA error [Read more](https://discuss.pytorch.org/t/asserterror-in-lstm-layer-on-gpu/8698)):\n",
        "\n",
        "```python\n",
        "--> 186             assert param_from.type() == param_to.type()\n",
        "AssertionError: \n",
        "```\n",
        "\n",
        "**Replace following lines:**\n",
        "```python\n",
        "def run_epoch(data_loader, model, criterion, epoch, is_training, optimizer=None):\n",
        "    ...\n",
        "    input_sequence_var = Variable(sequence).type(FloatTensor)\n",
        "    input_label_var = Variable(label).type(LongTensor)\n",
        "    ...\n",
        "```\n",
        "```python\n",
        "def predict_on_test(model, data_loader):\n",
        "    ...\n",
        "        input_sequence_var = Variable(sequence).type(FloatTensor)\n",
        "    ...\n",
        "```\n",
        "** With: **\n",
        "```python\n",
        "def run_epoch(data_loader, model, criterion, epoch, is_training, optimizer=None):\n",
        "    ...\n",
        "    input_sequence_var = Variable(sequence)\n",
        "    input_label_var = Variable(label)\n",
        "    ...\n",
        "```\n",
        "```python\n",
        "def predict_on_test(model, data_loader):\n",
        "    ...\n",
        "        input_sequence_var = Variable(sequence)\n",
        "    ...\n",
        "```"
      ]
    },
    {
      "metadata": {
        "id": "P5o_aFfKtVM6",
        "colab_type": "code",
        "colab": {
          "autoexec": {
            "startup": false,
            "wait_interval": 0
          },
          "base_uri": "https://localhost:8080/",
          "height": 595
        },
        "outputId": "bf6b321e-486a-4610-b9ca-742dcb195158",
        "executionInfo": {
          "status": "ok",
          "timestamp": 1525537554694,
          "user_tz": 240,
          "elapsed": 7182,
          "user": {
            "displayName": "Sangtian Wang",
            "photoUrl": "https://lh3.googleusercontent.com/a/default-user=s128",
            "userId": "114974396457600215662"
          }
        }
      },
      "cell_type": "code",
      "source": [
        "!pip install h5py\n",
        "!pip install git+https://github.com/pytorch/tnt.git@master"
      ],
      "execution_count": 4,
      "outputs": [
        {
          "output_type": "stream",
          "text": [
            "Requirement already satisfied: h5py in /usr/local/lib/python2.7/dist-packages (2.7.1)\r\n",
            "Requirement already satisfied: numpy>=1.7 in /usr/local/lib/python2.7/dist-packages (from h5py) (1.14.3)\r\n",
            "Requirement already satisfied: six in /usr/local/lib/python2.7/dist-packages (from h5py) (1.11.0)\n",
            "Collecting git+https://github.com/pytorch/tnt.git@master\n",
            "  Cloning https://github.com/pytorch/tnt.git (to revision master) to /tmp/pip-req-build-beXifO\n",
            "Requirement already satisfied: torch in /usr/local/lib/python2.7/dist-packages (from torchnet==0.0.2) (0.3.0.post4)\n",
            "Requirement already satisfied: six in /usr/local/lib/python2.7/dist-packages (from torchnet==0.0.2) (1.11.0)\n",
            "Collecting visdom (from torchnet==0.0.2)\n",
            "\u001b[?25l  Downloading https://files.pythonhosted.org/packages/0e/f2/27b5d7c34b718afb355587d4e0c1f9108e925db4c0c932e935ba01051efd/visdom-0.1.7.tar.gz (43kB)\n",
            "\u001b[K    100% |████████████████████████████████| 51kB 2.0MB/s \n",
            "\u001b[?25hRequirement already satisfied: numpy in /usr/local/lib/python2.7/dist-packages (from torch->torchnet==0.0.2) (1.14.3)\n",
            "Requirement already satisfied: pyyaml in /usr/local/lib/python2.7/dist-packages (from torch->torchnet==0.0.2) (3.12)\n",
            "Requirement already satisfied: pillow in /usr/local/lib/python2.7/dist-packages (from visdom->torchnet==0.0.2) (5.1.0)\n",
            "Requirement already satisfied: requests in /usr/local/lib/python2.7/dist-packages (from visdom->torchnet==0.0.2) (2.18.4)\n",
            "Requirement already satisfied: tornado in /usr/local/lib/python2.7/dist-packages (from visdom->torchnet==0.0.2) (4.5.3)\n",
            "Requirement already satisfied: pyzmq in /usr/local/lib/python2.7/dist-packages (from visdom->torchnet==0.0.2) (16.0.4)\n",
            "Collecting torchfile (from visdom->torchnet==0.0.2)\n",
            "  Downloading https://files.pythonhosted.org/packages/91/af/5b305f86f2d218091af657ddb53f984ecbd9518ca9fe8ef4103a007252c9/torchfile-0.1.0.tar.gz\n",
            "Requirement already satisfied: idna<2.7,>=2.5 in /usr/local/lib/python2.7/dist-packages (from requests->visdom->torchnet==0.0.2) (2.6)\n",
            "Requirement already satisfied: urllib3<1.23,>=1.21.1 in /usr/local/lib/python2.7/dist-packages (from requests->visdom->torchnet==0.0.2) (1.22)\n",
            "Requirement already satisfied: certifi>=2017.4.17 in /usr/local/lib/python2.7/dist-packages (from requests->visdom->torchnet==0.0.2) (2018.4.16)\n",
            "Requirement already satisfied: chardet<3.1.0,>=3.0.2 in /usr/local/lib/python2.7/dist-packages (from requests->visdom->torchnet==0.0.2) (3.0.4)\n",
            "Requirement already satisfied: singledispatch in /usr/local/lib/python2.7/dist-packages (from tornado->visdom->torchnet==0.0.2) (3.4.0.3)\n",
            "Requirement already satisfied: backports_abc>=0.4 in /usr/local/lib/python2.7/dist-packages (from tornado->visdom->torchnet==0.0.2) (0.5)\n",
            "Building wheels for collected packages: torchnet, visdom, torchfile\n",
            "  Running setup.py bdist_wheel for torchnet ... \u001b[?25l-\b \bdone\n",
            "\u001b[?25h  Stored in directory: /tmp/pip-ephem-wheel-cache-1MTq5m/wheels/17/05/ec/d05d051a225871af52bf504f5e8daf57704811b3c1850d0012\n",
            "  Running setup.py bdist_wheel for visdom ... \u001b[?25l-\b \bdone\n",
            "\u001b[?25h  Stored in directory: /content/.cache/pip/wheels/5c/ea/0f/4e3a4b23f352c708d36d3a7ff654fb014f893f50baa88f2d29\n",
            "  Running setup.py bdist_wheel for torchfile ... \u001b[?25l-\b \bdone\n",
            "\u001b[?25h  Stored in directory: /content/.cache/pip/wheels/b1/c3/d6/9a1cc8f3a99a0fc1124cae20153f36af59a6e683daca0a0814\n",
            "Successfully built torchnet visdom torchfile\n",
            "Installing collected packages: torchfile, visdom, torchnet\n",
            "Successfully installed torchfile-0.1.0 torchnet-0.0.2 visdom-0.1.7\n"
          ],
          "name": "stdout"
        }
      ]
    },
    {
      "metadata": {
        "id": "nS_ykxPKuH5T",
        "colab_type": "code",
        "colab": {
          "autoexec": {
            "startup": false,
            "wait_interval": 0
          }
        }
      },
      "cell_type": "code",
      "source": [
        "# http://pytorch.org/\n",
        "from os import path\n",
        "from wheel.pep425tags import get_abbr_impl, get_impl_ver, get_abi_tag\n",
        "platform = '{}{}-{}'.format(get_abbr_impl(), get_impl_ver(), get_abi_tag())\n",
        "\n",
        "accelerator = 'cu80' if path.exists('/opt/bin/nvidia-smi') else 'cpu'\n",
        "\n",
        "!pip install -q http://download.pytorch.org/whl/{accelerator}/torch-0.3.0.post4-{platform}-linux_x86_64.whl torchvision"
      ],
      "execution_count": 0,
      "outputs": []
    },
    {
      "metadata": {
        "id": "W7SNccpIuQkW",
        "colab_type": "code",
        "colab": {
          "autoexec": {
            "startup": false,
            "wait_interval": 0
          },
          "resources": {
            "http://localhost:8080/nbextensions/google.colab/files.js": {
              "data": "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",
              "ok": true,
              "headers": [
                [
                  "content-type",
                  "application/javascript"
                ]
              ],
              "status": 200,
              "status_text": ""
            }
          },
          "base_uri": "https://localhost:8080/",
          "height": 137
        },
        "outputId": "b45c61e0-c0c2-4cad-82e5-6624e1973367",
        "executionInfo": {
          "status": "ok",
          "timestamp": 1525548312219,
          "user_tz": 240,
          "elapsed": 7222,
          "user": {
            "displayName": "Sangtian Wang",
            "photoUrl": "https://lh3.googleusercontent.com/a/default-user=s128",
            "userId": "114974396457600215662"
          }
        }
      },
      "cell_type": "code",
      "source": [
        "# upload data.zip to colab\n",
        "\n",
        "from google.colab import files\n",
        "\n",
        "uploaded = files.upload()\n",
        "\n",
        "for fn in uploaded.keys():\n",
        "  print('User uploaded file \"{name}\" with length {length} bytes'.format(\n",
        "      name=fn, length=len(uploaded[fn])))"
      ],
      "execution_count": 149,
      "outputs": [
        {
          "output_type": "display_data",
          "data": {
            "text/plain": [
              "<IPython.core.display.HTML object>"
            ],
            "text/html": [
              "\n",
              "     <input type=\"file\" id=\"files-be72d7f5-6ea1-44f8-994e-773d07f94635\" name=\"files[]\" multiple disabled />\n",
              "     <output id=\"result-be72d7f5-6ea1-44f8-994e-773d07f94635\">\n",
              "      Upload widget is only available when the cell has been executed in the\n",
              "      current browser session. Please rerun this cell to enable.\n",
              "      </output>\n",
              "      <script src=\"/nbextensions/google.colab/files.js\"></script> "
            ]
          },
          "metadata": {
            "tags": []
          }
        },
        {
          "output_type": "stream",
          "text": [
            "Saving loss.png to loss.png\n",
            "Saving acc.png to acc.png\n",
            "User uploaded file \"loss.png\" with length 25173 bytes\n",
            "User uploaded file \"acc.png\" with length 22983 bytes\n"
          ],
          "name": "stdout"
        }
      ]
    },
    {
      "metadata": {
        "id": "DdElOXvXuXfZ",
        "colab_type": "code",
        "colab": {
          "autoexec": {
            "startup": false,
            "wait_interval": 0
          },
          "base_uri": "https://localhost:8080/",
          "height": 51
        },
        "outputId": "05f54260-81b1-434a-fcf9-9d50465b39e0",
        "executionInfo": {
          "status": "ok",
          "timestamp": 1524944141468,
          "user_tz": 240,
          "elapsed": 1405,
          "user": {
            "displayName": "Sangtian Wang",
            "photoUrl": "https://lh3.googleusercontent.com/a/default-user=s128",
            "userId": "114974396457600215662"
          }
        }
      },
      "cell_type": "code",
      "source": [
        "ls"
      ],
      "execution_count": 6,
      "outputs": [
        {
          "output_type": "stream",
          "text": [
            "\u001b[0m\u001b[01;34mdatalab\u001b[0m/      train_data.h5   val_data.h5\r\n",
            "test_data.h5  train_label.h5  val_label.h5\r\n"
          ],
          "name": "stdout"
        }
      ]
    },
    {
      "metadata": {
        "id": "_o6CifkBtN95",
        "colab_type": "code",
        "colab": {
          "autoexec": {
            "startup": false,
            "wait_interval": 0
          },
          "base_uri": "https://localhost:8080/",
          "height": 34
        },
        "outputId": "dd11e5cd-9cb7-4db1-a1ec-5aa4e4429f53",
        "executionInfo": {
          "status": "ok",
          "timestamp": 1525537560824,
          "user_tz": 240,
          "elapsed": 286,
          "user": {
            "displayName": "Sangtian Wang",
            "photoUrl": "https://lh3.googleusercontent.com/a/default-user=s128",
            "userId": "114974396457600215662"
          }
        }
      },
      "cell_type": "code",
      "source": [
        "import os\n",
        "import numpy as np\n",
        "import h5py\n",
        "\n",
        "import torch\n",
        "import torch.nn as nn\n",
        "from torch.autograd import Variable\n",
        "import torch.utils.data as DD\n",
        "import torchnet as tnt\n",
        "\n",
        "\n",
        "use_cuda = torch.cuda.is_available()\n",
        "print('use cuda: %s'%(use_cuda))\n",
        "FloatTensor = torch.cuda.FloatTensor if use_cuda else torch.FloatTensor\n",
        "LongTensor = torch.cuda.LongTensor if use_cuda else torch.LongTensor\n",
        "ByteTensor = torch.cuda.ByteTensor if use_cuda else torch.ByteTensor\n",
        "\n"
      ],
      "execution_count": 5,
      "outputs": [
        {
          "output_type": "stream",
          "text": [
            "use cuda: True\n"
          ],
          "name": "stdout"
        }
      ]
    },
    {
      "metadata": {
        "id": "Ca4SJQUYtN98",
        "colab_type": "text"
      },
      "cell_type": "markdown",
      "source": [
        "## Dataset\n",
        "The data we are using is skeleton data, which indicates the 3D locations of body joints. In total, there are 25 body joints. It is collected by Kinect v2. To make it easier, each sequence have same number of frames. You need to classify 10 different actions. There are 4000 training sequences, 800 validation sequences, and 1000 test sequences. Each sequence has 15 frames, each frame is a 75-dimension vector (3*25).\n",
        "\n",
        "For your convenience, we provide the dataloader for you.\n"
      ]
    },
    {
      "metadata": {
        "id": "W3FF6rErtN99",
        "colab_type": "code",
        "colab": {
          "autoexec": {
            "startup": false,
            "wait_interval": 0
          }
        }
      },
      "cell_type": "code",
      "source": [
        "class Dataset(DD.Dataset):\n",
        "    # subset can be: 'train', 'val', 'test'\n",
        "    def __init__(self, data_path, subset='train'):\n",
        "        super(Dataset, self).__init__()\n",
        "        self.data_path = os.path.join(data_path, '%s_data.h5'%subset)\n",
        "        self.subset = subset\n",
        "\n",
        "        with h5py.File(self.data_path) as f:\n",
        "            self.data = np.array(f['data'])\n",
        "\n",
        "        if subset != 'test':\n",
        "            self.label_path = os.path.join(data_path, '%s_label.h5'%subset)\n",
        "            with h5py.File(self.label_path) as f:\n",
        "                self.label = np.array(f['label'])\n",
        "\n",
        "        self.num_sequences = self.data.shape[0]\n",
        "        self.seq_len = self.data.shape[1]\n",
        "        self.n_dim = self.data.shape[2]\n",
        "\n",
        "    def __getitem__(self, index):\n",
        "        seq = self.data[index]\n",
        "        if self.subset != 'test':\n",
        "            label = int(self.label[index])\n",
        "            sample = {'seq': seq, 'label': label}\n",
        "        else:\n",
        "            sample = {'seq': seq}\n",
        "        return sample\n",
        "\n",
        "    def __len__(self):\n",
        "        return self.num_sequences\n",
        "\n",
        "trSet = Dataset('.', subset='train')\n",
        "valSet = Dataset('.', subset='val')\n",
        "tstSet = Dataset('.', subset='test')\n",
        "\n",
        "batch_size = 100\n",
        "trLD = DD.DataLoader(trSet, batch_size=batch_size,\n",
        "       sampler=DD.sampler.RandomSampler(trSet),\n",
        "       num_workers=2, pin_memory=False)\n",
        "valLD = DD.DataLoader(valSet, batch_size=batch_size,\n",
        "       sampler=DD.sampler.SequentialSampler(valSet),\n",
        "       num_workers=1, pin_memory=False)\n",
        "tstLD = DD.DataLoader(tstSet, batch_size=batch_size,\n",
        "       sampler=DD.sampler.SequentialSampler(tstSet),\n",
        "       num_workers=1, pin_memory=False)\n",
        "\n",
        "input_dim = trSet.n_dim\n",
        "num_class = 10"
      ],
      "execution_count": 0,
      "outputs": []
    },
    {
      "metadata": {
        "id": "tv5wS1lktN9_",
        "colab_type": "text"
      },
      "cell_type": "markdown",
      "source": [
        "## Model\n",
        "Pytorch has implemented different types of recurrent layers for you. For this homework, you can use any type of RNNs as you want:\n",
        "> torch.nn.RNN()\n",
        "\n",
        "> torch.nn.LSTM()\n",
        "\n",
        "> torch.nn.GRU()\n",
        "\n",
        "You can check details for different types of recurrent layers here: [RNN](http://pytorch.org/docs/master/nn.html#torch.nn.RNN), [LSTM]( http://pytorch.org/docs/master/nn.html#torch.nn.LSTM), [GRU](http://pytorch.org/docs/master/nn.html#torch.nn.GRU)\n",
        "\n",
        "\n",
        "### Implement a specific model\n",
        "In this section, you need to implement a model for sequence classification. The model has following layers:\n",
        "* 1 Layer LSTM layer with hidden size of 100, and input size of 75\n",
        "* A linear layer that goes from 100 to num_class (10). \n",
        "\n",
        "An LSTM layer takes an input of size of (batch_size, seq_len, fea_dim) and outputs a variable of shape (batch_size, seq_len, hidden_size). In this homework, the classification score for a sequence is the classification score for the last step of rnn_outputs.\n",
        "\n"
      ]
    },
    {
      "metadata": {
        "id": "8PUYcb1XtN-A",
        "colab_type": "code",
        "colab": {
          "autoexec": {
            "startup": false,
            "wait_interval": 0
          },
          "base_uri": "https://localhost:8080/",
          "height": 85
        },
        "outputId": "7c2b9289-613e-48a2-9bea-b319b43f5a63",
        "executionInfo": {
          "status": "ok",
          "timestamp": 1525546903005,
          "user_tz": 240,
          "elapsed": 258,
          "user": {
            "displayName": "Sangtian Wang",
            "photoUrl": "https://lh3.googleusercontent.com/a/default-user=s128",
            "userId": "114974396457600215662"
          }
        }
      },
      "cell_type": "code",
      "source": [
        "# sequence classification model\n",
        "class SequenceClassify(nn.Module):\n",
        "    def __init__(self):\n",
        "        super(SequenceClassify, self).__init__()\n",
        "        \n",
        "        ############## 1st To Do (20 points) ##############\n",
        "        ###################################################\n",
        "        self.recurrent_layer = nn.LSTM(input_size=75, hidden_size = 100, num_layers=2)\n",
        "        self.classify_layer = nn.Linear(1500, num_class)\n",
        "        ###################################################\n",
        "    \n",
        "    # the size of input is [batch_size, seq_len(15), input_dim(75)]\n",
        "    # the size of logits is [batch_size, num_class]\n",
        "    def forward(self, input, h_t_1=None, c_t_1=None):\n",
        "        # the size of rnn_outputs is [batch_size, seq_len, rnn_size]\n",
        "        rnn_outputs, (hn, cn) = self.recurrent_layer(input)\n",
        "        # classify the last step of rnn_outpus\n",
        "        # the size of logits is [batch_size, num_class]\n",
        "        \n",
        "        # logits = self.classify_layer(rnn_outputs[:,-1]) //Modified\n",
        "        rnn_outputs_reshape = rnn_outputs.view(100, -1)\n",
        "        logits = self.classify_layer(rnn_outputs_reshape)\n",
        "        return logits\n",
        "\n",
        "model = SequenceClassify()\n",
        "model.type(FloatTensor)"
      ],
      "execution_count": 127,
      "outputs": [
        {
          "output_type": "execute_result",
          "data": {
            "text/plain": [
              "SequenceClassify(\n",
              "  (recurrent_layer): LSTM(75, 100, num_layers=2)\n",
              "  (classify_layer): Linear(in_features=1500, out_features=10)\n",
              ")"
            ]
          },
          "metadata": {
            "tags": []
          },
          "execution_count": 127
        }
      ]
    },
    {
      "metadata": {
        "id": "A2dCrmF4tN-B",
        "colab_type": "text"
      },
      "cell_type": "markdown",
      "source": [
        "## Train the model\n",
        "After you have the dataloader and model, you can start training the model. Define a SGD optimizer with learning rate of 1e-2, and a cross-entropy loss function:"
      ]
    },
    {
      "metadata": {
        "id": "hEcnHPqstN-C",
        "colab_type": "code",
        "colab": {
          "autoexec": {
            "startup": false,
            "wait_interval": 0
          }
        }
      },
      "cell_type": "code",
      "source": [
        "################ 2nd To Do  (5 points)##################\n",
        "# optimizer = torch.optim.SGD(model.parameters(), lr=0.01) //Answer for assignment\n",
        "optimizer = torch.optim.Adam(model.parameters(), lr=0.003)\n",
        "criterion = torch.nn.CrossEntropyLoss().type(FloatTensor)"
      ],
      "execution_count": 0,
      "outputs": []
    },
    {
      "metadata": {
        "id": "ia68ydyGtN-E",
        "colab_type": "code",
        "colab": {
          "autoexec": {
            "startup": false,
            "wait_interval": 0
          },
          "base_uri": "https://localhost:8080/",
          "height": 3077
        },
        "outputId": "9dea73d2-b0b3-4d99-895f-518d03ef0f9a",
        "executionInfo": {
          "status": "ok",
          "timestamp": 1525547109530,
          "user_tz": 240,
          "elapsed": 203249,
          "user": {
            "displayName": "Sangtian Wang",
            "photoUrl": "https://lh3.googleusercontent.com/a/default-user=s128",
            "userId": "114974396457600215662"
          }
        }
      },
      "cell_type": "code",
      "source": [
        "# run the model for one epoch\n",
        "# can be used for both training or validation model\n",
        "\n",
        "\n",
        "def run_epoch(data_loader, model, criterion, epoch, is_training, optimizer=None):\n",
        "    if is_training:\n",
        "        model.train()\n",
        "        logger_prefix = 'train'\n",
        "    else:\n",
        "        model.eval()\n",
        "        logger_prefix = 'val'\n",
        "\n",
        "    confusion_matrix = tnt.meter.ConfusionMeter(num_class)\n",
        "    acc = tnt.meter.ClassErrorMeter(accuracy=True)\n",
        "    meter_loss = tnt.meter.AverageValueMeter()\n",
        "\n",
        "    for batch_idx, sample in enumerate(data_loader):\n",
        "        sequence = sample['seq']\n",
        "        label = sample['label']\n",
        "        input_sequence_var = Variable(sequence).type(FloatTensor)\n",
        "        input_label_var = Variable(label).type(LongTensor)\n",
        "        \n",
        "\n",
        "        # compute output\n",
        "        # output_logits: [batch_size, num_class]\n",
        "        output_logits = model(input_sequence_var)\n",
        "        loss = criterion(output_logits, input_label_var)\n",
        "\n",
        "        if is_training:\n",
        "            optimizer.zero_grad()\n",
        "            loss.backward()\n",
        "            optimizer.step()\n",
        "\n",
        "        meter_loss.add(loss.data[0])\n",
        "        acc.add(output_logits.data, input_label_var.data)\n",
        "        confusion_matrix.add(output_logits.data, input_label_var.data)\n",
        "\n",
        "\n",
        "    print('%s Epoch: %d  , Loss: %.4f,  Accuracy: %.2f'%(logger_prefix, epoch, meter_loss.value()[0], acc.value()[0]))\n",
        "    return acc.value()[0], meter_loss.value()[0]\n",
        "\n",
        "\n",
        "  \n",
        "num_epochs = 150\n",
        "evaluate_every_epoch = 5\n",
        "train_loss = np.zeros(num_epochs)\n",
        "val_loss = np.zeros(num_epochs/evaluate_every_epoch)\n",
        "train_accuracy = np.zeros(num_epochs)\n",
        "val_accurary = np.zeros(num_epochs/evaluate_every_epoch)\n",
        "for e in range(num_epochs):\n",
        "    train_accuracy[e], train_loss[e] = run_epoch(trLD, model, criterion, e, True, optimizer)\n",
        "    if e % evaluate_every_epoch == 0:\n",
        "        val_accurary[e/evaluate_every_epoch], val_loss[e/evaluate_every_epoch] = run_epoch(valLD, model, criterion, e, False, None)   \n"
      ],
      "execution_count": 129,
      "outputs": [
        {
          "output_type": "stream",
          "text": [
            "train Epoch: 0  , Loss: 2.2855,  Accuracy: 13.80\n",
            "val Epoch: 0  , Loss: 2.1006,  Accuracy: 23.25\n",
            "train Epoch: 1  , Loss: 1.6630,  Accuracy: 41.23\n",
            "train Epoch: 2  , Loss: 1.1711,  Accuracy: 58.30\n",
            "train Epoch: 3  , Loss: 1.0346,  Accuracy: 62.50\n",
            "train Epoch: 4  , Loss: 0.9397,  Accuracy: 67.50\n",
            "train Epoch: 5  , Loss: 0.8689,  Accuracy: 68.92\n",
            "val Epoch: 5  , Loss: 0.8575,  Accuracy: 70.38\n",
            "train Epoch: 6  , Loss: 0.7714,  Accuracy: 73.65\n",
            "train Epoch: 7  , Loss: 0.7520,  Accuracy: 73.45\n",
            "train Epoch: 8  , Loss: 0.7040,  Accuracy: 76.53\n",
            "train Epoch: 9  , Loss: 0.6596,  Accuracy: 77.28\n",
            "train Epoch: 10  , Loss: 0.6469,  Accuracy: 77.72\n",
            "val Epoch: 10  , Loss: 0.7613,  Accuracy: 72.88\n",
            "train Epoch: 11  , Loss: 0.6193,  Accuracy: 79.30\n",
            "train Epoch: 12  , Loss: 0.5879,  Accuracy: 79.68\n",
            "train Epoch: 13  , Loss: 0.5727,  Accuracy: 80.75\n",
            "train Epoch: 14  , Loss: 0.5504,  Accuracy: 80.90\n",
            "train Epoch: 15  , Loss: 0.5084,  Accuracy: 82.35\n",
            "val Epoch: 15  , Loss: 0.7786,  Accuracy: 74.63\n",
            "train Epoch: 16  , Loss: 0.5143,  Accuracy: 81.97\n",
            "train Epoch: 17  , Loss: 0.4986,  Accuracy: 82.42\n",
            "train Epoch: 18  , Loss: 0.4683,  Accuracy: 83.62\n",
            "train Epoch: 19  , Loss: 0.4602,  Accuracy: 83.70\n",
            "train Epoch: 20  , Loss: 0.4496,  Accuracy: 83.95\n",
            "val Epoch: 20  , Loss: 0.8038,  Accuracy: 75.38\n",
            "train Epoch: 21  , Loss: 0.4622,  Accuracy: 83.15\n",
            "train Epoch: 22  , Loss: 0.4354,  Accuracy: 84.78\n",
            "train Epoch: 23  , Loss: 0.4162,  Accuracy: 85.93\n",
            "train Epoch: 24  , Loss: 0.4028,  Accuracy: 85.82\n",
            "train Epoch: 25  , Loss: 0.4035,  Accuracy: 85.35\n",
            "val Epoch: 25  , Loss: 0.7206,  Accuracy: 78.50\n",
            "train Epoch: 26  , Loss: 0.4019,  Accuracy: 85.97\n",
            "train Epoch: 27  , Loss: 0.3818,  Accuracy: 86.80\n",
            "train Epoch: 28  , Loss: 0.3682,  Accuracy: 86.45\n",
            "train Epoch: 29  , Loss: 0.3827,  Accuracy: 86.50\n",
            "train Epoch: 30  , Loss: 0.3837,  Accuracy: 85.85\n",
            "val Epoch: 30  , Loss: 0.6818,  Accuracy: 78.62\n",
            "train Epoch: 31  , Loss: 0.3249,  Accuracy: 88.67\n",
            "train Epoch: 32  , Loss: 0.3177,  Accuracy: 88.90\n",
            "train Epoch: 33  , Loss: 0.3162,  Accuracy: 88.70\n",
            "train Epoch: 34  , Loss: 0.3438,  Accuracy: 87.83\n",
            "train Epoch: 35  , Loss: 0.2982,  Accuracy: 89.62\n",
            "val Epoch: 35  , Loss: 0.7413,  Accuracy: 77.25\n",
            "train Epoch: 36  , Loss: 0.2908,  Accuracy: 89.42\n",
            "train Epoch: 37  , Loss: 0.2800,  Accuracy: 89.83\n",
            "train Epoch: 38  , Loss: 0.2793,  Accuracy: 90.22\n",
            "train Epoch: 39  , Loss: 0.2975,  Accuracy: 89.55\n",
            "train Epoch: 40  , Loss: 0.2724,  Accuracy: 90.67\n",
            "val Epoch: 40  , Loss: 0.8094,  Accuracy: 77.62\n",
            "train Epoch: 41  , Loss: 0.2632,  Accuracy: 90.35\n",
            "train Epoch: 42  , Loss: 0.2559,  Accuracy: 90.53\n",
            "train Epoch: 43  , Loss: 0.2383,  Accuracy: 91.62\n",
            "train Epoch: 44  , Loss: 0.2256,  Accuracy: 92.07\n",
            "train Epoch: 45  , Loss: 0.2484,  Accuracy: 90.88\n",
            "val Epoch: 45  , Loss: 0.9021,  Accuracy: 75.38\n",
            "train Epoch: 46  , Loss: 0.2277,  Accuracy: 92.62\n",
            "train Epoch: 47  , Loss: 0.2287,  Accuracy: 91.97\n",
            "train Epoch: 48  , Loss: 0.2017,  Accuracy: 93.05\n",
            "train Epoch: 49  , Loss: 0.1953,  Accuracy: 93.33\n",
            "train Epoch: 50  , Loss: 0.2057,  Accuracy: 92.88\n",
            "val Epoch: 50  , Loss: 0.8466,  Accuracy: 76.62\n",
            "train Epoch: 51  , Loss: 0.1845,  Accuracy: 93.73\n"
          ],
          "name": "stdout"
        },
        {
          "output_type": "stream",
          "text": [
            "train Epoch: 52  , Loss: 0.2010,  Accuracy: 92.62\n",
            "train Epoch: 53  , Loss: 0.1786,  Accuracy: 93.77\n",
            "train Epoch: 54  , Loss: 0.1834,  Accuracy: 93.77\n",
            "train Epoch: 55  , Loss: 0.1656,  Accuracy: 94.25\n",
            "val Epoch: 55  , Loss: 0.9518,  Accuracy: 75.88\n",
            "train Epoch: 56  , Loss: 0.1749,  Accuracy: 93.83\n",
            "train Epoch: 57  , Loss: 0.1515,  Accuracy: 94.83\n",
            "train Epoch: 58  , Loss: 0.1371,  Accuracy: 95.70\n",
            "train Epoch: 59  , Loss: 0.1381,  Accuracy: 95.47\n",
            "train Epoch: 60  , Loss: 0.1362,  Accuracy: 95.47\n",
            "val Epoch: 60  , Loss: 1.0024,  Accuracy: 77.00\n",
            "train Epoch: 61  , Loss: 0.1596,  Accuracy: 94.38\n",
            "train Epoch: 62  , Loss: 0.1401,  Accuracy: 95.35\n",
            "train Epoch: 63  , Loss: 0.1252,  Accuracy: 96.03\n",
            "train Epoch: 64  , Loss: 0.1264,  Accuracy: 95.85\n",
            "train Epoch: 65  , Loss: 0.1105,  Accuracy: 96.30\n",
            "val Epoch: 65  , Loss: 0.9264,  Accuracy: 77.62\n",
            "train Epoch: 66  , Loss: 0.0928,  Accuracy: 97.38\n",
            "train Epoch: 67  , Loss: 0.1170,  Accuracy: 96.15\n",
            "train Epoch: 68  , Loss: 0.1059,  Accuracy: 96.45\n",
            "train Epoch: 69  , Loss: 0.1185,  Accuracy: 95.80\n",
            "train Epoch: 70  , Loss: 0.0912,  Accuracy: 97.25\n",
            "val Epoch: 70  , Loss: 1.0035,  Accuracy: 76.38\n",
            "train Epoch: 71  , Loss: 0.0854,  Accuracy: 97.42\n",
            "train Epoch: 72  , Loss: 0.0845,  Accuracy: 97.52\n",
            "train Epoch: 73  , Loss: 0.0846,  Accuracy: 97.72\n",
            "train Epoch: 74  , Loss: 0.0784,  Accuracy: 97.70\n",
            "train Epoch: 75  , Loss: 0.0669,  Accuracy: 98.12\n",
            "val Epoch: 75  , Loss: 1.0356,  Accuracy: 75.50\n",
            "train Epoch: 76  , Loss: 0.0784,  Accuracy: 97.55\n",
            "train Epoch: 77  , Loss: 0.0973,  Accuracy: 96.75\n",
            "train Epoch: 78  , Loss: 0.0855,  Accuracy: 97.42\n",
            "train Epoch: 79  , Loss: 0.0707,  Accuracy: 98.02\n",
            "train Epoch: 80  , Loss: 0.0837,  Accuracy: 97.50\n",
            "val Epoch: 80  , Loss: 1.1200,  Accuracy: 74.12\n",
            "train Epoch: 81  , Loss: 0.0742,  Accuracy: 97.50\n",
            "train Epoch: 82  , Loss: 0.0570,  Accuracy: 98.47\n",
            "train Epoch: 83  , Loss: 0.0638,  Accuracy: 98.32\n",
            "train Epoch: 84  , Loss: 0.0897,  Accuracy: 97.08\n",
            "train Epoch: 85  , Loss: 0.0809,  Accuracy: 96.97\n",
            "val Epoch: 85  , Loss: 1.0623,  Accuracy: 75.75\n",
            "train Epoch: 86  , Loss: 0.0681,  Accuracy: 97.80\n",
            "train Epoch: 87  , Loss: 0.0574,  Accuracy: 98.15\n",
            "train Epoch: 88  , Loss: 0.0745,  Accuracy: 97.78\n",
            "train Epoch: 89  , Loss: 0.0767,  Accuracy: 97.50\n",
            "train Epoch: 90  , Loss: 0.0657,  Accuracy: 98.02\n",
            "val Epoch: 90  , Loss: 1.1459,  Accuracy: 76.12\n",
            "train Epoch: 91  , Loss: 0.0771,  Accuracy: 97.47\n",
            "train Epoch: 92  , Loss: 0.0527,  Accuracy: 98.75\n",
            "train Epoch: 93  , Loss: 0.0389,  Accuracy: 99.12\n",
            "train Epoch: 94  , Loss: 0.0391,  Accuracy: 99.02\n",
            "train Epoch: 95  , Loss: 0.0402,  Accuracy: 99.08\n",
            "val Epoch: 95  , Loss: 1.0997,  Accuracy: 77.50\n",
            "train Epoch: 96  , Loss: 0.0448,  Accuracy: 98.70\n",
            "train Epoch: 97  , Loss: 0.0672,  Accuracy: 97.88\n",
            "train Epoch: 98  , Loss: 0.0522,  Accuracy: 98.28\n",
            "train Epoch: 99  , Loss: 0.0535,  Accuracy: 98.35\n",
            "train Epoch: 100  , Loss: 0.0388,  Accuracy: 99.05\n",
            "val Epoch: 100  , Loss: 1.1675,  Accuracy: 76.25\n",
            "train Epoch: 101  , Loss: 0.0406,  Accuracy: 98.95\n",
            "train Epoch: 102  , Loss: 0.0345,  Accuracy: 99.08\n",
            "train Epoch: 103  , Loss: 0.0362,  Accuracy: 99.15\n"
          ],
          "name": "stdout"
        },
        {
          "output_type": "stream",
          "text": [
            "train Epoch: 104  , Loss: 0.0322,  Accuracy: 99.28\n",
            "train Epoch: 105  , Loss: 0.0399,  Accuracy: 98.98\n",
            "val Epoch: 105  , Loss: 1.1975,  Accuracy: 77.00\n",
            "train Epoch: 106  , Loss: 0.0304,  Accuracy: 99.38\n",
            "train Epoch: 107  , Loss: 0.0323,  Accuracy: 99.30\n",
            "train Epoch: 108  , Loss: 0.0246,  Accuracy: 99.50\n",
            "train Epoch: 109  , Loss: 0.0478,  Accuracy: 98.65\n",
            "train Epoch: 110  , Loss: 0.0343,  Accuracy: 99.10\n",
            "val Epoch: 110  , Loss: 1.1799,  Accuracy: 76.88\n",
            "train Epoch: 111  , Loss: 0.0305,  Accuracy: 99.15\n",
            "train Epoch: 112  , Loss: 0.0296,  Accuracy: 99.38\n",
            "train Epoch: 113  , Loss: 0.0273,  Accuracy: 99.45\n",
            "train Epoch: 114  , Loss: 0.0222,  Accuracy: 99.52\n",
            "train Epoch: 115  , Loss: 0.0242,  Accuracy: 99.42\n",
            "val Epoch: 115  , Loss: 1.2011,  Accuracy: 77.38\n",
            "train Epoch: 116  , Loss: 0.0418,  Accuracy: 98.75\n",
            "train Epoch: 117  , Loss: 0.0612,  Accuracy: 98.00\n",
            "train Epoch: 118  , Loss: 0.0721,  Accuracy: 97.50\n",
            "train Epoch: 119  , Loss: 0.0510,  Accuracy: 98.60\n",
            "train Epoch: 120  , Loss: 0.0389,  Accuracy: 99.05\n",
            "val Epoch: 120  , Loss: 1.2518,  Accuracy: 77.38\n",
            "train Epoch: 121  , Loss: 0.0298,  Accuracy: 99.17\n",
            "train Epoch: 122  , Loss: 0.0242,  Accuracy: 99.48\n",
            "train Epoch: 123  , Loss: 0.0234,  Accuracy: 99.58\n",
            "train Epoch: 124  , Loss: 0.0209,  Accuracy: 99.45\n",
            "train Epoch: 125  , Loss: 0.0139,  Accuracy: 99.83\n",
            "val Epoch: 125  , Loss: 1.2728,  Accuracy: 76.50\n",
            "train Epoch: 126  , Loss: 0.0213,  Accuracy: 99.50\n",
            "train Epoch: 127  , Loss: 0.0252,  Accuracy: 99.45\n",
            "train Epoch: 128  , Loss: 0.0204,  Accuracy: 99.62\n",
            "train Epoch: 129  , Loss: 0.0234,  Accuracy: 99.35\n",
            "train Epoch: 130  , Loss: 0.0249,  Accuracy: 99.33\n",
            "val Epoch: 130  , Loss: 1.2737,  Accuracy: 78.50\n",
            "train Epoch: 131  , Loss: 0.0339,  Accuracy: 99.08\n",
            "train Epoch: 132  , Loss: 0.0328,  Accuracy: 99.15\n",
            "train Epoch: 133  , Loss: 0.0458,  Accuracy: 98.58\n",
            "train Epoch: 134  , Loss: 0.0577,  Accuracy: 98.22\n",
            "train Epoch: 135  , Loss: 0.0492,  Accuracy: 98.45\n",
            "val Epoch: 135  , Loss: 1.3311,  Accuracy: 76.62\n",
            "train Epoch: 136  , Loss: 0.0514,  Accuracy: 98.32\n",
            "train Epoch: 137  , Loss: 0.0524,  Accuracy: 98.32\n",
            "train Epoch: 138  , Loss: 0.0598,  Accuracy: 97.82\n",
            "train Epoch: 139  , Loss: 0.0583,  Accuracy: 98.08\n",
            "train Epoch: 140  , Loss: 0.0607,  Accuracy: 97.92\n",
            "val Epoch: 140  , Loss: 1.2618,  Accuracy: 76.25\n",
            "train Epoch: 141  , Loss: 0.0439,  Accuracy: 98.78\n",
            "train Epoch: 142  , Loss: 0.0266,  Accuracy: 99.28\n",
            "train Epoch: 143  , Loss: 0.0295,  Accuracy: 99.05\n",
            "train Epoch: 144  , Loss: 0.0220,  Accuracy: 99.48\n",
            "train Epoch: 145  , Loss: 0.0130,  Accuracy: 99.72\n",
            "val Epoch: 145  , Loss: 1.3046,  Accuracy: 77.88\n",
            "train Epoch: 146  , Loss: 0.0153,  Accuracy: 99.72\n",
            "train Epoch: 147  , Loss: 0.0226,  Accuracy: 99.45\n",
            "train Epoch: 148  , Loss: 0.0171,  Accuracy: 99.58\n",
            "train Epoch: 149  , Loss: 0.0123,  Accuracy: 99.85\n"
          ],
          "name": "stdout"
        }
      ]
    },
    {
      "metadata": {
        "id": "IeZORlnlmIvw",
        "colab_type": "code",
        "colab": {
          "autoexec": {
            "startup": false,
            "wait_interval": 0
          },
          "base_uri": "https://localhost:8080/",
          "height": 722
        },
        "outputId": "2d43b911-f372-41e4-ac2f-826aff3f9b26",
        "executionInfo": {
          "status": "ok",
          "timestamp": 1525547814368,
          "user_tz": 240,
          "elapsed": 770,
          "user": {
            "displayName": "Sangtian Wang",
            "photoUrl": "https://lh3.googleusercontent.com/a/default-user=s128",
            "userId": "114974396457600215662"
          }
        }
      },
      "cell_type": "code",
      "source": [
        "import matplotlib.pyplot as plt\n",
        "\n",
        "_, ax1 = plt.subplots()  \n",
        "ax2 = ax1.twinx()\n",
        "\n",
        "x_train = np.arange(0, num_epochs, 1)\n",
        "x_val = np.arange(0, num_epochs, evaluate_every_epoch)\n",
        "\n",
        "\n",
        "ax1.plot(x_train, train_accuracy, label = 'train accuracy')\n",
        "ax2.plot(x_val, val_accurary, 'r', label = 'val accurary')\n",
        "\n",
        "ax1.set_xlabel('epoch')  \n",
        "ax1.set_ylabel('train accuracy')  \n",
        "ax2.set_ylabel('val accurary') \n",
        "\n",
        "ax1.legend(loc='upper right')\n",
        "ax2.legend(loc='upper right')\n",
        "\n",
        "_, ax3 = plt.subplots()  \n",
        "ax4 = ax3.twinx()\n",
        "\n",
        "ax3.plot(x_train, train_loss)\n",
        "ax4.plot(x_val, val_loss, 'r')\n",
        "\n",
        "ax3.set_xlabel('epoch')  \n",
        "ax3.set_ylabel('train loss')  \n",
        "ax4.set_ylabel('val loss') \n"
      ],
      "execution_count": 146,
      "outputs": [
        {
          "output_type": "execute_result",
          "data": {
            "text/plain": [
              "Text(0,0.5,u'val loss')"
            ]
          },
          "metadata": {
            "tags": []
          },
          "execution_count": 146
        },
        {
          "output_type": "display_data",
          "data": {
            "image/png": "[encoded data removed]",
            "text/plain": [
              "<matplotlib.figure.Figure at 0x7f16749e1150>"
            ]
          },
          "metadata": {
            "tags": []
          }
        },
        {
          "output_type": "display_data",
          "data": {
            "image/png": "[encoded data removed]",
            "text/plain": [
              "<matplotlib.figure.Figure at 0x7f1673fc9c90>"
            ]
          },
          "metadata": {
            "tags": []
          }
        }
      ]
    },
    {
      "metadata": {
        "id": "W65hRe7OtN-G",
        "colab_type": "text"
      },
      "cell_type": "markdown",
      "source": [
        "## Submit your results on Kaggle\n",
        "\n",
        "### Train a better model for action recognition!\n",
        "Now it's your job to experiment with architectures, hyperparameters, loss functions, and optimizers to train a model that achieves better accuracy on the action recognition validation set.\n",
        "\n",
        "\n",
        "### Testing the model and submit on Kaggle\n",
        "Testing the model on the testing set and save the results as a .csv file. \n",
        "Please submitted the results.csv file generated by predict_on_test() to Kaggle(https://www.kaggle.com/c/cse512springhw5) to see how well your network performs on the test set. \n",
        "################ 3rd To Do  (30 points, the highest 3 entries get extra 10 points) ###############\n"
      ]
    },
    {
      "metadata": {
        "id": "_Kr5roh3tN-G",
        "colab_type": "code",
        "colab": {
          "autoexec": {
            "startup": false,
            "wait_interval": 0
          },
          "base_uri": "https://localhost:8080/",
          "height": 34
        },
        "outputId": "57d91a6d-c588-4006-b9bd-3aba969c1392",
        "executionInfo": {
          "status": "ok",
          "timestamp": 1525548024549,
          "user_tz": 240,
          "elapsed": 462,
          "user": {
            "displayName": "Sangtian Wang",
            "photoUrl": "https://lh3.googleusercontent.com/a/default-user=s128",
            "userId": "114974396457600215662"
          }
        }
      },
      "cell_type": "code",
      "source": [
        "# Use your best model to generate results on test set.\n",
        "\n",
        "# generate csv file for test set\n",
        "def predict_on_test(model, data_loader):\n",
        "    model.eval() # Put the model in test mode (the opposite of model.train(), essentially)\n",
        "    results=open('results.csv','w')\n",
        "    count=0\n",
        "    results.write('Id'+','+'Class'+'\\n')\n",
        "    for batch_idx, sample in enumerate(data_loader):\n",
        "        sequence = sample['seq']\n",
        "        input_sequence_var = Variable(sequence).type(FloatTensor)\n",
        "        scores = model(input_sequence_var)\n",
        "        _, preds = scores.data.max(1)\n",
        "        for i in range(len(preds)):\n",
        "            results.write(str(count)+','+str(preds[i])+'\\n')\n",
        "            count+=1\n",
        "    results.close()\n",
        "    return count\n",
        "\n",
        "count=predict_on_test(model, tstLD)\n",
        "print(count)"
      ],
      "execution_count": 147,
      "outputs": [
        {
          "output_type": "stream",
          "text": [
            "1000\n"
          ],
          "name": "stdout"
        }
      ]
    },
    {
      "metadata": {
        "id": "8Yxd46U3wCOt",
        "colab_type": "code",
        "colab": {
          "autoexec": {
            "startup": false,
            "wait_interval": 0
          }
        }
      },
      "cell_type": "code",
      "source": [
        "from google.colab import files\n",
        "files.download('results.csv')"
      ],
      "execution_count": 0,
      "outputs": []
    },
    {
      "metadata": {
        "id": "yPFiEV1EtN-I",
        "colab_type": "text"
      },
      "cell_type": "markdown",
      "source": [
        "## Report the performance\n",
        "################ 4th To Do  (15 points)##################\n",
        "\n",
        "### Documentation of what you did\n",
        "In this cell, you should write an explanation of what you did (network architecture, optimiziter, learning rate, epoches) and visualizations or graphs of loss/accuracy curve tin the process of training and evaluating.\n",
        "\n",
        " - I use LSTM network, Adam optimiziter with lr = 0.003\n",
        " - Rather than classifying the last output of LSTM (size = 100), I classifying all the outputs (size = [15, 100]), which highly improved the performance of my network.\n",
        " - I run 200 epoches. \n",
        " - Plot.\n",
        " \n",
        "![acc](http://drive.google.com/uc?export=view&id=1NP3UcJq0AMWPKTd71XzhyOE4hAay9AW5)\n",
        "![loss](http://drive.google.com/uc?export=view&id=11QYp6y0Bu_K7fUCM41w9KedQW1CfPIJG)\n",
        "### performance on Kaggle\n",
        "You should also report your Kaggle Performance here:\n",
        " - I get 0.78300 Socre on Kaggle.\n",
        "  "
      ]
    },
    {
      "metadata": {
        "id": "a4zJ0RUADs2S",
        "colab_type": "text"
      },
      "cell_type": "markdown",
      "source": [
        ""
      ]
    }
  ]
}