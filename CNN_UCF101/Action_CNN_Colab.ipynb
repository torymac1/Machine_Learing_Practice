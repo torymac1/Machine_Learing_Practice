{
  "nbformat": 4,
  "nbformat_minor": 0,
  "metadata": {
    "colab": {
      "name": "Action_CNN_modified.ipynb",
      "version": "0.3.2",
      "views": {},
      "default_view": {},
      "provenance": [
        {
          "file_id": "1NTFLRWau_4gglwpDC66GLA_M9JYITCuK",
          "timestamp": 1522016973264
        }
      ],
      "collapsed_sections": [
        "ck91JYl4DkqK",
        "kz_LvxpnDkqk",
        "YHWHaY-MDkqn",
        "S7ZGoW6eDkqv",
        "XkVzmlIWDkrM",
        "hthXjCWzDkrU"
      ]
    },
    "kernelspec": {
      "name": "python2",
      "display_name": "Python 2"
    },
    "accelerator": "GPU"
  },
  "cells": [
    {
      "metadata": {
        "id": "Y-Vmr2DTDkps",
        "colab_type": "text"
      },
      "cell_type": "markdown",
      "source": [
        "# Training a ConvNet PyTorch\n",
        "\n",
        "In this notebook, you'll learn how to use the powerful PyTorch framework to specify a conv net architecture and train it on the human action recognition dataset. \n"
      ]
    },
    {
      "metadata": {
        "id": "M_72LkVVn-B_",
        "colab_type": "code",
        "colab": {
          "autoexec": {
            "startup": false,
            "wait_interval": 0
          },
          "output_extras": [
            {},
            {}
          ],
          "resources": {
            "http://localhost:8080/nbextensions/google.colab/files.js": {
              "data": "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",
              "ok": true,
              "headers": [
                [
                  "content-type",
                  "application/javascript"
                ]
              ],
              "status": 200,
              "status_text": ""
            }
          },
          "base_uri": "https://localhost:8080/",
          "height": 607
        },
        "outputId": "b7d14c7a-c585-42c1-be19-aeb3201ccb53",
        "executionInfo": {
          "status": "error",
          "timestamp": 1522016255407,
          "user_tz": 240,
          "elapsed": 13867,
          "user": {
            "displayName": "Sangtian Wang",
            "photoUrl": "https://lh3.googleusercontent.com/a/default-user=s128",
            "userId": "114974396457600215662"
          }
        }
      },
      "cell_type": "code",
      "source": [
        "# upload data.zip\n",
        "\n",
        "from google.colab import files\n",
        "\n",
        "uploaded = files.upload()\n",
        "\n",
        "for fn in uploaded.keys():\n",
        "  print('User uploaded file \"{name}\" with length {length} bytes'.format(\n",
        "      name=fn, length=len(uploaded[fn])))\n",
        "\n",
        "\n",
        "# import zipfile\n",
        "# with zipfile.ZipFile(\"file.zip\",\"r\") as zip_ref:\n",
        "#     zip_ref.extractall(\"targetdir\")"
      ],
      "execution_count": 0,
      "outputs": [
        {
          "output_type": "display_data",
          "data": {
            "text/plain": [
              "<IPython.core.display.HTML object>"
            ],
            "text/html": [
              "\n",
              "     <input type=\"file\" id=\"files-37163147-bef9-4797-a874-a51e7ac3dc89\" name=\"files[]\" multiple disabled />\n",
              "     <output id=\"result-37163147-bef9-4797-a874-a51e7ac3dc89\">\n",
              "      Upload widget is only available when the cell has been executed in the\n",
              "      current browser session. Please rerun this cell to enable.\n",
              "      </output>\n",
              "      <script src=\"/nbextensions/google.colab/files.js\"></script> "
            ]
          },
          "metadata": {
            "tags": []
          }
        },
        {
          "output_type": "error",
          "ename": "KeyboardInterrupt",
          "evalue": "ignored",
          "traceback": [
            "\u001b[0;31m\u001b[0m",
            "\u001b[0;31mKeyboardInterrupt\u001b[0mTraceback (most recent call last)",
            "\u001b[0;32m<ipython-input-160-d5f238fb4487>\u001b[0m in \u001b[0;36m<module>\u001b[0;34m()\u001b[0m\n\u001b[1;32m      2\u001b[0m \u001b[0;32mfrom\u001b[0m \u001b[0mgoogle\u001b[0m\u001b[0;34m.\u001b[0m\u001b[0mcolab\u001b[0m \u001b[0;32mimport\u001b[0m \u001b[0mfiles\u001b[0m\u001b[0;34m\u001b[0m\u001b[0m\n\u001b[1;32m      3\u001b[0m \u001b[0;34m\u001b[0m\u001b[0m\n\u001b[0;32m----> 4\u001b[0;31m \u001b[0muploaded\u001b[0m \u001b[0;34m=\u001b[0m \u001b[0mfiles\u001b[0m\u001b[0;34m.\u001b[0m\u001b[0mupload\u001b[0m\u001b[0;34m(\u001b[0m\u001b[0;34m)\u001b[0m\u001b[0;34m\u001b[0m\u001b[0m\n\u001b[0m\u001b[1;32m      5\u001b[0m \u001b[0;34m\u001b[0m\u001b[0m\n\u001b[1;32m      6\u001b[0m \u001b[0;32mfor\u001b[0m \u001b[0mfn\u001b[0m \u001b[0;32min\u001b[0m \u001b[0muploaded\u001b[0m\u001b[0;34m.\u001b[0m\u001b[0mkeys\u001b[0m\u001b[0;34m(\u001b[0m\u001b[0;34m)\u001b[0m\u001b[0;34m:\u001b[0m\u001b[0;34m\u001b[0m\u001b[0m\n",
            "\u001b[0;32m/usr/local/lib/python2.7/dist-packages/google/colab/files.pyc\u001b[0m in \u001b[0;36mupload\u001b[0;34m()\u001b[0m\n\u001b[1;32m     59\u001b[0m   result = output.eval_js(\n\u001b[1;32m     60\u001b[0m       'google.colab._files._uploadFiles(\"{input_id}\", \"{output_id}\")'.format(\n\u001b[0;32m---> 61\u001b[0;31m           input_id=input_id, output_id=output_id))\n\u001b[0m\u001b[1;32m     62\u001b[0m   \u001b[0mfiles\u001b[0m \u001b[0;34m=\u001b[0m \u001b[0mcollections\u001b[0m\u001b[0;34m.\u001b[0m\u001b[0mdefaultdict\u001b[0m\u001b[0;34m(\u001b[0m\u001b[0msix\u001b[0m\u001b[0;34m.\u001b[0m\u001b[0mbinary_type\u001b[0m\u001b[0;34m)\u001b[0m\u001b[0;34m\u001b[0m\u001b[0m\n\u001b[1;32m     63\u001b[0m   \u001b[0;31m# Mapping from original filename to filename as saved locally.\u001b[0m\u001b[0;34m\u001b[0m\u001b[0;34m\u001b[0m\u001b[0m\n",
            "\u001b[0;32m/usr/local/lib/python2.7/dist-packages/google/colab/output/_js.pyc\u001b[0m in \u001b[0;36meval_js\u001b[0;34m(script, ignore_result)\u001b[0m\n\u001b[1;32m     37\u001b[0m   \u001b[0;32mif\u001b[0m \u001b[0mignore_result\u001b[0m\u001b[0;34m:\u001b[0m\u001b[0;34m\u001b[0m\u001b[0m\n\u001b[1;32m     38\u001b[0m     \u001b[0;32mreturn\u001b[0m\u001b[0;34m\u001b[0m\u001b[0m\n\u001b[0;32m---> 39\u001b[0;31m   \u001b[0;32mreturn\u001b[0m \u001b[0m_message\u001b[0m\u001b[0;34m.\u001b[0m\u001b[0mread_reply_from_input\u001b[0m\u001b[0;34m(\u001b[0m\u001b[0mrequest_id\u001b[0m\u001b[0;34m)\u001b[0m\u001b[0;34m\u001b[0m\u001b[0m\n\u001b[0m\u001b[1;32m     40\u001b[0m \u001b[0;34m\u001b[0m\u001b[0m\n\u001b[1;32m     41\u001b[0m \u001b[0;34m\u001b[0m\u001b[0m\n",
            "\u001b[0;32m/usr/local/lib/python2.7/dist-packages/google/colab/_message.pyc\u001b[0m in \u001b[0;36mread_reply_from_input\u001b[0;34m(message_id, timeout_sec)\u001b[0m\n\u001b[1;32m     79\u001b[0m     \u001b[0mreply\u001b[0m \u001b[0;34m=\u001b[0m \u001b[0m_read_next_input_message\u001b[0m\u001b[0;34m(\u001b[0m\u001b[0;34m)\u001b[0m\u001b[0;34m\u001b[0m\u001b[0m\n\u001b[1;32m     80\u001b[0m     \u001b[0;32mif\u001b[0m \u001b[0mreply\u001b[0m \u001b[0;34m==\u001b[0m \u001b[0m_NOT_READY\u001b[0m \u001b[0;32mor\u001b[0m \u001b[0;32mnot\u001b[0m \u001b[0misinstance\u001b[0m\u001b[0;34m(\u001b[0m\u001b[0mreply\u001b[0m\u001b[0;34m,\u001b[0m \u001b[0mdict\u001b[0m\u001b[0;34m)\u001b[0m\u001b[0;34m:\u001b[0m\u001b[0;34m\u001b[0m\u001b[0m\n\u001b[0;32m---> 81\u001b[0;31m       \u001b[0mtime\u001b[0m\u001b[0;34m.\u001b[0m\u001b[0msleep\u001b[0m\u001b[0;34m(\u001b[0m\u001b[0;36m0.025\u001b[0m\u001b[0;34m)\u001b[0m\u001b[0;34m\u001b[0m\u001b[0m\n\u001b[0m\u001b[1;32m     82\u001b[0m       \u001b[0;32mcontinue\u001b[0m\u001b[0;34m\u001b[0m\u001b[0m\n\u001b[1;32m     83\u001b[0m     if (reply.get('type') == 'colab_reply' and\n",
            "\u001b[0;31mKeyboardInterrupt\u001b[0m: "
          ]
        }
      ]
    },
    {
      "metadata": {
        "id": "7ZlZbjGwDtYl",
        "colab_type": "code",
        "colab": {
          "autoexec": {
            "startup": false,
            "wait_interval": 0
          }
        }
      },
      "cell_type": "code",
      "source": [
        "# http://pytorch.org/\n",
        "# install pytorch\n",
        "from os import path\n",
        "from wheel.pep425tags import get_abbr_impl, get_impl_ver, get_abi_tag\n",
        "platform = '{}{}-{}'.format(get_abbr_impl(), get_impl_ver(), get_abi_tag())\n",
        "\n",
        "accelerator = 'cu80' if path.exists('/opt/bin/nvidia-smi') else 'cpu'\n",
        "\n",
        "!pip install -q http://download.pytorch.org/whl/{accelerator}/torch-0.3.0.post4-{platform}-linux_x86_64.whl torchvision\n"
      ],
      "execution_count": 0,
      "outputs": []
    },
    {
      "metadata": {
        "id": "2zR782kMDkpu",
        "colab_type": "code",
        "colab": {
          "autoexec": {
            "startup": false,
            "wait_interval": 0
          }
        }
      },
      "cell_type": "code",
      "source": [
        "import torch\n",
        "import torch.nn as nn\n",
        "import torch.optim as optim\n",
        "from torch.autograd import Variable\n",
        "from torch.utils.data import DataLoader,sampler,Dataset\n",
        "import torchvision.datasets as dset\n",
        "import torchvision.transforms as T\n",
        "import timeit\n",
        "from PIL import Image\n",
        "import os\n",
        "import numpy as np\n",
        "import scipy.io\n",
        "\n",
        "\n",
        "# bug in colab\n",
        "def register_extension(id, extension):\n",
        "    Image.EXTENSION[extension.lower()] = id.upper()\n",
        "Image.register_extension = register_extension\n",
        "def register_extensions(id, extensions):\n",
        "    for extension in extensions:\n",
        "        register_extension(id, extension)\n",
        "Image.register_extensions = register_extensions"
      ],
      "execution_count": 0,
      "outputs": []
    },
    {
      "metadata": {
        "id": "TqmUKYHlDkpx",
        "colab_type": "text"
      },
      "cell_type": "markdown",
      "source": [
        "## What's this PyTorch business?\n",
        "\n",
        "* When using a framework like PyTorch or TensorFlow you can harness the power of the GPU for your own custom neural network architectures without having to write CUDA code directly.\n",
        "* this notebook will walk you through much of what you need to do to train models using pytorch. if you want to learn more or need further clarification on topics that aren't fully explained here, here are 2 good Pytorch tutorials. 1): http://pytorch.org/tutorials/beginner/deep_learning_60min_blitz.html 2)http://pytorch.org/tutorials/beginner/pytorch_with_examples.html\n",
        "* It's not necessary to have a GPU for this homework, using a GPU can make your code run faster.\n"
      ]
    },
    {
      "metadata": {
        "id": "fo8Cjw0TtUHX",
        "colab_type": "code",
        "colab": {
          "autoexec": {
            "startup": false,
            "wait_interval": 0
          },
          "output_extras": [
            {}
          ],
          "base_uri": "https://localhost:8080/",
          "height": 122
        },
        "outputId": "4b8c786b-854f-49fe-d241-ff5edd61fcd0",
        "executionInfo": {
          "status": "ok",
          "timestamp": 1522008267306,
          "user_tz": 240,
          "elapsed": 2836,
          "user": {
            "displayName": "Sangtian Wang",
            "photoUrl": "https://lh3.googleusercontent.com/a/default-user=s128",
            "userId": "114974396457600215662"
          }
        }
      },
      "cell_type": "code",
      "source": [
        "!pip install --no-cache-dir -I pillow"
      ],
      "execution_count": 0,
      "outputs": [
        {
          "output_type": "stream",
          "text": [
            "Collecting pillow\n",
            "  Downloading https://files.pythonhosted.org/packages/89/bd/1d9a10f3e8157b7df275740b0782a892a0db387f8286620110c41e5146c7/Pillow-5.0.0-cp27-cp27mu-manylinux1_x86_64.whl (5.8MB)\n",
            "\u001b[K    100% |████████████████████████████████| 5.9MB 11.6MB/s \n",
            "\u001b[?25hInstalling collected packages: pillow\n",
            "Successfully installed pillow-5.0.0\n"
          ],
          "name": "stdout"
        }
      ]
    },
    {
      "metadata": {
        "id": "l4eAoqFsDkpx",
        "colab_type": "text"
      },
      "cell_type": "markdown",
      "source": [
        "## Load Datasets\n",
        "\n",
        "In this part, we will load the action recognition dataset for the neural network. In order to load data from our custom dataset, we need to write a custom Dataloader. If you put q3_2_data.mat, /valClips,/trainClips,/testClips under the folder of ./data/ , you do not need to change anything in this part."
      ]
    },
    {
      "metadata": {
        "id": "A2HBmtVdDkpy",
        "colab_type": "text"
      },
      "cell_type": "markdown",
      "source": [
        "First, load the labels of the dataset, you should write your path of the q3_2_data.mat file."
      ]
    },
    {
      "metadata": {
        "id": "-Zr51cwdDkpy",
        "colab_type": "code",
        "colab": {
          "autoexec": {
            "startup": false,
            "wait_interval": 0
          },
          "output_extras": [
            {
              "item_id": 1
            }
          ],
          "base_uri": "https://localhost:8080/",
          "height": 51
        },
        "outputId": "0864fba7-84c6-4e8f-9f9d-09d64d78fd32",
        "executionInfo": {
          "status": "ok",
          "timestamp": 1522017019523,
          "user_tz": 240,
          "elapsed": 235,
          "user": {
            "displayName": "Sangtian Wang",
            "photoUrl": "https://lh3.googleusercontent.com/a/default-user=s128",
            "userId": "114974396457600215662"
          }
        }
      },
      "cell_type": "code",
      "source": [
        "label_mat=scipy.io.loadmat('/content/ucf101/data/q3_2_data.mat')\n",
        "label_train=label_mat['trLb']\n",
        "print(len(label_train))\n",
        "label_val=label_mat['valLb']\n",
        "print(len(label_val))"
      ],
      "execution_count": 2,
      "outputs": [
        {
          "output_type": "stream",
          "text": [
            "7770\n",
            "2230\n"
          ],
          "name": "stdout"
        }
      ]
    },
    {
      "metadata": {
        "id": "LA2eXfmXDkp3",
        "colab_type": "text"
      },
      "cell_type": "markdown",
      "source": [
        "### Dataset class\n",
        "\n",
        "torch.utils.data.Dataset is an abstract class representing a dataset. The custom dataset should inherit Dataset and override the following methods:\n",
        "\n",
        "    __len__ so that len(dataset) returns the size of the dataset.\n",
        "    __getitem__ to support the indexing such that dataset[i] can be used to get ith sample\n",
        "\n",
        "Let’s create a dataset class for our action recognition dataset. We will read images in __getitem__. This is memory efficient because all the images are not stored in the memory at once but read as required.\n",
        "\n",
        "Sample of our dataset will be a dict {'image':image,'img_path':img_path,'Label':Label}. Our datset will take an optional argument transform so that any required processing can be applied on the sample. "
      ]
    },
    {
      "metadata": {
        "id": "XrQEFhnzDkp3",
        "colab_type": "code",
        "colab": {
          "autoexec": {
            "startup": false,
            "wait_interval": 0
          }
        }
      },
      "cell_type": "code",
      "source": [
        "\n",
        "class ActionDataset(Dataset):\n",
        "    \"\"\"Action dataset.\"\"\"\n",
        "\n",
        "    def __init__(self,  root_dir,labels=[], transform=None):\n",
        "        \"\"\"\n",
        "        Args:\n",
        "            root_dir (string): Directory with all the images.\n",
        "            labels(list): labels if images.\n",
        "            transform (callable, optional): Optional transform to be applied on a sample.\n",
        "        \"\"\"\n",
        "        self.root_dir = root_dir\n",
        "        self.transform = transform\n",
        "        self.length=len(os.listdir(self.root_dir))\n",
        "        self.labels=labels\n",
        "    def __len__(self):\n",
        "        return self.length*3\n",
        "\n",
        "    def __getitem__(self, idx):\n",
        "        \n",
        "        folder=idx/3+1\n",
        "        imidx=idx%3+1\n",
        "        folder=format(folder,'05d')\n",
        "        imgname=str(imidx)+'.jpg'\n",
        "        img_path = os.path.join(self.root_dir,\n",
        "                                folder,imgname)\n",
        "        image = Image.open(img_path)\n",
        "        if len(self.labels)!=0:\n",
        "            Label=self.labels[idx/3][0]-1\n",
        "        if self.transform:\n",
        "            image = self.transform(image)\n",
        "        if len(self.labels)!=0:\n",
        "            sample={'image':image,'img_path':img_path,'Label':Label}\n",
        "        else:\n",
        "            sample={'image':image,'img_path':img_path}\n",
        "        return sample\n",
        "  "
      ],
      "execution_count": 0,
      "outputs": []
    },
    {
      "metadata": {
        "id": "lnpoRJlWDkp6",
        "colab_type": "text"
      },
      "cell_type": "markdown",
      "source": [
        "Iterating over the dataset by a for loop."
      ]
    },
    {
      "metadata": {
        "id": "FXjdtiWtDkp7",
        "colab_type": "code",
        "colab": {
          "autoexec": {
            "startup": false,
            "wait_interval": 0
          },
          "output_extras": [
            {
              "item_id": 1
            }
          ],
          "base_uri": "https://localhost:8080/",
          "height": 527
        },
        "outputId": "d93dc4bc-1d8c-4637-df8e-e1b2ca40b26c",
        "executionInfo": {
          "status": "ok",
          "timestamp": 1522017030042,
          "user_tz": 240,
          "elapsed": 359,
          "user": {
            "displayName": "Sangtian Wang",
            "photoUrl": "https://lh3.googleusercontent.com/a/default-user=s128",
            "userId": "114974396457600215662"
          }
        }
      },
      "cell_type": "code",
      "source": [
        "image_dataset=ActionDataset(root_dir='/content/ucf101/data/trainClips/',\\\n",
        "                            labels=label_train,transform=T.ToTensor())\n",
        "\n",
        "# iterating though the dataset\n",
        "for i in range(10):\n",
        "    sample=image_dataset[i]\n",
        "    print(sample['image'].shape)\n",
        "    print(sample['Label'])\n",
        "    print(sample['img_path'])\n",
        "     \n",
        "   "
      ],
      "execution_count": 4,
      "outputs": [
        {
          "output_type": "stream",
          "text": [
            "torch.Size([3, 64, 64])\n",
            "0.0\n",
            "/content/ucf101/data/trainClips/00001/1.jpg\n",
            "torch.Size([3, 64, 64])\n",
            "0.0\n",
            "/content/ucf101/data/trainClips/00001/2.jpg\n",
            "torch.Size([3, 64, 64])\n",
            "0.0\n",
            "/content/ucf101/data/trainClips/00001/3.jpg\n",
            "torch.Size([3, 64, 64])\n",
            "0.0\n",
            "/content/ucf101/data/trainClips/00002/1.jpg\n",
            "torch.Size([3, 64, 64])\n",
            "0.0\n",
            "/content/ucf101/data/trainClips/00002/2.jpg\n",
            "torch.Size([3, 64, 64])\n",
            "0.0\n",
            "/content/ucf101/data/trainClips/00002/3.jpg\n",
            "torch.Size([3, 64, 64])\n",
            "0.0\n",
            "/content/ucf101/data/trainClips/00003/1.jpg\n",
            "torch.Size([3, 64, 64])\n",
            "0.0\n",
            "/content/ucf101/data/trainClips/00003/2.jpg\n",
            "torch.Size([3, 64, 64])\n",
            "0.0\n",
            "/content/ucf101/data/trainClips/00003/3.jpg\n",
            "torch.Size([3, 64, 64])\n",
            "0.0\n",
            "/content/ucf101/data/trainClips/00004/1.jpg\n"
          ],
          "name": "stdout"
        }
      ]
    },
    {
      "metadata": {
        "id": "q5biARF7Dkp-",
        "colab_type": "text"
      },
      "cell_type": "markdown",
      "source": [
        "We can iterate over the created dataset with a 'for' loop as before. However, we are losing a lot of features by using a simple for loop to iterate over the data. In particular, we are missing out on:\n",
        "\n",
        "* Batching the data\n",
        "* Shuffling the data\n",
        "* Load the data in parallel using multiprocessing workers.\n",
        "\n",
        "torch.utils.data.DataLoader is an iterator which provides all these features. "
      ]
    },
    {
      "metadata": {
        "id": "gZEnjJE1Dkp-",
        "colab_type": "code",
        "colab": {
          "autoexec": {
            "startup": false,
            "wait_interval": 0
          },
          "output_extras": [
            {
              "item_id": 1
            }
          ],
          "base_uri": "https://localhost:8080/",
          "height": 2655
        },
        "outputId": "06015f1c-a392-4b18-f074-b0c6badc320f",
        "executionInfo": {
          "status": "ok",
          "timestamp": 1522017037423,
          "user_tz": 240,
          "elapsed": 2402,
          "user": {
            "displayName": "Sangtian Wang",
            "photoUrl": "https://lh3.googleusercontent.com/a/default-user=s128",
            "userId": "114974396457600215662"
          }
        }
      },
      "cell_type": "code",
      "source": [
        "image_dataloader = DataLoader(image_dataset, batch_size=4,\n",
        "                        shuffle=True, num_workers=4)\n",
        "\n",
        "\n",
        "for i,sample in enumerate(image_dataloader):\n",
        "    sample['image']=sample['image'].cuda()\n",
        "    print(i,sample['image'].shape,sample['img_path'],sample['Label'])\n",
        "    if i>20: \n",
        "        break"
      ],
      "execution_count": 5,
      "outputs": [
        {
          "output_type": "stream",
          "text": [
            "(0, torch.Size([4, 3, 64, 64]), ['/content/ucf101/data/trainClips/07462/1.jpg', '/content/ucf101/data/trainClips/05780/3.jpg', '/content/ucf101/data/trainClips/00944/2.jpg', '/content/ucf101/data/trainClips/06892/3.jpg'], \n",
            " 9\n",
            " 7\n",
            " 1\n",
            " 8\n",
            "[torch.DoubleTensor of size 4]\n",
            ")\n",
            "(1, torch.Size([4, 3, 64, 64]), ['/content/ucf101/data/trainClips/02454/1.jpg', '/content/ucf101/data/trainClips/02910/1.jpg', '/content/ucf101/data/trainClips/04609/3.jpg', '/content/ucf101/data/trainClips/03287/3.jpg'], \n",
            " 2\n",
            " 3\n",
            " 5\n",
            " 3\n",
            "[torch.DoubleTensor of size 4]\n",
            ")\n",
            "(2, torch.Size([4, 3, 64, 64]), ['/content/ucf101/data/trainClips/01671/1.jpg', '/content/ucf101/data/trainClips/01521/1.jpg', '/content/ucf101/data/trainClips/07532/1.jpg', '/content/ucf101/data/trainClips/00835/2.jpg'], \n",
            " 1\n",
            " 1\n",
            " 9\n",
            " 0\n",
            "[torch.DoubleTensor of size 4]\n",
            ")\n",
            "(3, torch.Size([4, 3, 64, 64]), ['/content/ucf101/data/trainClips/00150/1.jpg', '/content/ucf101/data/trainClips/07307/3.jpg', '/content/ucf101/data/trainClips/04981/1.jpg', '/content/ucf101/data/trainClips/00444/1.jpg'], \n",
            " 0\n",
            " 9\n",
            " 6\n",
            " 0\n",
            "[torch.DoubleTensor of size 4]\n",
            ")\n",
            "(4, torch.Size([4, 3, 64, 64]), ['/content/ucf101/data/trainClips/05381/3.jpg', '/content/ucf101/data/trainClips/02862/1.jpg', '/content/ucf101/data/trainClips/02619/1.jpg', '/content/ucf101/data/trainClips/01751/1.jpg'], \n",
            " 6\n",
            " 3\n",
            " 2\n",
            " 1\n",
            "[torch.DoubleTensor of size 4]\n",
            ")\n",
            "(5, torch.Size([4, 3, 64, 64]), ['/content/ucf101/data/trainClips/06628/2.jpg', '/content/ucf101/data/trainClips/02338/1.jpg', '/content/ucf101/data/trainClips/02999/2.jpg', '/content/ucf101/data/trainClips/01922/1.jpg'], \n",
            " 8\n",
            " 2\n",
            " 3\n",
            " 2\n",
            "[torch.DoubleTensor of size 4]\n",
            ")\n",
            "(6, torch.Size([4, 3, 64, 64]), ['/content/ucf101/data/trainClips/00154/1.jpg', '/content/ucf101/data/trainClips/01725/2.jpg', '/content/ucf101/data/trainClips/07059/1.jpg', '/content/ucf101/data/trainClips/04737/2.jpg'], \n",
            " 0\n",
            " 1\n",
            " 8\n",
            " 5\n",
            "[torch.DoubleTensor of size 4]\n",
            ")\n",
            "(7, torch.Size([4, 3, 64, 64]), ['/content/ucf101/data/trainClips/03664/2.jpg', '/content/ucf101/data/trainClips/03525/2.jpg', '/content/ucf101/data/trainClips/00331/1.jpg', '/content/ucf101/data/trainClips/06782/3.jpg'], \n",
            " 4\n",
            " 4\n",
            " 0\n",
            " 8\n",
            "[torch.DoubleTensor of size 4]\n",
            ")\n",
            "(8, torch.Size([4, 3, 64, 64]), ['/content/ucf101/data/trainClips/07500/1.jpg', '/content/ucf101/data/trainClips/05121/1.jpg', '/content/ucf101/data/trainClips/00368/1.jpg', '/content/ucf101/data/trainClips/02127/2.jpg'], \n",
            " 9\n",
            " 6\n",
            " 0\n",
            " 2\n",
            "[torch.DoubleTensor of size 4]\n",
            ")\n",
            "(9, torch.Size([4, 3, 64, 64]), ['/content/ucf101/data/trainClips/01135/3.jpg', '/content/ucf101/data/trainClips/03791/3.jpg', '/content/ucf101/data/trainClips/07344/1.jpg', '/content/ucf101/data/trainClips/07038/2.jpg'], \n",
            " 1\n",
            " 4\n",
            " 9\n",
            " 8\n",
            "[torch.DoubleTensor of size 4]\n",
            ")\n",
            "(10, torch.Size([4, 3, 64, 64]), ['/content/ucf101/data/trainClips/05427/1.jpg', '/content/ucf101/data/trainClips/07554/3.jpg', '/content/ucf101/data/trainClips/04467/2.jpg', '/content/ucf101/data/trainClips/02046/3.jpg'], \n",
            " 6\n",
            " 9\n",
            " 5\n",
            " 2\n",
            "[torch.DoubleTensor of size 4]\n",
            ")\n",
            "(11, torch.Size([4, 3, 64, 64]), ['/content/ucf101/data/trainClips/03159/1.jpg', '/content/ucf101/data/trainClips/00409/1.jpg', '/content/ucf101/data/trainClips/02761/2.jpg', '/content/ucf101/data/trainClips/07534/3.jpg'], \n",
            " 3\n",
            " 0\n",
            " 3\n",
            " 9\n",
            "[torch.DoubleTensor of size 4]\n",
            ")\n",
            "(12, torch.Size([4, 3, 64, 64]), ['/content/ucf101/data/trainClips/05860/3.jpg', '/content/ucf101/data/trainClips/04424/1.jpg', '/content/ucf101/data/trainClips/04707/3.jpg', '/content/ucf101/data/trainClips/05628/3.jpg'], \n",
            " 7\n",
            " 5\n",
            " 5\n",
            " 6\n",
            "[torch.DoubleTensor of size 4]\n",
            ")\n",
            "(13, torch.Size([4, 3, 64, 64]), ['/content/ucf101/data/trainClips/03570/3.jpg', '/content/ucf101/data/trainClips/00233/2.jpg', '/content/ucf101/data/trainClips/00130/2.jpg', '/content/ucf101/data/trainClips/01860/3.jpg'], \n",
            " 4\n",
            " 0\n",
            " 0\n",
            " 2\n",
            "[torch.DoubleTensor of size 4]\n",
            ")\n",
            "(14, torch.Size([4, 3, 64, 64]), ['/content/ucf101/data/trainClips/05180/3.jpg', '/content/ucf101/data/trainClips/00506/3.jpg', '/content/ucf101/data/trainClips/06412/2.jpg', '/content/ucf101/data/trainClips/03160/2.jpg'], \n",
            " 6\n",
            " 0\n",
            " 7\n",
            " 3\n",
            "[torch.DoubleTensor of size 4]\n",
            ")\n",
            "(15, torch.Size([4, 3, 64, 64]), ['/content/ucf101/data/trainClips/02526/3.jpg', '/content/ucf101/data/trainClips/05758/2.jpg', '/content/ucf101/data/trainClips/04888/1.jpg', '/content/ucf101/data/trainClips/05271/1.jpg'], \n",
            " 2\n",
            " 7\n",
            " 5\n",
            " 6\n",
            "[torch.DoubleTensor of size 4]\n",
            ")\n",
            "(16, torch.Size([4, 3, 64, 64]), ['/content/ucf101/data/trainClips/00712/3.jpg', '/content/ucf101/data/trainClips/01318/1.jpg', '/content/ucf101/data/trainClips/04782/3.jpg', '/content/ucf101/data/trainClips/07334/3.jpg'], \n",
            " 0\n",
            " 1\n",
            " 5\n",
            " 9\n",
            "[torch.DoubleTensor of size 4]\n",
            ")\n",
            "(17, torch.Size([4, 3, 64, 64]), ['/content/ucf101/data/trainClips/02092/1.jpg', '/content/ucf101/data/trainClips/00905/1.jpg', '/content/ucf101/data/trainClips/02514/1.jpg', '/content/ucf101/data/trainClips/05175/1.jpg'], \n",
            " 2\n",
            " 0\n",
            " 2\n",
            " 6\n",
            "[torch.DoubleTensor of size 4]\n",
            ")\n",
            "(18, torch.Size([4, 3, 64, 64]), ['/content/ucf101/data/trainClips/06910/2.jpg', '/content/ucf101/data/trainClips/05449/2.jpg', '/content/ucf101/data/trainClips/01534/1.jpg', '/content/ucf101/data/trainClips/00438/1.jpg'], \n",
            " 8\n",
            " 6\n",
            " 1\n",
            " 0\n",
            "[torch.DoubleTensor of size 4]\n",
            ")\n",
            "(19, torch.Size([4, 3, 64, 64]), ['/content/ucf101/data/trainClips/02301/1.jpg', '/content/ucf101/data/trainClips/02706/1.jpg', '/content/ucf101/data/trainClips/03255/2.jpg', '/content/ucf101/data/trainClips/07058/1.jpg'], \n",
            " 2\n",
            " 3\n",
            " 3\n",
            " 8\n",
            "[torch.DoubleTensor of size 4]\n",
            ")\n",
            "(20, torch.Size([4, 3, 64, 64]), ['/content/ucf101/data/trainClips/02891/2.jpg', '/content/ucf101/data/trainClips/06671/3.jpg', '/content/ucf101/data/trainClips/07021/3.jpg', '/content/ucf101/data/trainClips/02495/3.jpg'], \n",
            " 3\n",
            " 8\n",
            " 8\n",
            " 2\n",
            "[torch.DoubleTensor of size 4]\n",
            ")\n",
            "(21, torch.Size([4, 3, 64, 64]), ['/content/ucf101/data/trainClips/00627/3.jpg', '/content/ucf101/data/trainClips/06020/1.jpg', '/content/ucf101/data/trainClips/06451/2.jpg', '/content/ucf101/data/trainClips/06247/2.jpg'], \n",
            " 0\n",
            " 7\n",
            " 7\n",
            " 7\n",
            "[torch.DoubleTensor of size 4]\n",
            ")\n"
          ],
          "name": "stdout"
        }
      ]
    },
    {
      "metadata": {
        "id": "pl08_KmGDkqA",
        "colab_type": "text"
      },
      "cell_type": "markdown",
      "source": [
        "Dataloaders for the training, validationg and testing set. "
      ]
    },
    {
      "metadata": {
        "id": "hF3VgJBBDkqB",
        "colab_type": "code",
        "colab": {
          "autoexec": {
            "startup": false,
            "wait_interval": 0
          }
        }
      },
      "cell_type": "code",
      "source": [
        "image_dataset_train=ActionDataset(root_dir='/content/ucf101/data/trainClips/',labels=label_train,transform=T.ToTensor())\n",
        "\n",
        "image_dataloader_train = DataLoader(image_dataset_train, batch_size=32,\n",
        "                        shuffle=True, num_workers=4)\n",
        "image_dataset_val=ActionDataset(root_dir='/content/ucf101/data/valClips/',labels=label_val,transform=T.ToTensor())\n",
        "\n",
        "image_dataloader_val = DataLoader(image_dataset_val, batch_size=32,\n",
        "                        shuffle=False, num_workers=4)\n",
        "image_dataset_test=ActionDataset(root_dir='/content/ucf101/data/testClips/',labels=[],transform=T.ToTensor())\n",
        "\n",
        "image_dataloader_test = DataLoader(image_dataset_test, batch_size=32,\n",
        "                        shuffle=False, num_workers=4)"
      ],
      "execution_count": 0,
      "outputs": []
    },
    {
      "metadata": {
        "id": "kmYyj-kWDkqE",
        "colab_type": "code",
        "colab": {
          "autoexec": {
            "startup": false,
            "wait_interval": 0
          }
        }
      },
      "cell_type": "code",
      "source": [
        "dtype = torch.FloatTensor # the CPU datatype\n",
        "# Constant to control how frequently we print train loss\n",
        "print_every = 100\n",
        "# This is a little utility that we'll use to reset the model\n",
        "# if we want to re-initialize all our parameters\n",
        "def reset(m):\n",
        "    if hasattr(m, 'reset_parameters'):\n",
        "        m.reset_parameters()"
      ],
      "execution_count": 0,
      "outputs": []
    },
    {
      "metadata": {
        "id": "i9wmNfpeDkqG",
        "colab_type": "text"
      },
      "cell_type": "markdown",
      "source": [
        "## Example Model\n",
        "\n",
        "### Some assorted tidbits\n",
        "\n",
        "Let's start by looking at a simple model. First, note that PyTorch operates on Tensors, which are n-dimensional arrays functionally analogous to numpy's ndarrays, with the additional feature that they can be used for computations on GPUs.\n",
        "\n",
        "We'll provide you with a Flatten function, which we explain here. Remember that our image data (and more relevantly, our intermediate feature maps) are initially N x C x H x W, where:\n",
        "* N is the number of datapoints\n",
        "* C is the number of image channels. \n",
        "* H is the height of the intermediate feature map in pixels\n",
        "* W is the height of the intermediate feature map in pixels\n",
        "\n",
        "This is the right way to represent the data when we are doing something like a 2D convolution, that needs spatial understanding of where the intermediate features are relative to each other. When we input  data into fully connected affine layers, however, we want each datapoint to be represented by a single vector -- it's no longer useful to segregate the different channels, rows, and columns of the data. So, we use a \"Flatten\" operation to collapse the C x H x W values per representation into a single long vector. The Flatten function below first reads in the N, C, H, and W values from a given batch of data, and then returns a \"view\" of that data. \"View\" is analogous to numpy's \"reshape\" method: it reshapes x's dimensions to be N x ??, where ?? is allowed to be anything (in this case, it will be C x H x W, but we don't need to specify that explicitly). "
      ]
    },
    {
      "metadata": {
        "id": "A5NP9IxMDkqH",
        "colab_type": "code",
        "colab": {
          "autoexec": {
            "startup": false,
            "wait_interval": 0
          }
        }
      },
      "cell_type": "code",
      "source": [
        "class Flatten(nn.Module):\n",
        "    def forward(self, x):\n",
        "        N, C, H, W = x.size() # read in N, C, H, W\n",
        "        return x.view(N, -1)  # \"flatten\" the C * H * W values into a single vector per image"
      ],
      "execution_count": 0,
      "outputs": []
    },
    {
      "metadata": {
        "id": "ck91JYl4DkqK",
        "colab_type": "text"
      },
      "cell_type": "markdown",
      "source": [
        "### The example model itself\n",
        "\n",
        "The first step to training your own model is defining its architecture.\n",
        "\n",
        "Here's an example of a convolutional neural network defined in PyTorch -- try to understand what each line is doing, remembering that each layer is composed upon the previous layer. We haven't trained anything yet - that'll come next - for now, we want you to understand how everything gets set up.  nn.Sequential is a container which applies each layer\n",
        "one after the other.\n",
        "\n",
        "In this example, you see 2D convolutional layers (Conv2d), ReLU activations, and fully-connected layers (Linear). You also see the Cross-Entropy loss function, and the Adam optimizer being used. \n",
        "\n",
        "Make sure you understand why the parameters of the Linear layer are 10092 and 10.\n"
      ]
    },
    {
      "metadata": {
        "id": "x4XCkNeoDkqK",
        "colab_type": "code",
        "colab": {
          "autoexec": {
            "startup": false,
            "wait_interval": 0
          }
        }
      },
      "cell_type": "code",
      "source": [
        "# Here's where we define the architecture of the model... \n",
        "simple_model = nn.Sequential(\n",
        "                nn.Conv2d(3, 32, kernel_size=7, stride=2),\n",
        "                nn.ReLU(inplace=True),\n",
        "                Flatten(), # see above for explanation\n",
        "                nn.Linear(10092, 10), # affine layer\n",
        "              )\n",
        "\n",
        "# Set the type of all data in this model to be FloatTensor \n",
        "simple_model.type(dtype)\n",
        "\n",
        "loss_fn = nn.CrossEntropyLoss().type(dtype)\n",
        "optimizer = optim.Adam(simple_model.parameters(), lr=1e-2) # lr sets the learning rate of the optimizer"
      ],
      "execution_count": 0,
      "outputs": []
    },
    {
      "metadata": {
        "id": "Jto8Sn0zDkqN",
        "colab_type": "text"
      },
      "cell_type": "markdown",
      "source": [
        "PyTorch supports many other layer types, loss functions, and optimizers - you will experiment with these next. Here's the official API documentation for these (if any of the parameters used above were unclear, this resource will also be helpful). \n",
        "\n",
        "* Layers: http://pytorch.org/docs/nn.html\n",
        "* Activations: http://pytorch.org/docs/nn.html#non-linear-activations\n",
        "* Loss functions: http://pytorch.org/docs/nn.html#loss-functions\n",
        "* Optimizers: http://pytorch.org/docs/optim.html#algorithms"
      ]
    },
    {
      "metadata": {
        "id": "3nVKutWODkqP",
        "colab_type": "text"
      },
      "cell_type": "markdown",
      "source": [
        "## Training a specific model\n",
        "\n",
        "In this section, we're going to specify a model for you to construct. The goal here isn't to get good performance (that'll be next), but instead to get comfortable with understanding the PyTorch documentation and configuring your own model. \n",
        "\n",
        "Using the code provided above as guidance, and using the following PyTorch documentation, specify a model with the following architecture:\n",
        "\n",
        "* 7x7 Convolutional Layer with 8 filters and stride of 1\n",
        "* ReLU Activation Layer\n",
        "* 2x2 Max Pooling layer with a stride of 2\n",
        "* 7x7 Convolutional Layer with 16 filters and stride of 1\n",
        "* ReLU Activation Layer\n",
        "* 2x2 Max Pooling layer with a stride of 2\n",
        "* Flatten the feature map\n",
        "* ReLU Activation Layer\n",
        "* Affine layer to map input units to 10 outputs, you need to figure out the input size here.\n"
      ]
    },
    {
      "metadata": {
        "id": "Jnw-YeMBDkqP",
        "colab_type": "code",
        "colab": {
          "autoexec": {
            "startup": false,
            "wait_interval": 0
          }
        }
      },
      "cell_type": "code",
      "source": [
        "fixed_model_base = nn.Sequential( \n",
        "    #########1st To Do  (10 points)###################\n",
        "    \n",
        "#     nn.Conv2d(\n",
        "#         in_channels=3,      # input height\n",
        "#         out_channels=32,    # n_filters\n",
        "#         kernel_size=7,      # filter size\n",
        "#         stride=1,           # filter movement/step\n",
        "#     ),\n",
        "    nn.Conv2d(3, 32, 7, 1),\n",
        "    nn.ReLU(inplace=True),\n",
        "    nn.MaxPool2d(2, 2),\n",
        "    nn.Conv2d(32, 16, 7, 1),\n",
        "    nn.ReLU(inplace=True),\n",
        "    nn.MaxPool2d(2, 2),\n",
        "    Flatten(),\n",
        "    nn.ReLU(inplace=True),\n",
        "    nn.Linear(1936,10)\n",
        "    \n",
        "    )\n",
        "    \n",
        "fixed_model = fixed_model_base.type(dtype)\n"
      ],
      "execution_count": 0,
      "outputs": []
    },
    {
      "metadata": {
        "id": "ixAhZ8NBDkqT",
        "colab_type": "text"
      },
      "cell_type": "markdown",
      "source": [
        "To make sure you're doing the right thing, use the following tool to check the dimensionality of your output (it should be 32 x 10, since our batches have size 32 and the output of the final affine layer should be 10, corresponding to our 10 classes):"
      ]
    },
    {
      "metadata": {
        "id": "yUpMqO_fDkqU",
        "colab_type": "code",
        "colab": {
          "autoexec": {
            "startup": false,
            "wait_interval": 0
          },
          "output_extras": [
            {
              "item_id": 1
            }
          ],
          "base_uri": "https://localhost:8080/",
          "height": 51
        },
        "outputId": "8408ce2c-f1ab-460a-cb82-2dddd34371d4",
        "executionInfo": {
          "status": "ok",
          "timestamp": 1522017216187,
          "user_tz": 240,
          "elapsed": 501,
          "user": {
            "displayName": "Sangtian Wang",
            "photoUrl": "https://lh3.googleusercontent.com/a/default-user=s128",
            "userId": "114974396457600215662"
          }
        }
      },
      "cell_type": "code",
      "source": [
        "## Now we're going to feed a random batch into the model you defined and make sure the output is the right size\n",
        "x = torch.randn(32, 3, 64, 64).type(dtype)\n",
        "x_var = Variable(x.type(dtype)) # Construct a PyTorch Variable out of your input data\n",
        "ans = fixed_model(x_var)        # Feed it through the model! \n",
        "\n",
        "# Check to make sure what comes out of your model\n",
        "# is the right dimensionality... this should be True\n",
        "# if you've done everything correctly\n",
        "print(np.array(ans.size()))\n",
        "print(np.array_equal(np.array(ans.size()), np.array([32, 10])))\n",
        "\n",
        "\n",
        "\n",
        "def model_check(model):\n",
        "  x = torch.randn(32, 3, 64, 64).type(dtype)\n",
        "  x_var = Variable(x.type(dtype)) # Construct a PyTorch Variable out of your input data\n",
        "  ans = model(x_var)        # Feed it through the model! \n",
        "\n",
        "  # Check to make sure what comes out of your model\n",
        "  # is the right dimensionality... this should be True\n",
        "  # if you've done everything correctly\n",
        "  print(np.array(ans.size()))\n",
        "  print(np.array_equal(np.array(ans.size()), np.array([32, 10])))"
      ],
      "execution_count": 19,
      "outputs": [
        {
          "output_type": "stream",
          "text": [
            "[32 10]\n",
            "True\n"
          ],
          "name": "stdout"
        }
      ]
    },
    {
      "metadata": {
        "id": "4r2SyZ-lDkqY",
        "colab_type": "text"
      },
      "cell_type": "markdown",
      "source": [
        "### Train the model.\n",
        "\n",
        "Now that you've seen how to define a model and do a single forward pass of some data through it, let's  walk through how you'd actually train one whole epoch over your training data (using the fixed_model_base we provided above).\n",
        "\n",
        "Make sure you understand how each PyTorch function used below corresponds to what you implemented in your custom neural network implementation.\n",
        "\n",
        "Note that because we are not resetting the weights anywhere below, if you run the cell multiple times, you are effectively training multiple epochs (so your performance should improve).\n",
        "\n",
        "First, set up an RMSprop optimizer (using a 1e-4 learning rate) and a cross-entropy loss function:"
      ]
    },
    {
      "metadata": {
        "id": "JRXj3DKNDkqZ",
        "colab_type": "code",
        "colab": {
          "autoexec": {
            "startup": false,
            "wait_interval": 0
          }
        }
      },
      "cell_type": "code",
      "source": [
        "################ 2nd To Do  (5 points)##################\n",
        "loss_fn = nn.CrossEntropyLoss()\n",
        "optimizer = optim.RMSprop(fixed_model.parameters(), lr=1e-4)"
      ],
      "execution_count": 0,
      "outputs": []
    },
    {
      "metadata": {
        "id": "jqQ_hl1DDkqc",
        "colab_type": "code",
        "colab": {
          "autoexec": {
            "startup": false,
            "wait_interval": 0
          }
        }
      },
      "cell_type": "code",
      "source": [
        "# This sets the model in \"training\" mode. \n",
        "# This is relevant for some layers that may have different behavior\n",
        "# in training mode vs testing mode, such as Dropout and BatchNorm. \n",
        "fixed_model.train()\n",
        "\n",
        "# Load one batch at a time.\n",
        "for t, sample in enumerate(image_dataloader_train):\n",
        "    x_var = Variable(sample['image'])\n",
        "    #print(type(x_var.data))\n",
        "    #print(x_var.shape)\n",
        "    y_var = Variable(sample['Label']).long()\n",
        "\n",
        "    # This is the forward pass: predict the scores for each class, for each x in the batch.\n",
        "    scores = fixed_model(x_var)\n",
        "    \n",
        "    # Use the correct y values and the predicted y values to compute the loss.\n",
        "    loss = loss_fn(scores, y_var)\n",
        "    \n",
        "    if (t + 1) % print_every == 0:\n",
        "        print('t = %d, loss = %.4f' % (t + 1, loss.data[0]))\n",
        "\n",
        "    # Zero out all of the gradients for the variables which the optimizer will update.\n",
        "    optimizer.zero_grad()\n",
        "    \n",
        "    # This is the backwards pass: compute the gradient of the loss with respect to each \n",
        "    # parameter of the model.\n",
        "    loss.backward()\n",
        "    \n",
        "    # Actually update the parameters of the model using the gradients computed by the backwards pass.\n",
        "    optimizer.step()\n",
        "   "
      ],
      "execution_count": 0,
      "outputs": []
    },
    {
      "metadata": {
        "id": "vx8BY-zRDkqf",
        "colab_type": "text"
      },
      "cell_type": "markdown",
      "source": [
        "Now you've seen how the training process works in PyTorch. To save you writing boilerplate code, we're providing the following helper functions to help you train for multiple epochs and check the accuracy of your model:"
      ]
    },
    {
      "metadata": {
        "id": "VemLiOxmDkqh",
        "colab_type": "code",
        "colab": {
          "autoexec": {
            "startup": false,
            "wait_interval": 0
          }
        }
      },
      "cell_type": "code",
      "source": [
        "def train(model, loss_fn, optimizer, dataloader, num_epochs = 1):\n",
        "    for epoch in range(num_epochs):\n",
        "        print('Starting epoch %d / %d' % (epoch + 1, num_epochs))\n",
        "        model.train()\n",
        "        for t, sample in enumerate(dataloader):\n",
        "            x_var = Variable(sample['image'])\n",
        "            y_var = Variable(sample['Label'].long())\n",
        "\n",
        "            scores = model(x_var)\n",
        "            \n",
        "            loss = loss_fn(scores, y_var)\n",
        "            if (t + 1) % print_every == 0:\n",
        "                print('t = %d, loss = %.4f' % (t + 1, loss.data[0]))\n",
        "\n",
        "            optimizer.zero_grad()\n",
        "            loss.backward()\n",
        "            optimizer.step()\n",
        "\n",
        "def check_accuracy(model, loader):\n",
        "    '''\n",
        "    if loader.dataset.train:\n",
        "        print('Checking accuracy on validation set')\n",
        "    else:\n",
        "        print('Checking accuracy on test set')  \n",
        "    '''\n",
        "    num_correct = 0\n",
        "    num_samples = 0\n",
        "    model.eval() # Put the model in test mode (the opposite of model.train(), essentially)\n",
        "    for t, sample in enumerate(loader):\n",
        "        x_var = Variable(sample['image'])\n",
        "        y_var = sample['Label']\n",
        "        #y_var=y_var.cpu()\n",
        "        scores = model(x_var)\n",
        "        _, preds = scores.data.max(1)#scores.data.cpu().max(1)\n",
        "        #print(preds)\n",
        "        #print(y_var)\n",
        "        num_correct += (preds.numpy() == y_var.numpy()).sum()\n",
        "        num_samples += preds.size(0)\n",
        "    acc = float(num_correct) / num_samples\n",
        "    print('Got %d / %d correct (%.2f)' % (num_correct, num_samples, 100 * acc))\n",
        "    \n",
        "    \n",
        "\n"
      ],
      "execution_count": 0,
      "outputs": []
    },
    {
      "metadata": {
        "id": "kz_LvxpnDkqk",
        "colab_type": "text"
      },
      "cell_type": "markdown",
      "source": [
        "### Check the accuracy of the model.\n",
        "\n",
        "Let's see the train and check_accuracy code in action -- feel free to use these methods when evaluating the models you develop below.\n",
        "\n",
        "You should get a training loss of around 1.0-1.2, and a validation accuracy of around 50-60%. As mentioned above, if you re-run the cells, you'll be training more epochs, so your performance will improve past these numbers.\n",
        "\n",
        "But don't worry about getting these numbers better -- this was just practice before you tackle designing your own model."
      ]
    },
    {
      "metadata": {
        "id": "a2O6B7orDkql",
        "colab_type": "code",
        "colab": {
          "autoexec": {
            "startup": false,
            "wait_interval": 0
          }
        }
      },
      "cell_type": "code",
      "source": [
        "torch.random.manual_seed(12345)\n",
        "fixed_model.cpu()\n",
        "fixed_model.apply(reset) \n",
        "fixed_model.train() \n",
        "train(fixed_model, loss_fn, optimizer,image_dataloader_train, num_epochs=1) \n",
        "check_accuracy(fixed_model, image_dataloader_train)# check accuracy on the training set\n"
      ],
      "execution_count": 0,
      "outputs": []
    },
    {
      "metadata": {
        "id": "YHWHaY-MDkqn",
        "colab_type": "text"
      },
      "cell_type": "markdown",
      "source": [
        "### Don't forget the validation set!\n",
        "\n",
        "And note that you can use the check_accuracy function to evaluate on the validation set, by passing **image_dataloader_val** as the second argument to check_accuracy. The accuracy on validation set is arround 40-50%."
      ]
    },
    {
      "metadata": {
        "id": "YyKgx3KLDkqp",
        "colab_type": "code",
        "colab": {
          "autoexec": {
            "startup": false,
            "wait_interval": 0
          }
        }
      },
      "cell_type": "code",
      "source": [
        "check_accuracy(fixed_model, image_dataloader_val)#check accuracy on the validation set"
      ],
      "execution_count": 0,
      "outputs": []
    },
    {
      "metadata": {
        "id": "WWUDrNr7Dkqr",
        "colab_type": "text"
      },
      "cell_type": "markdown",
      "source": [
        "##### Train a better  model for action recognition!\n",
        "\n",
        "Now it's your job to experiment with architectures, hyperparameters, loss functions, and optimizers to train a model that achieves better accuracy on the action recognition **validation** set. You can use the check_accuracy and train functions from above."
      ]
    },
    {
      "metadata": {
        "id": "ySkE92NIDkqs",
        "colab_type": "text"
      },
      "cell_type": "markdown",
      "source": [
        "### Things you should try:\n",
        "- **Filter size**: Above we used 7x7; this makes pretty pictures but smaller filters may be more efficient\n",
        "- **Number of filters**: Do more or fewer do better?\n",
        "- **Pooling vs Strided Convolution**: Do you use max pooling or just stride convolutions?\n",
        "- **Batch normalization**: Try adding spatial batch normalization after convolution layers and vanilla batch normalization after affine layers. Do your networks train faster?\n",
        "- **Network architecture**: The network above has two layers of trainable parameters. Can you do better with a deep network? Good architectures to try include:\n",
        "    - [conv-relu-pool]xN -> [affine]xM -> [softmax or SVM]\n",
        "    - [conv-relu-conv-relu-pool]xN -> [affine]xM -> [softmax or SVM]\n",
        "    - [batchnorm-relu-conv]xN -> [affine]xM -> [softmax or SVM]\n",
        "- **Global Average Pooling**: Instead of flattening and then having multiple affine layers, perform convolutions until your image gets small (7x7 or so) and then perform an average pooling operation to get to a 1x1 image picture (1, 1 , Filter#), which is then reshaped into a (Filter#) vector. This is used in [Google's Inception Network](https://arxiv.org/abs/1512.00567) (See Table 1 for their architecture).\n",
        "- **Regularization**: Add l2 weight regularization, or perhaps use Dropout.\n",
        "\n",
        "### Tips for training\n",
        "For each network architecture that you try, you should tune the learning rate and regularization strength. When doing this there are a couple important things to keep in mind:\n",
        "\n",
        "- If the parameters are working well, you should see improvement within a few hundred iterations\n",
        "- Remember the coarse-to-fine approach for hyperparameter tuning: start by testing a large range of hyperparameters for just a few training iterations to find the combinations of parameters that are working at all.\n",
        "- Once you have found some sets of parameters that seem to work, search more finely around these parameters. You may need to train for more epochs.\n",
        "- You should use the validation set for hyperparameter search, and save your test set for evaluating your architecture on the best parameters as selected by the validation set.\n",
        "\n",
        "### Going above and beyond\n",
        "If you are feeling adventurous there are many other features you can implement to try and improve your performance. You are **not required** to implement any of these; however they would be good things to try.\n",
        "\n",
        "- Alternative update steps: For the assignment we implemented SGD+momentum, RMSprop, and Adam; you could try alternatives like AdaGrad or AdaDelta.\n",
        "- Alternative activation functions such as leaky ReLU, parametric ReLU, ELU, or MaxOut.\n",
        "- Model ensembles\n",
        "- Data augmentation\n",
        "- New Architectures\n",
        "  - [ResNets](https://arxiv.org/abs/1512.03385) where the input from the previous layer is added to the output.\n",
        "  - [DenseNets](https://arxiv.org/abs/1608.06993) where inputs into previous layers are concatenated together.\n",
        "  - [This blog has an in-depth overview](https://chatbotslife.com/resnets-highwaynets-and-densenets-oh-my-9bb15918ee32)\n",
        "\n",
        "If you do decide to implement something extra, clearly describe it in the \"Extra Credit Description\" cell below.\n",
        "\n",
        "### What we expect\n",
        "At the very least, you should be able to train a ConvNet that gets at least 55% accuracy on the validation set. This is just a lower bound - if you are careful it should be possible to get accuracies much higher than that! Extra credit points will be awarded for particularly high-scoring models or unique approaches.\n",
        "\n",
        "You should use the space below to experiment and train your network. \n",
        "\n"
      ]
    },
    {
      "metadata": {
        "id": "IGl_z9QqDkqs",
        "colab_type": "code",
        "colab": {
          "autoexec": {
            "startup": false,
            "wait_interval": 0
          },
          "output_extras": [
            {
              "item_id": 1
            }
          ],
          "base_uri": "https://localhost:8080/",
          "height": 51
        },
        "outputId": "c5abfa78-6d5b-4845-fa61-20deba24fadb",
        "executionInfo": {
          "status": "ok",
          "timestamp": 1522017224183,
          "user_tz": 240,
          "elapsed": 367,
          "user": {
            "displayName": "Sangtian Wang",
            "photoUrl": "https://lh3.googleusercontent.com/a/default-user=s128",
            "userId": "114974396457600215662"
          }
        }
      },
      "cell_type": "code",
      "source": [
        "###########3rd To Do (16 points, must submit the results to Kaggle) ##############\n",
        "# Train your model here, and make sure the output of this cell is the accuracy of your best model on the \n",
        "# train, val, and test sets. Here's some code to get you started. The output of this cell should be the training\n",
        "# and validation accuracy on your best model (measured by validation accuracy).\n",
        "SangtianNet = nn.Sequential( \n",
        "    #########1st To Do  (10 points)###################\n",
        "    \n",
        "#     nn.Conv2d(\n",
        "#         in_channels=3,      # input height\n",
        "#         out_channels=32,    # n_filters\n",
        "#         kernel_size=7,      # filter size\n",
        "#         stride=1,           # filter movement/step\n",
        "#     ),\n",
        "    nn.Conv2d(3, 32, 3, 1),\n",
        "    nn.ReLU(inplace=True),\n",
        "    nn.MaxPool2d(2, 2),\n",
        "    nn.Conv2d(32, 16, 3, 1),\n",
        "    nn.ReLU(inplace=True),\n",
        "    nn.MaxPool2d(2, 2),\n",
        "    Flatten(),\n",
        "    nn.Dropout(0.5),\n",
        "    nn.ReLU(inplace=True),\n",
        "    nn.Linear(14*14*16,10)\n",
        "    \n",
        "    )\n",
        "\n",
        "model_check(SangtianNet)\n",
        "\n"
      ],
      "execution_count": 20,
      "outputs": [
        {
          "output_type": "stream",
          "text": [
            "[32 10]\n",
            "True\n"
          ],
          "name": "stdout"
        }
      ]
    },
    {
      "metadata": {
        "id": "9fMRroXcDkqu",
        "colab_type": "text"
      },
      "cell_type": "markdown",
      "source": [
        "### Describe what you did \n",
        "\n",
        "In the cell below you should write an explanation of what you did, any additional features that you implemented, and any visualizations or graphs that you make in the process of training and evaluating your network."
      ]
    },
    {
      "metadata": {
        "id": "Mxzw3PCODkqu",
        "colab_type": "text"
      },
      "cell_type": "markdown",
      "source": [
        "Tell us here!\n",
        "###########4th To Do (4 points) ##############"
      ]
    },
    {
      "metadata": {
        "id": "S7ZGoW6eDkqv",
        "colab_type": "text"
      },
      "cell_type": "markdown",
      "source": [
        "### Testing the model and submit on Kaggle\n",
        "Testing the model on the testing set and save the results as a .csv file. \n",
        "Please submitted the results.csv file generated by predict_on_test() to Kaggle(https://www.kaggle.com/c/cse512springhw3) to see how well your network performs on the test set. \n",
        "#######5th To Do (submit the result to Kaggle,the highest 3 entries get extra 10 points )###############"
      ]
    },
    {
      "metadata": {
        "id": "YIVIU85iDkqw",
        "colab_type": "code",
        "colab": {
          "autoexec": {
            "startup": false,
            "wait_interval": 0
          },
          "output_extras": [
            {}
          ],
          "base_uri": "https://localhost:8080/",
          "height": 34
        },
        "outputId": "d8a96563-a363-41e3-c479-eaa4336e767f",
        "executionInfo": {
          "status": "ok",
          "timestamp": 1522012650728,
          "user_tz": 240,
          "elapsed": 34396,
          "user": {
            "displayName": "Sangtian Wang",
            "photoUrl": "https://lh3.googleusercontent.com/a/default-user=s128",
            "userId": "114974396457600215662"
          }
        }
      },
      "cell_type": "code",
      "source": [
        "def predict_on_test(model, loader):\n",
        "    '''\n",
        "    if loader.dataset.train:\n",
        "        print('Checking accuracy on validation set')\n",
        "    else:\n",
        "        print('Checking accuracy on test set')  \n",
        "    '''\n",
        "    num_correct = 0\n",
        "    num_samples = 0\n",
        "    model.eval() # Put the model in test mode (the opposite of model.train(), essentially)\n",
        "    results=open('results.csv','w')\n",
        "    count=0\n",
        "    results.write('Id'+','+'Class'+'\\n')\n",
        "    for t, sample in enumerate(loader):\n",
        "        x_var = Variable(sample['image'])\n",
        "        scores = model(x_var)\n",
        "        _, preds = scores.data.max(1)\n",
        "        for i in range(len(preds)):\n",
        "            results.write(str(count)+','+str(preds[i])+'\\n')\n",
        "            count+=1\n",
        "    results.close()\n",
        "    return count\n",
        "    \n",
        "count=predict_on_test(fixed_model, image_dataloader_test)\n",
        "print(count)"
      ],
      "execution_count": 0,
      "outputs": [
        {
          "output_type": "stream",
          "text": [
            "9810\n"
          ],
          "name": "stdout"
        }
      ]
    },
    {
      "metadata": {
        "id": "j-T9xYmoDkq1",
        "colab_type": "text"
      },
      "cell_type": "markdown",
      "source": [
        "### GPU! (This part is optional, 0 points)\n",
        "\n",
        "If you have access to GPU, you can make the code run on GPU, it would be much faster. \n",
        "\n",
        "Now, we're going to switch the dtype of the model and our data to the GPU-friendly tensors, and see what happens... everything is the same, except we are casting our model and input tensors as this new dtype instead of the old one.\n",
        "\n",
        "If this returns false, or otherwise fails in a not-graceful way (i.e., with some error message), you may not have an NVIDIA GPU available on your machine. "
      ]
    },
    {
      "metadata": {
        "id": "91z_6ztdDkq2",
        "colab_type": "code",
        "colab": {
          "autoexec": {
            "startup": false,
            "wait_interval": 0
          },
          "output_extras": [
            {
              "item_id": 1
            }
          ],
          "base_uri": "https://localhost:8080/",
          "height": 34
        },
        "outputId": "0163945b-b480-4a67-d706-75ca36760664",
        "executionInfo": {
          "status": "ok",
          "timestamp": 1522017232936,
          "user_tz": 240,
          "elapsed": 248,
          "user": {
            "displayName": "Sangtian Wang",
            "photoUrl": "https://lh3.googleusercontent.com/a/default-user=s128",
            "userId": "114974396457600215662"
          }
        }
      },
      "cell_type": "code",
      "source": [
        "# Verify that CUDA is properly configured and you have a GPU available\n",
        "\n",
        "torch.cuda.is_available()"
      ],
      "execution_count": 21,
      "outputs": [
        {
          "output_type": "execute_result",
          "data": {
            "text/plain": [
              "True"
            ]
          },
          "metadata": {
            "tags": []
          },
          "execution_count": 21
        }
      ]
    },
    {
      "metadata": {
        "id": "Yzyrd3C4Dkq4",
        "colab_type": "code",
        "colab": {
          "autoexec": {
            "startup": false,
            "wait_interval": 0
          },
          "output_extras": [
            {
              "item_id": 1
            }
          ],
          "base_uri": "https://localhost:8080/",
          "height": 34
        },
        "outputId": "c7df44e9-2991-48b3-85a9-be63335f8894",
        "executionInfo": {
          "status": "ok",
          "timestamp": 1522017234794,
          "user_tz": 240,
          "elapsed": 944,
          "user": {
            "displayName": "Sangtian Wang",
            "photoUrl": "https://lh3.googleusercontent.com/a/default-user=s128",
            "userId": "114974396457600215662"
          }
        }
      },
      "cell_type": "code",
      "source": [
        "fixed_model_gpu = copy.deepcopy(SangtianNet)#.type(gpu_dtype)\n",
        "fixed_model_gpu.cuda()\n",
        "x_gpu = torch.randn(4, 3, 64, 64).cuda()#.type(gpu_dtype)\n",
        "x_var_gpu = Variable(x_gpu)#type(gpu_dtype)) # Construct a PyTorch Variable out of your input data\n",
        "ans = fixed_model_gpu(x_var_gpu)        # Feed it through the model! \n",
        "\n",
        "# Check to make sure what comes out of your model\n",
        "# is the right dimensionality... this should be True\n",
        "# if you've done everything correctly\n",
        "np.array_equal(np.array(ans.size()), np.array([4, 10]))\n"
      ],
      "execution_count": 22,
      "outputs": [
        {
          "output_type": "execute_result",
          "data": {
            "text/plain": [
              "True"
            ]
          },
          "metadata": {
            "tags": []
          },
          "execution_count": 22
        }
      ]
    },
    {
      "metadata": {
        "id": "n7LtlnheDkq6",
        "colab_type": "text"
      },
      "cell_type": "markdown",
      "source": [
        "Run the following cell to evaluate the performance of the forward pass running on the CPU:"
      ]
    },
    {
      "metadata": {
        "id": "IlOrMC-ODkq7",
        "colab_type": "code",
        "colab": {
          "autoexec": {
            "startup": false,
            "wait_interval": 0
          },
          "output_extras": [
            {}
          ],
          "base_uri": "https://localhost:8080/",
          "height": 34
        },
        "outputId": "44b5c849-4069-42e2-9d38-7206c5a3b648",
        "executionInfo": {
          "status": "ok",
          "timestamp": 1522012117186,
          "user_tz": 240,
          "elapsed": 5065,
          "user": {
            "displayName": "Sangtian Wang",
            "photoUrl": "https://lh3.googleusercontent.com/a/default-user=s128",
            "userId": "114974396457600215662"
          }
        }
      },
      "cell_type": "code",
      "source": [
        "%%timeit \n",
        "ans = fixed_model(x_var)"
      ],
      "execution_count": 0,
      "outputs": [
        {
          "output_type": "stream",
          "text": [
            "10 loops, best of 3: 113 ms per loop\n"
          ],
          "name": "stdout"
        }
      ]
    },
    {
      "metadata": {
        "id": "n5CdEVkODkq8",
        "colab_type": "text"
      },
      "cell_type": "markdown",
      "source": [
        "... and now the GPU:"
      ]
    },
    {
      "metadata": {
        "id": "NtYY29wqDkq-",
        "colab_type": "code",
        "colab": {
          "autoexec": {
            "startup": false,
            "wait_interval": 0
          },
          "output_extras": [
            {}
          ],
          "base_uri": "https://localhost:8080/",
          "height": 34
        },
        "outputId": "db9ef264-a715-4756-c73d-c7fa9bbcf66a",
        "executionInfo": {
          "status": "ok",
          "timestamp": 1522012120927,
          "user_tz": 240,
          "elapsed": 2828,
          "user": {
            "displayName": "Sangtian Wang",
            "photoUrl": "https://lh3.googleusercontent.com/a/default-user=s128",
            "userId": "114974396457600215662"
          }
        }
      },
      "cell_type": "code",
      "source": [
        "%%timeit \n",
        "torch.cuda.synchronize() # Make sure there are no pending GPU computations\n",
        "ans = fixed_model_gpu(x_var_gpu)        # Feed it through the model! \n",
        "torch.cuda.synchronize() # Make sure there are no pending GPU computations"
      ],
      "execution_count": 0,
      "outputs": [
        {
          "output_type": "stream",
          "text": [
            "1000 loops, best of 3: 556 µs per loop\n"
          ],
          "name": "stdout"
        }
      ]
    },
    {
      "metadata": {
        "id": "ypTE3aY2DkrC",
        "colab_type": "text"
      },
      "cell_type": "markdown",
      "source": [
        "You should observe that even a simple forward pass like this is significantly faster on the GPU. So for the rest of the assignment (and when you go train your models in assignment 3 and your project!), you should use the GPU datatype for your model and your tensors: as a reminder that is *torch.cuda.FloatTensor* (in our notebook here as *gpu_dtype*)"
      ]
    },
    {
      "metadata": {
        "id": "bBm2vu5GDkrE",
        "colab_type": "text"
      },
      "cell_type": "markdown",
      "source": [
        "Let's make the loss function and training variables to GPU friendly format by '.cuda()'"
      ]
    },
    {
      "metadata": {
        "id": "BoSqpuS3DkrH",
        "colab_type": "code",
        "colab": {
          "autoexec": {
            "startup": false,
            "wait_interval": 0
          }
        }
      },
      "cell_type": "code",
      "source": [
        "def train(model, loss_fn, optimizer, dataloader, num_epochs = 1):\n",
        "    for epoch in range(num_epochs):\n",
        "        print('Starting epoch %d / %d' % (epoch + 1, num_epochs))\n",
        "        model.train()\n",
        "        for t, sample in enumerate(dataloader):\n",
        "            x_var = Variable(sample['image'].cuda())\n",
        "            y_var = Variable(sample['Label'].cuda().long())\n",
        "\n",
        "            scores = model(x_var)\n",
        "            \n",
        "            loss = loss_fn(scores, y_var)\n",
        "            if (t + 1) % print_every == 0:\n",
        "                print('t = %d, loss = %.4f' % (t + 1, loss.data[0]))\n",
        "\n",
        "            optimizer.zero_grad()\n",
        "            loss.backward()\n",
        "            optimizer.step()\n",
        "\n",
        "def check_accuracy(model, loader):\n",
        "    '''\n",
        "    if loader.dataset.train:\n",
        "        print('Checking accuracy on validation set')\n",
        "    else:\n",
        "        print('Checking accuracy on test set')  \n",
        "    '''\n",
        "    num_correct = 0\n",
        "    num_samples = 0\n",
        "    model.eval() # Put the model in test mode (the opposite of model.train(), essentially)\n",
        "    for t, sample in enumerate(loader):\n",
        "        x_var = Variable(sample['image'].cuda())\n",
        "        y_var = sample['Label'].cuda()\n",
        "        y_var=y_var.cpu()\n",
        "        scores = model(x_var)\n",
        "        _, preds = scores.data.cpu().max(1)\n",
        "        #print(preds)\n",
        "        #print(y_var)\n",
        "        num_correct += (preds.numpy() == y_var.numpy()).sum()\n",
        "        num_samples += preds.size(0)\n",
        "    acc = float(num_correct) / num_samples\n",
        "    print('Got %d / %d correct (%.2f)' % (num_correct, num_samples, 100 * acc))\n",
        "    \n",
        "def predict_on_test(model, loader):\n",
        "    '''\n",
        "    if loader.dataset.train:\n",
        "        print('Checking accuracy on validation set')\n",
        "    else:\n",
        "        print('Checking accuracy on test set')  \n",
        "    '''\n",
        "    num_correct = 0\n",
        "    num_samples = 0\n",
        "    model.eval() # Put the model in test mode (the opposite of model.train(), essentially)\n",
        "    results=open('results.csv','w')\n",
        "    count=0\n",
        "    results.write('Id'+','+'Class'+'\\n')\n",
        "    for t, sample in enumerate(loader):\n",
        "        x_var = Variable(sample['image'].cuda())\n",
        "        scores = model(x_var)\n",
        "        _, preds = scores.data.cpu().max(1)\n",
        "        for i in range(len(preds)):\n",
        "            results.write(str(count)+','+str(preds[i])+'\\n')\n",
        "            count+=1\n",
        "    results.close()\n",
        "    return count"
      ],
      "execution_count": 0,
      "outputs": []
    },
    {
      "metadata": {
        "id": "cl16Of_ODkrK",
        "colab_type": "text"
      },
      "cell_type": "markdown",
      "source": [
        "Run on GPU!"
      ]
    },
    {
      "metadata": {
        "id": "Zwfbx83AL-Dm",
        "colab_type": "code",
        "colab": {
          "autoexec": {
            "startup": false,
            "wait_interval": 0
          },
          "output_extras": [
            {
              "item_id": 93
            },
            {
              "item_id": 184
            },
            {
              "item_id": 240
            }
          ],
          "base_uri": "https://localhost:8080/",
          "height": 4114
        },
        "outputId": "8ae8d641-1ab9-4aed-9124-482f6c1c1d91",
        "executionInfo": {
          "status": "ok",
          "timestamp": 1522018291746,
          "user_tz": 240,
          "elapsed": 280455,
          "user": {
            "displayName": "Sangtian Wang",
            "photoUrl": "https://lh3.googleusercontent.com/a/default-user=s128",
            "userId": "114974396457600215662"
          }
        }
      },
      "cell_type": "code",
      "source": [
        "import copy\n",
        "gpu_dtype = torch.cuda.FloatTensor\n",
        "\n",
        "fixed_model_gpu = copy.deepcopy(SangtianNet)#.type(gpu_dtype)\n",
        "fixed_model_gpu.cuda()\n",
        "\n",
        "loss_fn = nn.CrossEntropyLoss().cuda()\n",
        "optimizer = optim.RMSprop(fixed_model_gpu.parameters(), lr=1e-4)\n",
        "torch.cuda.random.manual_seed(12345)\n",
        "\n",
        "fixed_model_gpu.apply(reset) \n",
        "fixed_model_gpu.train() \n",
        "train(fixed_model_gpu, loss_fn, optimizer,image_dataloader_train, num_epochs=30) \n",
        "check_accuracy(fixed_model_gpu, image_dataloader_train)# check accuracy on the training set\n"
      ],
      "execution_count": 25,
      "outputs": [
        {
          "output_type": "stream",
          "text": [
            "Starting epoch 1 / 30\n",
            "t = 100, loss = 2.0693\n",
            "t = 200, loss = 1.5772\n",
            "t = 300, loss = 1.6995\n",
            "t = 400, loss = 1.2566\n",
            "t = 500, loss = 1.4768\n",
            "t = 600, loss = 1.1206\n",
            "t = 700, loss = 1.1311\n",
            "Starting epoch 2 / 30\n",
            "t = 100, loss = 1.2700\n",
            "t = 200, loss = 0.8874\n",
            "t = 300, loss = 0.8177\n",
            "t = 400, loss = 1.0330\n",
            "t = 500, loss = 0.7702\n",
            "t = 600, loss = 1.0121\n",
            "t = 700, loss = 0.9854\n",
            "Starting epoch 3 / 30\n",
            "t = 100, loss = 0.7462\n",
            "t = 200, loss = 0.6832\n",
            "t = 300, loss = 0.7349\n",
            "t = 400, loss = 1.1285\n",
            "t = 500, loss = 0.8098\n",
            "t = 600, loss = 0.6417\n",
            "t = 700, loss = 0.6368\n",
            "Starting epoch 4 / 30\n",
            "t = 100, loss = 0.5982\n",
            "t = 200, loss = 0.7825\n",
            "t = 300, loss = 0.7758\n",
            "t = 400, loss = 0.6324\n",
            "t = 500, loss = 0.6409\n",
            "t = 600, loss = 0.3466\n",
            "t = 700, loss = 0.7380\n",
            "Starting epoch 5 / 30\n",
            "t = 100, loss = 0.5754\n",
            "t = 200, loss = 0.7341\n",
            "t = 300, loss = 0.5387\n",
            "t = 400, loss = 0.4036\n",
            "t = 500, loss = 0.4933\n",
            "t = 600, loss = 0.6391\n",
            "t = 700, loss = 0.3902\n",
            "Starting epoch 6 / 30\n",
            "t = 100, loss = 0.2717\n",
            "t = 200, loss = 0.5242\n",
            "t = 300, loss = 0.4308\n",
            "t = 400, loss = 0.6055\n",
            "t = 500, loss = 0.4070\n",
            "t = 600, loss = 0.3978\n",
            "t = 700, loss = 0.2534\n",
            "Starting epoch 7 / 30\n",
            "t = 100, loss = 0.5454\n",
            "t = 200, loss = 0.7524\n",
            "t = 300, loss = 0.3185\n",
            "t = 400, loss = 0.3792\n",
            "t = 500, loss = 0.6236\n",
            "t = 600, loss = 0.4817\n",
            "t = 700, loss = 0.2798\n",
            "Starting epoch 8 / 30\n",
            "t = 100, loss = 0.2923\n",
            "t = 200, loss = 0.2523\n",
            "t = 300, loss = 0.3051\n",
            "t = 400, loss = 0.3511\n",
            "t = 500, loss = 0.3492\n",
            "t = 600, loss = 0.4525\n",
            "t = 700, loss = 0.2885\n",
            "Starting epoch 9 / 30\n",
            "t = 100, loss = 0.2369\n",
            "t = 200, loss = 0.4333\n",
            "t = 300, loss = 0.2779\n",
            "t = 400, loss = 0.3015\n",
            "t = 500, loss = 0.3687\n",
            "t = 600, loss = 0.2553\n",
            "t = 700, loss = 0.6212\n",
            "Starting epoch 10 / 30\n",
            "t = 100, loss = 0.1868\n",
            "t = 200, loss = 0.2228\n",
            "t = 300, loss = 0.4328\n",
            "t = 400, loss = 0.3202\n",
            "t = 500, loss = 0.2823\n",
            "t = 600, loss = 0.2468\n",
            "t = 700, loss = 0.2603\n",
            "Starting epoch 11 / 30\n",
            "t = 100, loss = 0.3632\n",
            "t = 200, loss = 0.2138\n",
            "t = 300, loss = 0.1926\n",
            "t = 400, loss = 0.2910\n",
            "t = 500, loss = 0.1439\n",
            "t = 600, loss = 0.2296\n",
            "t = 700, loss = 0.1999\n",
            "Starting epoch 12 / 30\n",
            "t = 100, loss = 0.2214\n",
            "t = 200, loss = 0.6145\n",
            "t = 300, loss = 0.2326\n",
            "t = 400, loss = 0.1078\n"
          ],
          "name": "stdout"
        },
        {
          "output_type": "stream",
          "text": [
            "t = 500, loss = 0.1923\n",
            "t = 600, loss = 0.2539\n",
            "t = 700, loss = 0.1898\n",
            "Starting epoch 13 / 30\n",
            "t = 100, loss = 0.5879\n",
            "t = 200, loss = 0.1695\n",
            "t = 300, loss = 0.1839\n",
            "t = 400, loss = 0.0789\n",
            "t = 500, loss = 0.1919\n",
            "t = 600, loss = 0.2531\n",
            "t = 700, loss = 0.1246\n",
            "Starting epoch 14 / 30\n",
            "t = 100, loss = 0.1373\n",
            "t = 200, loss = 0.0524\n",
            "t = 300, loss = 0.2954\n",
            "t = 400, loss = 0.2752\n",
            "t = 500, loss = 0.1713\n",
            "t = 600, loss = 0.2351\n",
            "t = 700, loss = 0.0814\n",
            "Starting epoch 15 / 30\n",
            "t = 100, loss = 0.3433\n",
            "t = 200, loss = 0.2528\n",
            "t = 300, loss = 0.3184\n",
            "t = 400, loss = 0.2469\n",
            "t = 500, loss = 0.1612\n",
            "t = 600, loss = 0.1221\n",
            "t = 700, loss = 0.1667\n",
            "Starting epoch 16 / 30\n",
            "t = 100, loss = 0.2549\n",
            "t = 200, loss = 0.1825\n",
            "t = 300, loss = 0.1093\n",
            "t = 400, loss = 0.2354\n",
            "t = 500, loss = 0.0776\n",
            "t = 600, loss = 0.0372\n",
            "t = 700, loss = 0.3084\n",
            "Starting epoch 17 / 30\n",
            "t = 100, loss = 0.1790\n",
            "t = 200, loss = 0.3035\n",
            "t = 300, loss = 0.1184\n",
            "t = 400, loss = 0.1931\n",
            "t = 500, loss = 0.1157\n",
            "t = 600, loss = 0.1496\n",
            "t = 700, loss = 0.1620\n",
            "Starting epoch 18 / 30\n",
            "t = 100, loss = 0.1908\n",
            "t = 200, loss = 0.1124\n",
            "t = 300, loss = 0.1788\n",
            "t = 400, loss = 0.0926\n",
            "t = 500, loss = 0.0641\n",
            "t = 600, loss = 0.2175\n",
            "t = 700, loss = 0.0623\n",
            "Starting epoch 19 / 30\n",
            "t = 100, loss = 0.1596\n",
            "t = 200, loss = 0.2723\n",
            "t = 300, loss = 0.1163\n",
            "t = 400, loss = 0.1245\n",
            "t = 500, loss = 0.0901\n",
            "t = 600, loss = 0.2953\n",
            "t = 700, loss = 0.0629\n",
            "Starting epoch 20 / 30\n",
            "t = 100, loss = 0.1514\n",
            "t = 200, loss = 0.1594\n",
            "t = 300, loss = 0.1881\n",
            "t = 400, loss = 0.1614\n",
            "t = 500, loss = 0.1291\n",
            "t = 600, loss = 0.3600\n",
            "t = 700, loss = 0.1122\n",
            "Starting epoch 21 / 30\n",
            "t = 100, loss = 0.0789\n",
            "t = 200, loss = 0.1448\n",
            "t = 300, loss = 0.1781\n",
            "t = 400, loss = 0.1282\n",
            "t = 500, loss = 0.2386\n",
            "t = 600, loss = 0.1250\n",
            "t = 700, loss = 0.0963\n",
            "Starting epoch 22 / 30\n",
            "t = 100, loss = 0.1038\n",
            "t = 200, loss = 0.0771\n",
            "t = 300, loss = 0.1147\n",
            "t = 400, loss = 0.0774\n",
            "t = 500, loss = 0.0993\n",
            "t = 600, loss = 0.1151\n",
            "t = 700, loss = 0.1278\n",
            "Starting epoch 23 / 30\n",
            "t = 100, loss = 0.0926\n",
            "t = 200, loss = 0.1762\n",
            "t = 300, loss = 0.1589\n",
            "t = 400, loss = 0.1004\n",
            "t = 500, loss = 0.1498\n",
            "t = 600, loss = 0.1572\n",
            "t = 700, loss = 0.0225\n",
            "Starting epoch 24 / 30\n"
          ],
          "name": "stdout"
        },
        {
          "output_type": "stream",
          "text": [
            "t = 100, loss = 0.0467\n",
            "t = 200, loss = 0.2961\n",
            "t = 300, loss = 0.1209\n",
            "t = 400, loss = 0.0441\n",
            "t = 500, loss = 0.0194\n",
            "t = 600, loss = 0.0332\n",
            "t = 700, loss = 0.1001\n",
            "Starting epoch 25 / 30\n",
            "t = 100, loss = 0.1877\n",
            "t = 200, loss = 0.0372\n",
            "t = 300, loss = 0.1636\n",
            "t = 400, loss = 0.1127\n",
            "t = 500, loss = 0.2388\n",
            "t = 600, loss = 0.1656\n",
            "t = 700, loss = 0.0393\n",
            "Starting epoch 26 / 30\n",
            "t = 100, loss = 0.0271\n",
            "t = 200, loss = 0.1058\n",
            "t = 300, loss = 0.1910\n",
            "t = 400, loss = 0.0386\n",
            "t = 500, loss = 0.0324\n",
            "t = 600, loss = 0.0218\n",
            "t = 700, loss = 0.0362\n",
            "Starting epoch 27 / 30\n",
            "t = 100, loss = 0.0970\n",
            "t = 200, loss = 0.1145\n",
            "t = 300, loss = 0.1744\n",
            "t = 400, loss = 0.0562\n",
            "t = 500, loss = 0.0592\n",
            "t = 600, loss = 0.0500\n",
            "t = 700, loss = 0.3298\n",
            "Starting epoch 28 / 30\n",
            "t = 100, loss = 0.0659\n",
            "t = 200, loss = 0.3633\n",
            "t = 300, loss = 0.1133\n",
            "t = 400, loss = 0.0976\n",
            "t = 500, loss = 0.0307\n",
            "t = 600, loss = 0.0952\n",
            "t = 700, loss = 0.1529\n",
            "Starting epoch 29 / 30\n",
            "t = 100, loss = 0.0351\n",
            "t = 200, loss = 0.0607\n",
            "t = 300, loss = 0.0347\n",
            "t = 400, loss = 0.0378\n",
            "t = 500, loss = 0.0266\n",
            "t = 600, loss = 0.0449\n",
            "t = 700, loss = 0.0321\n",
            "Starting epoch 30 / 30\n",
            "t = 100, loss = 0.1783\n",
            "t = 200, loss = 0.0939\n",
            "t = 300, loss = 0.0293\n",
            "t = 400, loss = 0.1646\n",
            "t = 500, loss = 0.0113\n",
            "t = 600, loss = 0.0481\n",
            "t = 700, loss = 0.0925\n",
            "Got 23106 / 23310 correct (99.12)\n"
          ],
          "name": "stdout"
        }
      ]
    },
    {
      "metadata": {
        "id": "fE7jbzLV39AU",
        "colab_type": "code",
        "colab": {
          "autoexec": {
            "startup": false,
            "wait_interval": 0
          },
          "output_extras": [
            {
              "item_id": 2
            }
          ],
          "base_uri": "https://localhost:8080/",
          "height": 51
        },
        "outputId": "400ec1bc-a277-4d20-80d4-ad0cd0919178",
        "executionInfo": {
          "status": "ok",
          "timestamp": 1522018301564,
          "user_tz": 240,
          "elapsed": 6060,
          "user": {
            "displayName": "Sangtian Wang",
            "photoUrl": "https://lh3.googleusercontent.com/a/default-user=s128",
            "userId": "114974396457600215662"
          }
        }
      },
      "cell_type": "code",
      "source": [
        "check_accuracy(fixed_model_gpu, image_dataloader_val)# check accuracy on the training set\n",
        "count=predict_on_test(fixed_model_gpu, image_dataloader_test)\n",
        "print(count)"
      ],
      "execution_count": 26,
      "outputs": [
        {
          "output_type": "stream",
          "text": [
            "Got 4218 / 6690 correct (63.05)\n",
            "9810\n"
          ],
          "name": "stdout"
        }
      ]
    },
    {
      "metadata": {
        "id": "ALVVasXQOyvA",
        "colab_type": "code",
        "colab": {
          "autoexec": {
            "startup": false,
            "wait_interval": 0
          }
        }
      },
      "cell_type": "code",
      "source": [
        "from google.colab import files\n",
        "files.download('results.csv')"
      ],
      "execution_count": 0,
      "outputs": []
    },
    {
      "metadata": {
        "id": "XkVzmlIWDkrM",
        "colab_type": "text"
      },
      "cell_type": "markdown",
      "source": [
        "### 3D Convolution on video clips (25 points+10 extra points)\n",
        "3D convolution is for videos, it has one more dimension than 2d convolution. You can find the document for 3D convolution here http://pytorch.org/docs/master/nn.html#torch.nn.Conv3dIn. In our dataset, each clip is a video of 3 frames. Lets classify the each clip rather than each image using 3D convolution.\n",
        "We offer the data loader, the train_3d and check_accuracy"
      ]
    },
    {
      "metadata": {
        "id": "W3jbqg97DkrM",
        "colab_type": "code",
        "colab": {
          "autoexec": {
            "startup": false,
            "wait_interval": 0
          }
        }
      },
      "cell_type": "code",
      "source": [
        "class ActionClipDataset(Dataset):\n",
        "    \"\"\"Action Landmarks dataset.\"\"\"\n",
        "\n",
        "    def __init__(self,  root_dir,labels=[], transform=None):\n",
        "        \"\"\"\n",
        "        Args:\n",
        "            csv_file (string): Path to the csv file with annotations.\n",
        "            root_dir (string): Directory with all the images.\n",
        "            transform (callable, optional): Optional transform to be applied\n",
        "                on a sample.\n",
        "        \"\"\"\n",
        "        \n",
        "        self.root_dir = root_dir\n",
        "        self.transform = transform\n",
        "        self.length=len(os.listdir(self.root_dir))\n",
        "        self.labels=labels\n",
        "\n",
        "    def __len__(self):\n",
        "        return self.length\n",
        "\n",
        "    def __getitem__(self, idx):\n",
        "        \n",
        "        folder=idx+1\n",
        "        folder=format(folder,'05d')\n",
        "        clip=[]\n",
        "        if len(self.labels)!=0:\n",
        "            Label=self.labels[idx][0]-1\n",
        "        for i in range(3):\n",
        "            imidx=i+1\n",
        "            imgname=str(imidx)+'.jpg'\n",
        "            img_path = os.path.join(self.root_dir,\n",
        "                                    folder,imgname)\n",
        "            image = Image.open(img_path)\n",
        "            image=np.array(image)\n",
        "            clip.append(image)\n",
        "        if self.transform:\n",
        "            clip=np.asarray(clip)\n",
        "            clip=np.transpose(clip, (0,3,1,2))\n",
        "            clip = torch.from_numpy(np.asarray(clip))\n",
        "        if len(self.labels)!=0:\n",
        "            sample={'clip':clip,'Label':Label,'folder':folder}\n",
        "        else:\n",
        "            sample={'clip':clip,'folder':folder}\n",
        "        return sample\n",
        "\n",
        "clip_dataset=ActionClipDataset(root_dir='./data/trainClips/',\\\n",
        "                               labels=label_train,transform=T.ToTensor())#/home/tqvinh/Study/CSE512/cse512-s18/hw2data/trainClips/\n",
        "for i in range(10):\n",
        "    sample=clip_dataset[i]\n",
        "    print(sample['clip'].shape)\n",
        "    print(sample['Label'])\n",
        "    print(sample['folder'])"
      ],
      "execution_count": 0,
      "outputs": []
    },
    {
      "metadata": {
        "id": "heFnhBo9DkrO",
        "colab_type": "code",
        "colab": {
          "autoexec": {
            "startup": false,
            "wait_interval": 0
          }
        }
      },
      "cell_type": "code",
      "source": [
        "clip_dataloader = DataLoader(clip_dataset, batch_size=4,\n",
        "                        shuffle=True, num_workers=4)\n",
        "\n",
        "\n",
        "for i,sample in enumerate(clip_dataloader):\n",
        "    print(i,sample['clip'].shape,sample['folder'],sample['Label'])\n",
        "    if i>20: \n",
        "        break"
      ],
      "execution_count": 0,
      "outputs": []
    },
    {
      "metadata": {
        "id": "7yAs-eghDkrP",
        "colab_type": "code",
        "colab": {
          "autoexec": {
            "startup": false,
            "wait_interval": 0
          }
        }
      },
      "cell_type": "code",
      "source": [
        "clip_dataset_train=ActionClipDataset(root_dir='./data/trainClips/',labels=label_train,transform=T.ToTensor())\n",
        "\n",
        "clip_dataloader_train = DataLoader(clip_dataset_train, batch_size=16,\n",
        "                        shuffle=True, num_workers=4)\n",
        "clip_dataset_val=ActionClipDataset(root_dir='./data/valClips/',labels=label_val,transform=T.ToTensor())\n",
        "\n",
        "clip_dataloader_val = DataLoader(clip_dataset_val, batch_size=16,\n",
        "                        shuffle=True, num_workers=4)\n",
        "clip_dataset_test=ActionClipDataset(root_dir='./data/testClips/',labels=[],transform=T.ToTensor())\n",
        "\n",
        "clip_dataloader_test = DataLoader(clip_dataset_test, batch_size=16,\n",
        "                        shuffle=False, num_workers=4)"
      ],
      "execution_count": 0,
      "outputs": []
    },
    {
      "metadata": {
        "id": "wzD63NWoDkrR",
        "colab_type": "text"
      },
      "cell_type": "markdown",
      "source": [
        "Write the Flatten for 3d covolution feature maps."
      ]
    },
    {
      "metadata": {
        "id": "0kyOtSFYDkrS",
        "colab_type": "code",
        "colab": {
          "autoexec": {
            "startup": false,
            "wait_interval": 0
          }
        }
      },
      "cell_type": "code",
      "source": [
        "class Flatten3d(nn.Module):\n",
        "    def forward(self, x):\n",
        "        ###############6th To Do (5 points)###################\n",
        "        "
      ],
      "execution_count": 0,
      "outputs": []
    },
    {
      "metadata": {
        "id": "ZoTxT28HDkrS",
        "colab_type": "text"
      },
      "cell_type": "markdown",
      "source": [
        "Design a network using 3D convolution on videos for video classification."
      ]
    },
    {
      "metadata": {
        "id": "CIT688RyDkrT",
        "colab_type": "code",
        "colab": {
          "autoexec": {
            "startup": false,
            "wait_interval": 0
          }
        }
      },
      "cell_type": "code",
      "source": [
        "fixed_model_3d = nn.Sequential( # You fill this in!\n",
        "    ###############7th To Do (16 points)#########################\n",
        "   \n",
        "    \n",
        "    \n",
        "    \n",
        ")\n",
        "\n",
        "fixed_model_3d = fixed_model_3d.type(dtype)\n",
        "x = torch.randn(32,3, 3, 64, 64).type(dtype)\n",
        "x_var = Variable(x).type(dtype) # Construct a PyTorch Variable out of your input data\n",
        "ans = fixed_model_3d(x_var) \n",
        "np.array_equal(np.array(ans.size()), np.array([32, 10]))\n"
      ],
      "execution_count": 0,
      "outputs": []
    },
    {
      "metadata": {
        "id": "YzzqB8T-36y7",
        "colab_type": "code",
        "colab": {
          "autoexec": {
            "startup": false,
            "wait_interval": 0
          }
        }
      },
      "cell_type": "code",
      "source": [
        ""
      ],
      "execution_count": 0,
      "outputs": []
    },
    {
      "metadata": {
        "id": "hthXjCWzDkrU",
        "colab_type": "text"
      },
      "cell_type": "markdown",
      "source": [
        "### Describe what you did (4 points)\n",
        "\n",
        "In the cell below you should write an explanation of what you did, any additional features that you implemented, and any visualizations or graphs that you make in the process of training and evaluating your network."
      ]
    },
    {
      "metadata": {
        "id": "n-Lrx7vnDkrU",
        "colab_type": "text"
      },
      "cell_type": "markdown",
      "source": [
        "8th To Do\n",
        "Tell us here:"
      ]
    },
    {
      "metadata": {
        "id": "TI-lozNEDkrW",
        "colab_type": "code",
        "colab": {
          "autoexec": {
            "startup": false,
            "wait_interval": 0
          }
        }
      },
      "cell_type": "code",
      "source": [
        "loss_fn = nn.CrossEntropyLoss().type(dtype)\n",
        "optimizer = optim.RMSprop(fixed_model_3d.parameters(), lr=1e-4)\n"
      ],
      "execution_count": 0,
      "outputs": []
    },
    {
      "metadata": {
        "id": "CQtviLYSDkrY",
        "colab_type": "code",
        "colab": {
          "autoexec": {
            "startup": false,
            "wait_interval": 0
          }
        }
      },
      "cell_type": "code",
      "source": [
        "def train_3d(model, loss_fn, optimizer,dataloader,num_epochs = 1):\n",
        "    for epoch in range(num_epochs):\n",
        "        print('Starting epoch %d / %d' % (epoch + 1, num_epochs))\n",
        "        model.train()\n",
        "        for t, sample in enumerate(dataloader):\n",
        "            x_var = Variable(sample['clip'].type(dtype))\n",
        "            y_var = Variable(sample['Label'].type(dtype).long())\n",
        "\n",
        "            scores = model(x_var)\n",
        "            \n",
        "            loss = loss_fn(scores, y_var)\n",
        "            if (t + 1) % print_every == 0:\n",
        "                print('t = %d, loss = %.4f' % (t + 1, loss.data[0]))\n",
        "\n",
        "            optimizer.zero_grad()\n",
        "            loss.backward()\n",
        "            optimizer.step()\n",
        "\n",
        "def check_accuracy_3d(model, loader):\n",
        "    '''\n",
        "    if loader.dataset.train:\n",
        "        print('Checking accuracy on validation set')\n",
        "    else:\n",
        "        print('Checking accuracy on test set')  \n",
        "    '''\n",
        "    num_correct = 0\n",
        "    num_samples = 0\n",
        "    model.eval() # Put the model in test mode (the opposite of model.train(), essentially)\n",
        "    for t, sample in enumerate(loader):\n",
        "        x_var = Variable(sample['clip'].type(dtype))\n",
        "        y_var = sample['Label'].type(dtype)\n",
        "        y_var=y_var.cpu()\n",
        "        scores = model(x_var)\n",
        "        _, preds = scores.data.cpu().max(1)\n",
        "        #print(preds)\n",
        "        #print(y_var)\n",
        "        num_correct += (preds.numpy() == y_var.numpy()).sum()\n",
        "        num_samples += preds.size(0)\n",
        "    acc = float(num_correct) / num_samples\n",
        "    print('Got %d / %d correct (%.2f)' % (num_correct, num_samples, 100 * acc))"
      ],
      "execution_count": 0,
      "outputs": []
    },
    {
      "metadata": {
        "id": "xNPnvauEDkra",
        "colab_type": "code",
        "colab": {
          "autoexec": {
            "startup": false,
            "wait_interval": 0
          }
        }
      },
      "cell_type": "code",
      "source": [
        "torch.cuda.random.manual_seed(12345)\n",
        "fixed_model_3d.apply(reset) \n",
        "fixed_model_3d.train() \n",
        "train_3d(fixed_model_3d, loss_fn, optimizer,clip_dataloader_train, num_epochs=1) \n",
        "fixed_model_3d.eval() \n",
        "check_accuracy_3d(fixed_model_3d, clip_dataloader_val)"
      ],
      "execution_count": 0,
      "outputs": []
    },
    {
      "metadata": {
        "id": "jmO2ISOZDkrb",
        "colab_type": "text"
      },
      "cell_type": "markdown",
      "source": [
        "Test your 3d convolution model on the validation set. You don't need to submit the result of this part to kaggle.  "
      ]
    },
    {
      "metadata": {
        "id": "zLvuyAVLDkrb",
        "colab_type": "text"
      },
      "cell_type": "markdown",
      "source": [
        "Test your model on the test set, predict_on_test_3d() will generate a file named 'results_3d.csv'. Please submit the csv file to kaggle https://www.kaggle.com/c/cse512springhw3video\n",
        "The highest 3 entries get extra 10 points.\n"
      ]
    },
    {
      "metadata": {
        "id": "yQJ7-_zpDkrc",
        "colab_type": "code",
        "colab": {
          "autoexec": {
            "startup": false,
            "wait_interval": 0
          }
        }
      },
      "cell_type": "code",
      "source": [
        "def predict_on_test_3d(model, loader):\n",
        "    '''\n",
        "    if loader.dataset.train:\n",
        "        print('Checking accuracy on validation set')\n",
        "    else:\n",
        "        print('Checking accuracy on test set')  \n",
        "    '''\n",
        "    num_correct = 0\n",
        "    num_samples = 0\n",
        "    model.eval() # Put the model in test mode (the opposite of model.train(), essentially)\n",
        "    results=open('results_3d.csv','w')\n",
        "    count=0\n",
        "    results.write('Id'+','+'Class'+'\\n')\n",
        "    for t, sample in enumerate(loader):\n",
        "        x_var = Variable(sample['clip'].type(dtype))\n",
        "        scores = model(x_var)\n",
        "        _, preds = scores.data.max(1)\n",
        "        for i in range(len(preds)):\n",
        "            results.write(str(count)+','+str(preds[i])+'\\n')\n",
        "            count+=1\n",
        "    results.close()\n",
        "    return count\n",
        "    \n",
        "count=predict_on_test_3d(fixed_model_3d, clip_dataloader_test)\n",
        "print(count)"
      ],
      "execution_count": 0,
      "outputs": []
    },
    {
      "metadata": {
        "id": "YwXFts4tDkrg",
        "colab_type": "code",
        "colab": {
          "autoexec": {
            "startup": false,
            "wait_interval": 0
          }
        }
      },
      "cell_type": "code",
      "source": [
        ""
      ],
      "execution_count": 0,
      "outputs": []
    }
  ]
}